{
 "cells": [
  {
   "cell_type": "code",
   "execution_count": 2,
   "metadata": {},
   "outputs": [
    {
     "name": "stderr",
     "output_type": "stream",
     "text": [
      "/Library/Frameworks/Python.framework/Versions/3.8/lib/python3.8/site-packages/tqdm/auto.py:21: TqdmWarning: IProgress not found. Please update jupyter and ipywidgets. See https://ipywidgets.readthedocs.io/en/stable/user_install.html\n",
      "  from .autonotebook import tqdm as notebook_tqdm\n"
     ]
    }
   ],
   "source": [
    "import sys\n",
    "# sys.path.insert(0, '../GET')\n",
    "\n",
    "\n",
    "from Models.FCWithEvidences import graph_based_semantic_structure\n",
    "from Fitting.FittingFC import char_man_fitter_query_repr1\n",
    "import time\n",
    "import json\n",
    "from interactions import ClassificationInteractions\n",
    "import matchzoo as mz\n",
    "from handlers import cls_load_data\n",
    "import argparse\n",
    "import random\n",
    "import numpy as np\n",
    "import torch\n",
    "import torch_utils\n",
    "import numpy as np\n",
    "import os\n",
    "import datetime\n",
    "from handlers.output_handler_FC import FileHandlerFC\n",
    "from Evaluation import mzEvaluator as evaluator\n",
    "from setting_keywords import KeyWordSettings\n",
    "from matchzoo.embedding import entity_embedding\n",
    "from Models.BiDAF.wrapper import GGNN, GGNN_with_GSL, Linear\n",
    "from thirdparty.two_branches_attention import *\n"
   ]
  },
  {
   "cell_type": "code",
   "execution_count": 3,
   "metadata": {},
   "outputs": [
    {
     "data": {
      "text/plain": [
       "<torch._C.Generator at 0x7fc2e0a03230>"
      ]
     },
     "execution_count": 3,
     "metadata": {},
     "output_type": "execute_result"
    }
   ],
   "source": [
    "dataset=\"Snopes\"\n",
    "fixed_length_left=30\n",
    "fixed_length_right=100\n",
    "log=\"logs/testget\"\n",
    "loss_type=\"cross_entropy\"\n",
    "batch_size=32\n",
    "num_folds=5\n",
    "use_claim_source=0\n",
    "use_article_source=1\n",
    "path=\"formatted_data/declare/\"\n",
    "hidden_size=300\n",
    "epochs=100\n",
    "num_att_heads_for_words=5\n",
    "num_att_heads_for_evds=2\n",
    "gnn_window_size=3\n",
    "lr=0.0001\n",
    "gnn_dropout=0.2\n",
    "seed=123456\n",
    "gsl_rate=0.6\n",
    "fixed_length_left_src_chars = 20\n",
    "fixed_length_right_src_chars = 20\n",
    "seed = 123456\n",
    "random.seed(seed)\n",
    "np.random.seed(seed)\n",
    "torch.manual_seed(seed)"
   ]
  },
  {
   "cell_type": "code",
   "execution_count": 3,
   "metadata": {},
   "outputs": [],
   "source": [
    "# dataset=\"PolitiFact\"\n",
    "# fixed_length_left=30\n",
    "# fixed_length_right=100\n",
    "# log=\"logs/testget\"\n",
    "# loss_type=\"cross_entropy\"\n",
    "# batch_size=32\n",
    "# num_folds=5\n",
    "# use_claim_source=1\n",
    "# use_article_source=1\n",
    "# path=\"formatted_data/declare/\"\n",
    "# hidden_size=300\n",
    "# epochs=100\n",
    "# num_att_heads_for_words=3\n",
    "# num_att_heads_for_evds=1\n",
    "# gnn_window_size=3\n",
    "# lr=0.0001\n",
    "# gnn_dropout=0.2\n",
    "# seed=123456\n",
    "# gsl_rate=0.6\n",
    "# fixed_length_left_src_chars = 20\n",
    "# fixed_length_right_src_chars = 20\n",
    "# seed = 123456\n",
    "# random.seed(seed)\n",
    "# np.random.seed(seed)\n",
    "# torch.manual_seed(seed)"
   ]
  },
  {
   "cell_type": "code",
   "execution_count": 3,
   "metadata": {},
   "outputs": [],
   "source": [
    "preprocessor = mz.preprocessors.CharManPreprocessor(fixed_length_left = fixed_length_left,\n",
    "                                                    fixed_length_right = fixed_length_right,\n",
    "                                                    fixed_length_left_src = fixed_length_left_src_chars,\n",
    "                                                    fixed_length_right_src = fixed_length_right_src_chars)"
   ]
  },
  {
   "cell_type": "code",
   "execution_count": 4,
   "metadata": {},
   "outputs": [
    {
     "name": "stderr",
     "output_type": "stream",
     "text": [
      "100%|██████████| 5412/5412 [00:00<00:00, 67529.31it/s]\n",
      "100%|██████████| 5412/5412 [00:00<00:00, 653620.12it/s]\n",
      "100%|██████████| 21074/21074 [00:00<00:00, 82018.19it/s]\n",
      "100%|██████████| 21074/21074 [00:00<00:00, 792934.28it/s]\n",
      "100%|██████████| 2756/2756 [00:00<00:00, 83009.60it/s]\n",
      "100%|██████████| 2756/2756 [00:00<00:00, 773728.37it/s]\n"
     ]
    },
    {
     "name": "stdout",
     "output_type": "stream",
     "text": [
      "Min query length, 22 Min doc length 100\n",
      "Max query length, 28 Max doc length 100\n",
      "parsing data\n"
     ]
    },
    {
     "name": "stderr",
     "output_type": "stream",
     "text": [
      "Processing text_left with chain_transform of Tokenize => Lowercase => PuncRemoval: 100%|██████████| 3126/3126 [00:00<00:00, 10535.57it/s]\n",
      "Processing text_right with chain_transform of Tokenize => Lowercase => PuncRemoval: 100%|██████████| 21074/21074 [00:07<00:00, 2966.63it/s]\n",
      "Processing text_left with extend: 100%|██████████| 3126/3126 [00:00<00:00, 1060706.60it/s]\n",
      "Processing text_right with extend: 100%|██████████| 21074/21074 [00:00<00:00, 713352.24it/s]\n",
      "Building Vocabulary from a datapack.: 100%|██████████| 2129566/2129566 [00:00<00:00, 4426995.21it/s]\n",
      "Processing text_right with extend: 100%|██████████| 3126/3126 [00:00<00:00, 1049667.30it/s]\n",
      "Building Entities Vocabulary from a datapack.: 100%|██████████| 3126/3126 [00:00<00:00, 4665976.62it/s]\n",
      "Processing text_right with extend: 100%|██████████| 21074/21074 [00:00<00:00, 1102637.91it/s]\n",
      "Building Entities Vocabulary from a datapack.: 100%|██████████| 21074/21074 [00:00<00:00, 3686173.84it/s]\n",
      "Processing text_right with extend: 100%|██████████| 3126/3126 [00:00<00:00, 970711.06it/s]\n",
      "Processing text_right with extend: 100%|██████████| 21074/21074 [00:00<00:00, 551157.38it/s]\n",
      "Building Characters Vocabulary from a datapack.: 100%|██████████| 387165/387165 [00:00<00:00, 4529685.46it/s]\n",
      "Processing text_right with extend: 100%|██████████| 3126/3126 [00:00<00:00, 531708.27it/s]\n",
      "Processing text_right with extend: 100%|██████████| 3126/3126 [00:00<00:00, 635888.95it/s]\n",
      "Processing text_right with extend: 100%|██████████| 3126/3126 [00:00<00:00, 229332.44it/s]\n",
      "Processing text_right with extend: 100%|██████████| 21074/21074 [00:00<00:00, 732402.78it/s]\n",
      "Processing text_right with extend: 100%|██████████| 21074/21074 [00:00<00:00, 80495.89it/s]\n",
      "Processing text_right with extend: 100%|██████████| 21074/21074 [00:00<00:00, 136865.73it/s]\n",
      "Processing text_left with chain_transform of Tokenize => Lowercase => PuncRemoval: 100%|██████████| 3126/3126 [00:00<00:00, 11280.60it/s]\n",
      "Processing text_right with chain_transform of Tokenize => Lowercase => PuncRemoval: 100%|██████████| 21074/21074 [00:07<00:00, 2711.95it/s]\n",
      "Processing text_left with transform: 100%|██████████| 3126/3126 [00:00<00:00, 216957.53it/s]\n",
      "Processing text_right with transform: 100%|██████████| 21074/21074 [00:00<00:00, 36918.00it/s]\n",
      "Processing length_left with len: 100%|██████████| 3126/3126 [00:00<00:00, 807948.87it/s]\n",
      "Processing length_right with len: 100%|██████████| 21074/21074 [00:00<00:00, 1087364.37it/s]\n",
      "Processing text_left with transform: 100%|██████████| 3126/3126 [00:00<00:00, 107990.93it/s]\n",
      "Processing text_right with transform: 100%|██████████| 21074/21074 [00:00<00:00, 63760.15it/s]\n",
      "Processing text_right with transform: 100%|██████████| 433/433 [00:00<00:00, 538432.74it/s]\n",
      "Processing text_right with transform: 100%|██████████| 433/433 [00:00<00:00, 355477.32it/s]\n",
      "Processing text_right with transform: 100%|██████████| 433/433 [00:00<00:00, 187617.11it/s]\n",
      "Processing text_right with transform: 100%|██████████| 2756/2756 [00:00<00:00, 258007.32it/s]\n",
      "Processing text_right with transform: 100%|██████████| 2756/2756 [00:00<00:00, 284471.56it/s]\n",
      "Processing text_right with transform: 100%|██████████| 2756/2756 [00:00<00:00, 178439.69it/s]\n",
      "Processing text_left with chain_transform of Tokenize => Lowercase => PuncRemoval: 100%|██████████| 433/433 [00:00<00:00, 11496.34it/s]\n",
      "Processing text_right with chain_transform of Tokenize => Lowercase => PuncRemoval: 100%|██████████| 2756/2756 [00:01<00:00, 2243.21it/s]\n",
      "Processing text_left with transform: 100%|██████████| 433/433 [00:00<00:00, 144977.54it/s]\n",
      "Processing text_right with transform: 100%|██████████| 2756/2756 [00:00<00:00, 45824.85it/s]\n",
      "Processing length_left with len: 100%|██████████| 433/433 [00:00<00:00, 616683.75it/s]\n",
      "Processing length_right with len: 100%|██████████| 2756/2756 [00:00<00:00, 1113954.11it/s]\n",
      "Processing text_left with transform: 100%|██████████| 433/433 [00:00<00:00, 169795.59it/s]\n",
      "Processing text_right with transform: 100%|██████████| 2756/2756 [00:00<00:00, 51217.36it/s]\n",
      "Processing text_right with transform: 100%|██████████| 782/782 [00:00<00:00, 565020.80it/s]\n",
      "Processing text_right with transform: 100%|██████████| 782/782 [00:00<00:00, 428079.58it/s]\n",
      "Processing text_right with transform: 100%|██████████| 782/782 [00:00<00:00, 193804.40it/s]\n",
      "Processing text_right with transform: 100%|██████████| 5412/5412 [00:00<00:00, 488804.09it/s]\n",
      "Processing text_right with transform: 100%|██████████| 5412/5412 [00:00<00:00, 243455.78it/s]\n",
      "Processing text_right with transform: 100%|██████████| 5412/5412 [00:00<00:00, 169474.42it/s]\n",
      "Processing text_left with chain_transform of Tokenize => Lowercase => PuncRemoval: 100%|██████████| 782/782 [00:00<00:00, 6444.05it/s]\n",
      "Processing text_right with chain_transform of Tokenize => Lowercase => PuncRemoval: 100%|██████████| 5412/5412 [00:01<00:00, 2845.26it/s]\n",
      "Processing text_left with transform: 100%|██████████| 782/782 [00:00<00:00, 157349.28it/s]\n",
      "Processing text_right with transform: 100%|██████████| 5412/5412 [00:00<00:00, 39445.21it/s]\n",
      "Processing length_left with len: 100%|██████████| 782/782 [00:00<00:00, 590236.77it/s]\n",
      "Processing length_right with len: 100%|██████████| 5412/5412 [00:00<00:00, 1093533.73it/s]\n",
      "Processing text_left with transform: 100%|██████████| 782/782 [00:00<00:00, 149496.16it/s]\n",
      "Processing text_right with transform: 100%|██████████| 5412/5412 [00:00<00:00, 54382.74it/s]"
     ]
    },
    {
     "name": "stdout",
     "output_type": "stream",
     "text": [
      "Converting DataFrame to Normal Dictionary of Data\n",
      "[NOTICE] MatchZoo use queryID and docID as index in dataframe left and right, therefore, iterrows will return index which is left_id or right_id\n"
     ]
    },
    {
     "name": "stderr",
     "output_type": "stream",
     "text": [
      "\n",
      "/Users/namle/Library/CloudStorage/GoogleDrive-hcmutepfl@gmail.com/My Drive/GET/interactions.py:15: RuntimeWarning: divide by zero encountered in power\n",
      "  d_inv_sqrt = np.power(rowsum, -0.5).flatten()\n"
     ]
    },
    {
     "name": "stdout",
     "output_type": "stream",
     "text": [
      "[NOTICE] MatchZoo use queryID and docID as index in dataframe left and right, therefore, iterrows will return index which is left_id or right_id\n",
      "Converting DataFrame to Normal Dictionary of Data\n",
      "[NOTICE] MatchZoo use queryID and docID as index in dataframe left and right, therefore, iterrows will return index which is left_id or right_id\n",
      "[NOTICE] MatchZoo use queryID and docID as index in dataframe left and right, therefore, iterrows will return index which is left_id or right_id\n",
      "Converting DataFrame to Normal Dictionary of Data\n",
      "[NOTICE] MatchZoo use queryID and docID as index in dataframe left and right, therefore, iterrows will return index which is left_id or right_id\n",
      "[NOTICE] MatchZoo use queryID and docID as index in dataframe left and right, therefore, iterrows will return index which is left_id or right_id\n",
      "done extracting\n"
     ]
    }
   ],
   "source": [
    "dataset=\"Snopes\"\n",
    "fixed_length_left=30\n",
    "fixed_length_right=100\n",
    "log=\"logs/get\"\n",
    "batch_size=32\n",
    "gnn_window_size=3\n",
    "fold_idx=0\n",
    "if not os.path.exists(log):\n",
    "      os.mkdir(log)\n",
    "secondary_log_folder = os.path.join(log, \"log_results_%s\" % (dataset))\n",
    "if not os.path.exists(secondary_log_folder):\n",
    "  os.mkdir(secondary_log_folder)\n",
    "secondary_log_folder = secondary_log_folder\n",
    "root = os.path.join(os.path.join(path,dataset), \"mapped_data\")\n",
    "tx = time.time()\n",
    "kfold_dev_results, kfold_test_results = [], []\n",
    "list_metrics = KeyWordSettings.CLS_METRICS\n",
    "outfolder_per_fold = os.path.join(secondary_log_folder, \"Fold_%s\" % fold_idx)\n",
    "if not os.path.exists(outfolder_per_fold):\n",
    "    os.mkdir(outfolder_per_fold)\n",
    "logfolder_result_per_fold = os.path.join(outfolder_per_fold, \"result_%s.txt\" % int(seed))\n",
    "file_handler = FileHandlerFC()\n",
    "file_handler.init_log_files(logfolder_result_per_fold)\n",
    "# root =\"/content/drive/MyDrive/GET/formatted_data/declare/Snopes/mapped_data\"\n",
    "# ------------------------------------------------------------------------------------\n",
    "predict_pack = cls_load_data.load_data(root + \"/%sfold\" % num_folds,  'test_%s' % 0, kfolds = num_folds)\n",
    "train_pack = cls_load_data.load_data(root + \"/%sfold\" % num_folds, 'train_%sres' % 0, kfolds = num_folds)\n",
    "# predict_pack = cls_load_data.load_data(root + \"/%sfold\" % num_folds,  'testnew' , kfolds = num_folds)\n",
    "# train_pack = cls_load_data.load_data(root + \"/%sfold\" % num_folds, 'trainnew' , kfolds = num_folds)\n",
    "valid_pack = cls_load_data.load_data(root, 'dev', kfolds = num_folds)\n",
    "\n",
    "a = train_pack.left[\"text_left\"].str.lower().str.split().apply(len).max()\n",
    "b = valid_pack.left[\"text_left\"].str.lower().str.split().apply(len).max()\n",
    "c = predict_pack.left[\"text_left\"].str.lower().str.split().apply(len).max()\n",
    "max_query_length = max([a, b, c])\n",
    "min_query_length = min([a, b, c])\n",
    "\n",
    "a = train_pack.right[\"text_right\"].str.lower().str.split().apply(len).max()\n",
    "b = valid_pack.right[\"text_right\"].str.lower().str.split().apply(len).max()\n",
    "c = predict_pack.right[\"text_right\"].str.lower().str.split().apply(len).max()\n",
    "max_doc_length = max([a, b, c])\n",
    "min_doc_length = min([a, b, c])\n",
    "\n",
    "file_handler.myprint(\"Min query length, \" + str(min_query_length) + \" Min doc length \" + str(min_doc_length))\n",
    "file_handler.myprint(\"Max query length, \" + str(max_query_length) + \" Max doc length \" + str(max_doc_length))\n",
    "global additional_data\n",
    "additional_data = {KeyWordSettings.OutputHandlerFactChecking: file_handler,\n",
    "                    KeyWordSettings.GNN_Window: gnn_window_size}\n",
    "\n",
    "print('parsing data')\n",
    "\n",
    "train_processed = preprocessor.fit_transform(train_pack)  # This is a DataPack\n",
    "valid_processed = preprocessor.transform(valid_pack)\n",
    "predict_processed = preprocessor.transform(predict_pack)\n",
    "\n",
    "\n",
    "train_interactions = ClassificationInteractions(train_processed, **additional_data)\n",
    "valid_interactions = ClassificationInteractions(valid_processed, **additional_data)\n",
    "predict_interactions = ClassificationInteractions(predict_processed, **additional_data)\n",
    "file_handler.myprint('done extracting')\n",
    "  "
   ]
  },
  {
   "cell_type": "code",
   "execution_count": 5,
   "metadata": {},
   "outputs": [
    {
     "name": "stdout",
     "output_type": "stream",
     "text": [
      "Loading word embeddings......\n",
      "Word hit: (32823, 49881) 65.8026102123053\n",
      "Time to load word embeddings...... 2.851768732070923\n"
     ]
    }
   ],
   "source": [
    "print(\"Loading word embeddings......\")\n",
    "t1_emb = time.time()\n",
    "term_index = preprocessor.context['vocab_unit'].state['term_index']\n",
    "glove_embedding = mz.datasets.embeddings.load_glove_embedding_FC(dimension = 300,\n",
    "                                                                  term_index = term_index, **additional_data)\n",
    "\n",
    "embedding_matrix = glove_embedding.build_matrix(term_index)\n",
    "entity_embs1 = entity_embedding.EntityEmbedding(128)\n",
    "claim_src_embs_matrix = entity_embs1.build_matrix(preprocessor.context['claim_source_unit'].state['term_index'])\n",
    "\n",
    "entity_embs2 = entity_embedding.EntityEmbedding(128)\n",
    "article_src_embs_matrix = entity_embs2.build_matrix(preprocessor.context['article_source_unit'].state['term_index'])\n",
    "\n",
    "t2_emb = time.time()\n",
    "print(\"Time to load word embeddings......\", (t2_emb - t1_emb))"
   ]
  },
  {
   "cell_type": "code",
   "execution_count": null,
   "metadata": {},
   "outputs": [
    {
     "data": {
      "text/plain": [
       "(49881, 300)"
      ]
     },
     "execution_count": 7,
     "metadata": {},
     "output_type": "execute_result"
    }
   ],
   "source": [
    "embedding_matrix.shape"
   ]
  },
  {
   "cell_type": "code",
   "execution_count": 6,
   "metadata": {},
   "outputs": [
    {
     "ename": "AttributeError",
     "evalue": "'super' object has no attribute '__inigt__'",
     "output_type": "error",
     "traceback": [
      "\u001b[0;31m---------------------------------------------------------------------------\u001b[0m",
      "\u001b[0;31mAttributeError\u001b[0m                            Traceback (most recent call last)",
      "Cell \u001b[0;32mIn[6], line 42\u001b[0m\n\u001b[1;32m     40\u001b[0m file_handler \u001b[38;5;241m=\u001b[39m FileHandlerFC()\n\u001b[1;32m     41\u001b[0m seed \u001b[38;5;241m=\u001b[39m \u001b[38;5;241m123456\u001b[39m\n\u001b[0;32m---> 42\u001b[0m fit_model \u001b[38;5;241m=\u001b[39m \u001b[43mchar_man_fitter_query_repr1\u001b[49m\u001b[38;5;241;43m.\u001b[39;49m\u001b[43mCharManFitterQueryRepr1\u001b[49m\u001b[43m(\u001b[49m\u001b[43mnet\u001b[49m\u001b[43m \u001b[49m\u001b[38;5;241;43m=\u001b[39;49m\u001b[43m \u001b[49m\u001b[43mmatch_model\u001b[49m\u001b[43m,\u001b[49m\u001b[43m \u001b[49m\u001b[43mloss\u001b[49m\u001b[43m \u001b[49m\u001b[38;5;241;43m=\u001b[39;49m\u001b[43m \u001b[49m\u001b[43mloss_type\u001b[49m\u001b[43m,\u001b[49m\u001b[43m \u001b[49m\u001b[43mn_iter\u001b[49m\u001b[43m \u001b[49m\u001b[38;5;241;43m=\u001b[39;49m\u001b[43m \u001b[49m\u001b[43mepochs\u001b[49m\u001b[43m,\u001b[49m\n\u001b[1;32m     43\u001b[0m \u001b[43m                                                  \u001b[49m\u001b[43mbatch_size\u001b[49m\u001b[43m \u001b[49m\u001b[38;5;241;43m=\u001b[39;49m\u001b[43m \u001b[49m\u001b[43mbatch_size\u001b[49m\u001b[43m,\u001b[49m\u001b[43m \u001b[49m\u001b[43mlearning_rate\u001b[49m\u001b[43m \u001b[49m\u001b[38;5;241;43m=\u001b[39;49m\u001b[43m \u001b[49m\u001b[43mlr\u001b[49m\u001b[43m,\u001b[49m\n\u001b[1;32m     44\u001b[0m \u001b[43m                                                  \u001b[49m\u001b[43mearly_stopping\u001b[49m\u001b[43m \u001b[49m\u001b[38;5;241;43m=\u001b[39;49m\u001b[43m \u001b[49m\u001b[43mearly_stopping\u001b[49m\u001b[43m,\u001b[49m\u001b[43m \u001b[49m\u001b[43muse_cuda\u001b[49m\u001b[43m \u001b[49m\u001b[38;5;241;43m=\u001b[39;49m\u001b[43m \u001b[49m\u001b[38;5;241;43m0\u001b[39;49m\u001b[43m,\u001b[49m\n\u001b[1;32m     45\u001b[0m \u001b[43m                                                  \u001b[49m\u001b[43mlogfolder\u001b[49m\u001b[43m \u001b[49m\u001b[38;5;241;43m=\u001b[39;49m\u001b[43m \u001b[49m\u001b[43moutfolder_per_fold\u001b[49m\u001b[43m,\u001b[49m\u001b[43m \u001b[49m\u001b[43mcurr_date\u001b[49m\u001b[43m \u001b[49m\u001b[38;5;241;43m=\u001b[39;49m\u001b[43m \u001b[49m\u001b[43mcurr_date\u001b[49m\u001b[43m,\u001b[49m\n\u001b[1;32m     46\u001b[0m \u001b[43m                                                  \u001b[49m\u001b[43mfixed_num_evidences\u001b[49m\u001b[43m \u001b[49m\u001b[38;5;241;43m=\u001b[39;49m\u001b[43m \u001b[49m\u001b[43mfixed_num_evidences\u001b[49m\u001b[43m,\u001b[49m\n\u001b[1;32m     47\u001b[0m \u001b[43m                                                  \u001b[49m\u001b[43moutput_handler_fact_checking\u001b[49m\u001b[43m \u001b[49m\u001b[38;5;241;43m=\u001b[39;49m\u001b[43m \u001b[49m\u001b[43mfile_handler\u001b[49m\u001b[43m,\u001b[49m\u001b[43m \u001b[49m\u001b[43mseed\u001b[49m\u001b[38;5;241;43m=\u001b[39;49m\u001b[43mseed\u001b[49m\u001b[43m,\u001b[49m\n\u001b[1;32m     48\u001b[0m \u001b[43m                                                  \u001b[49m\u001b[43moutput_size\u001b[49m\u001b[38;5;241;43m=\u001b[39;49m\u001b[43mmatch_params\u001b[49m\u001b[43m[\u001b[49m\u001b[38;5;124;43m\"\u001b[39;49m\u001b[38;5;124;43moutput_size\u001b[39;49m\u001b[38;5;124;43m\"\u001b[39;49m\u001b[43m]\u001b[49m\u001b[43m,\u001b[49m\u001b[43margs\u001b[49m\u001b[38;5;241;43m=\u001b[39;49m\u001b[38;5;124;43m\"\u001b[39;49m\u001b[38;5;124;43margs\u001b[39;49m\u001b[38;5;124;43m\"\u001b[39;49m\u001b[43m)\u001b[49m\n",
      "File \u001b[0;32m~/Library/CloudStorage/GoogleDrive-hcmutepfl@gmail.com/My Drive/GET/Fitting/FittingFC/char_man_fitter_query_repr1.py:77\u001b[0m, in \u001b[0;36mCharManFitterQueryRepr1.__init__\u001b[0;34m(self, net, loss, n_iter, testing_epochs, batch_size, reg_l2, learning_rate, early_stopping, decay_step, decay_weight, optimizer_func, use_cuda, num_negative_samples, logfolder, curr_date, seed, **kargs)\u001b[0m\n\u001b[1;32m     60\u001b[0m \u001b[38;5;28;01mdef\u001b[39;00m \u001b[38;5;21m__init__\u001b[39m(\u001b[38;5;28mself\u001b[39m, net: base_model\u001b[38;5;241m.\u001b[39mBaseModel,\n\u001b[1;32m     61\u001b[0m              loss\u001b[38;5;241m=\u001b[39m\u001b[38;5;124m\"\u001b[39m\u001b[38;5;124mbpr\u001b[39m\u001b[38;5;124m\"\u001b[39m,\n\u001b[1;32m     62\u001b[0m              n_iter\u001b[38;5;241m=\u001b[39m\u001b[38;5;241m100\u001b[39m,\n\u001b[0;32m   (...)\u001b[0m\n\u001b[1;32m     75\u001b[0m              seed\u001b[38;5;241m=\u001b[39m\u001b[38;5;28;01mNone\u001b[39;00m,\n\u001b[1;32m     76\u001b[0m              \u001b[38;5;241m*\u001b[39m\u001b[38;5;241m*\u001b[39mkargs):\n\u001b[0;32m---> 77\u001b[0m     \u001b[38;5;28;43msuper\u001b[39;49m\u001b[43m(\u001b[49m\u001b[43mCharManFitterQueryRepr1\u001b[49m\u001b[43m,\u001b[49m\u001b[43m \u001b[49m\u001b[38;5;28;43mself\u001b[39;49m\u001b[43m)\u001b[49m\u001b[38;5;241;43m.\u001b[39;49m\u001b[38;5;21;43m__init__\u001b[39;49m\u001b[43m(\u001b[49m\u001b[43mnet\u001b[49m\u001b[43m,\u001b[49m\u001b[43m \u001b[49m\u001b[43mloss\u001b[49m\u001b[43m,\u001b[49m\u001b[43m \u001b[49m\u001b[43mn_iter\u001b[49m\u001b[43m,\u001b[49m\u001b[43m \u001b[49m\u001b[43mtesting_epochs\u001b[49m\u001b[43m,\u001b[49m\u001b[43m \u001b[49m\u001b[43mbatch_size\u001b[49m\u001b[43m,\u001b[49m\u001b[43m \u001b[49m\u001b[43mreg_l2\u001b[49m\u001b[43m,\u001b[49m\u001b[43m \u001b[49m\u001b[43mlearning_rate\u001b[49m\u001b[43m,\u001b[49m\n\u001b[1;32m     78\u001b[0m \u001b[43m                                        \u001b[49m\u001b[43mearly_stopping\u001b[49m\u001b[43m,\u001b[49m\u001b[43m \u001b[49m\u001b[43mdecay_step\u001b[49m\u001b[43m,\u001b[49m\u001b[43m \u001b[49m\u001b[43mdecay_weight\u001b[49m\u001b[43m,\u001b[49m\u001b[43m \u001b[49m\u001b[43moptimizer_func\u001b[49m\u001b[43m,\u001b[49m\n\u001b[1;32m     79\u001b[0m \u001b[43m                                        \u001b[49m\u001b[43muse_cuda\u001b[49m\u001b[43m,\u001b[49m\u001b[43m \u001b[49m\u001b[43mnum_negative_samples\u001b[49m\u001b[43m,\u001b[49m\u001b[43m \u001b[49m\u001b[43mlogfolder\u001b[49m\u001b[43m,\u001b[49m\u001b[43m \u001b[49m\u001b[43mcurr_date\u001b[49m\u001b[43m,\u001b[49m\u001b[43m \u001b[49m\u001b[43mseed\u001b[49m\u001b[43m,\u001b[49m\u001b[43m \u001b[49m\u001b[38;5;241;43m*\u001b[39;49m\u001b[38;5;241;43m*\u001b[39;49m\u001b[43mkargs\u001b[49m\u001b[43m)\u001b[49m\n\u001b[1;32m     80\u001b[0m     \u001b[38;5;28mself\u001b[39m\u001b[38;5;241m.\u001b[39moutput_size \u001b[38;5;241m=\u001b[39m kargs[\u001b[38;5;124m\"\u001b[39m\u001b[38;5;124moutput_size\u001b[39m\u001b[38;5;124m\"\u001b[39m]\n\u001b[1;32m     81\u001b[0m     \u001b[38;5;66;03m# self.radius=torch.tensor(0, device=f'cuda:0')\u001b[39;00m\n",
      "File \u001b[0;32m~/Library/CloudStorage/GoogleDrive-hcmutepfl@gmail.com/My Drive/GET/Fitting/FittingFC/multi_level_attention_composite_fitter.py:37\u001b[0m, in \u001b[0;36mMultiLevelAttentionCompositeFitter.__init__\u001b[0;34m(self, net, loss, n_iter, testing_epochs, batch_size, reg_l2, learning_rate, early_stopping, decay_step, decay_weight, optimizer_func, use_cuda, num_negative_samples, logfolder, curr_date, seed, **kargs)\u001b[0m\n\u001b[1;32m     20\u001b[0m \u001b[38;5;28;01mdef\u001b[39;00m \u001b[38;5;21m__init__\u001b[39m(\u001b[38;5;28mself\u001b[39m, net: base_model\u001b[38;5;241m.\u001b[39mBaseModel,\n\u001b[1;32m     21\u001b[0m              loss \u001b[38;5;241m=\u001b[39m \u001b[38;5;124m\"\u001b[39m\u001b[38;5;124mbpr\u001b[39m\u001b[38;5;124m\"\u001b[39m,\n\u001b[1;32m     22\u001b[0m              n_iter \u001b[38;5;241m=\u001b[39m \u001b[38;5;241m100\u001b[39m,\n\u001b[0;32m   (...)\u001b[0m\n\u001b[1;32m     35\u001b[0m              seed \u001b[38;5;241m=\u001b[39m \u001b[38;5;28;01mNone\u001b[39;00m,\n\u001b[1;32m     36\u001b[0m              \u001b[38;5;241m*\u001b[39m\u001b[38;5;241m*\u001b[39mkargs):\n\u001b[0;32m---> 37\u001b[0m     \u001b[38;5;28;43msuper\u001b[39;49m\u001b[43m(\u001b[49m\u001b[43mDeclareFitter\u001b[49m\u001b[43m,\u001b[49m\u001b[43m \u001b[49m\u001b[38;5;28;43mself\u001b[39;49m\u001b[43m)\u001b[49m\u001b[38;5;241;43m.\u001b[39;49m\u001b[43m__inigt__\u001b[49m(net, loss, n_iter, testing_epochs, batch_size, reg_l2, learning_rate,\n\u001b[1;32m     38\u001b[0m                                         early_stopping, decay_step, decay_weight, optimizer_func,\n\u001b[1;32m     39\u001b[0m                                         use_cuda, num_negative_samples, logfolder, curr_date, seed, \u001b[38;5;241m*\u001b[39m\u001b[38;5;241m*\u001b[39mkargs)\n\u001b[1;32m     40\u001b[0m     \u001b[38;5;28mself\u001b[39m\u001b[38;5;241m.\u001b[39mfixed_num_evidences \u001b[38;5;241m=\u001b[39m kargs[KeyWordSettings\u001b[38;5;241m.\u001b[39mFIXED_NUM_EVIDENCES]\n\u001b[1;32m     41\u001b[0m     \u001b[38;5;28mself\u001b[39m\u001b[38;5;241m.\u001b[39moutput_handler \u001b[38;5;241m=\u001b[39m kargs[KeyWordSettings\u001b[38;5;241m.\u001b[39mOutputHandlerFactChecking]\n",
      "\u001b[0;31mAttributeError\u001b[0m: 'super' object has no attribute '__inigt__'"
     ]
    }
   ],
   "source": [
    "match_params = {}\n",
    "match_params['embedding'] = embedding_matrix\n",
    "match_params[\"num_classes\"] = 2\n",
    "match_params[\"fixed_length_right\"] = 100\n",
    "match_params[\"fixed_length_left\"] = 30\n",
    "\n",
    "# for claim source\n",
    "match_params[\"use_claim_source\"] = use_claim_source\n",
    "match_params[\"claim_source_embeddings\"] = claim_src_embs_matrix\n",
    "# for article source\n",
    "match_params[\"use_article_source\"] = use_article_source\n",
    "match_params[\"article_source_embeddings\"] = article_src_embs_matrix\n",
    "# multi-head attention\n",
    "match_params[\"cuda\"] = 0\n",
    "match_params[\"num_att_heads_for_words\"] = num_att_heads_for_words  # first level\n",
    "match_params[\"num_att_heads_for_evds\"] = num_att_heads_for_evds  # second level\n",
    "\n",
    "\n",
    "match_params['dropout_gnn'] = 0.2\n",
    "match_params[\"dropout_left\"] = 0.2\n",
    "match_params[\"dropout_right\"] = 0.2\n",
    "match_params[\"hidden_size\"] = hidden_size\n",
    "\n",
    "match_params[\"gsl_rate\"] = 0.6\n",
    "\n",
    "match_params[\"embedding_freeze\"] = True\n",
    "match_params[\"output_size\"] = 2 # if args.dataset == \"Snopes\" else 3\n",
    "match_model = graph_based_semantic_structure.Graph_basedSemantiStructure(match_params)\n",
    "match_model.load_state_dict(torch.load(\"/Users/namle/Desktop/GET/snope_0\",map_location=torch.device('cpu')))\n",
    "import datetime\n",
    "from handlers.output_handler_FC import FileHandlerFC\n",
    "loss_type = 'cross_entropy'\n",
    "epochs = 100\n",
    "batch_size = 32\n",
    "lr = 0.001\n",
    "early_stopping = 10\n",
    "outfolder_per_fold = \"logs/get/log_results_PolitiFact/Fold_10\"\n",
    "curr_date = datetime.datetime.now().timestamp()\n",
    "fixed_num_evidences = 30\n",
    "file_handler = FileHandlerFC()\n",
    "seed = 123456\n",
    "fit_model = char_man_fitter_query_repr1.CharManFitterQueryRepr1(net = match_model, loss = loss_type, n_iter = epochs,\n",
    "                                                  batch_size = batch_size, learning_rate = lr,\n",
    "                                                  early_stopping = early_stopping, use_cuda = 0,\n",
    "                                                  logfolder = outfolder_per_fold, curr_date = curr_date,\n",
    "                                                  fixed_num_evidences = fixed_num_evidences,\n",
    "                                                  output_handler_fact_checking = file_handler, seed=seed,\n",
    "                                                  output_size=match_params[\"output_size\"],args=\"args\")"
   ]
  },
  {
   "cell_type": "code",
   "execution_count": 9,
   "metadata": {},
   "outputs": [],
   "source": [
    "result_test= fit_model.evaluate(valid_interactions, 10)"
   ]
  },
  {
   "cell_type": "code",
   "execution_count": 10,
   "metadata": {},
   "outputs": [
    {
     "data": {
      "text/plain": [
       "{'auc': 0.8892635701076906,\n",
       " 'f1_macro': 0.8164865437592711,\n",
       " 'f1_micro': 0.8521939953810623,\n",
       " 'f1': 0.7355371900826447,\n",
       " 'precision_true_cls': 0.7063492063492064,\n",
       " 'recall_true_cls': 0.7672413793103449,\n",
       " 'f1_true_cls': 0.7355371900826447,\n",
       " 'precision_false_cls': 0.9120521172638436,\n",
       " 'recall_false_cls': 0.8832807570977917,\n",
       " 'f1_false_cls': 0.8974358974358975,\n",
       " 'precision_mixed_cls': 0.0,\n",
       " 'recall_mixed_cls': 0.0,\n",
       " 'f1_mixed_cls': 0.0}"
      ]
     },
     "execution_count": 10,
     "metadata": {},
     "output_type": "execute_result"
    }
   ],
   "source": [
    "result_test"
   ]
  },
  {
   "cell_type": "code",
   "execution_count": 421,
   "metadata": {},
   "outputs": [],
   "source": [
    "size = 32\n",
    "cuda = False\n",
    "import interactions\n",
    "import torch_utils as my_utils\n",
    "\n",
    "# interactions: interactions.ClassificationInteractions\n",
    "query_ind_idx =[]\n",
    "query_ood_idx = []\n",
    "import gc\n",
    "\n",
    "\n",
    "def get_energy():\n",
    "  query_ids, left_contents, left_lengths, query_sources, query_char_sources, query_adj, \\\n",
    "            evd_docs_ids, evd_docs_contents, evd_docs_lens, evd_sources, evd_cnt_each_query, evd_char_sources, \\\n",
    "            pair_labels, evd_docs_adj = fit_model._sampler.get_train_instances_char_man(predict_interactions,fit_model.fixed_num_evidences)\n",
    "\n",
    "  for i in range(pair_labels.shape[0]):\n",
    "    if pair_labels[i] == 1:\n",
    "        query_ind_idx.append(i)\n",
    "    else:\n",
    "        query_ood_idx.append(i)\n",
    "  logits = torch.tensor([])\n",
    "  outputs = torch.tensor([])\n",
    "  E = torch.tensor([])\n",
    "  with torch.no_grad():\n",
    "\n",
    "    for (minibatch_num,\n",
    "                  (batch_query, batch_query_content, batch_query_len, batch_query_sources, batch_query_chr_src,\n",
    "                    batch_query_adj, batch_evd_docs, batch_evd_contents, batch_evd_lens, batch_evd_sources,\n",
    "                    # i.e. claim source\n",
    "                    batch_evd_cnt_each_query, batch_evd_chr_src, batch_labels, batch_evd_docs_adj)) \\\n",
    "                      in enumerate(my_utils.minibatch(query_ids, left_contents, left_lengths, query_sources,\n",
    "                                                      query_char_sources, query_adj,\n",
    "                                                      evd_docs_ids, evd_docs_contents, evd_docs_lens, evd_sources,\n",
    "                                                      evd_cnt_each_query, evd_char_sources, pair_labels, evd_docs_adj,\n",
    "                                                      batch_size=32)):\n",
    "        batch_query = my_utils.gpu(torch.from_numpy(batch_query), cuda)\n",
    "        batch_query_content = my_utils.gpu(torch.from_numpy(batch_query_content), cuda)\n",
    "        # batch_query_len = my_utils.gpu(torch.from_numpy(batch_query_len), self._use_cuda)\n",
    "        batch_query_sources = my_utils.gpu(torch.from_numpy(batch_query_sources), cuda)\n",
    "        batch_query_chr_src = my_utils.gpu(torch.from_numpy(batch_query_chr_src), cuda)\n",
    "        batch_query_adj = my_utils.gpu(torch.from_numpy(batch_query_adj), cuda)\n",
    "\n",
    "        batch_evd_docs = my_utils.gpu(torch.from_numpy(batch_evd_docs), cuda)\n",
    "        batch_evd_contents = my_utils.gpu(torch.from_numpy(batch_evd_contents), cuda)\n",
    "        # batch_evd_lens = my_utils.gpu(torch.from_numpy(batch_evd_lens), self._use_cuda)\n",
    "        batch_evd_sources = my_utils.gpu(torch.from_numpy(batch_evd_sources), cuda)\n",
    "        batch_evd_cnt_each_query = my_utils.gpu(torch.from_numpy(batch_evd_cnt_each_query), cuda)\n",
    "        batch_evd_chr_src = my_utils.gpu(torch.from_numpy(batch_evd_chr_src), cuda)\n",
    "\n",
    "        batch_labels = my_utils.gpu(torch.from_numpy(batch_labels), cuda)\n",
    "        batch_evd_docs_adj = my_utils.gpu(torch.from_numpy(batch_evd_docs_adj), cuda)\n",
    "        # total_pairs += self._batch_size * self.\n",
    "        additional_data = {KeyWordSettings.EvidenceCountPerQuery: batch_evd_cnt_each_query,\n",
    "                            KeyWordSettings.FCClass.QueryCharSource: batch_query_chr_src,\n",
    "                            KeyWordSettings.FCClass.DocCharSource: batch_evd_chr_src,\n",
    "                            KeyWordSettings.Query_Adj: batch_query_adj,\n",
    "                            KeyWordSettings.Evd_Docs_Adj: batch_evd_docs_adj}\n",
    "        n=30\n",
    "        evd_count_per_query = batch_evd_cnt_each_query  # (B, )\n",
    "        query_char_source = batch_query_chr_src\n",
    "        doc_char_source = batch_evd_chr_src\n",
    "        query_adj = batch_query_adj\n",
    "        evd_docs_adj = batch_evd_docs_adj\n",
    "        _, L = batch_query_content.size()\n",
    "        batch_size = batch_query.size(0)\n",
    "        # prunning at this step to remove padding\\\n",
    "        e_lens, e_conts, q_conts, q_lens, e_adj = [], [], [], [], []\n",
    "        e_chr_src_conts = []\n",
    "        expaned_labels = []\n",
    "        for evd_cnt, q_cont, q_len, evd_lens, evd_doc_cont, evd_chr_src, label, evd_adj in \\\n",
    "                zip(evd_count_per_query, batch_query_content, batch_query_len,\n",
    "                    batch_evd_lens, batch_evd_contents, doc_char_source, batch_labels, evd_docs_adj):\n",
    "            evd_cnt = int(torch_utils.cpu(evd_cnt).detach().numpy())\n",
    "            e_lens.extend(list(evd_lens[:evd_cnt]))\n",
    "            e_conts.append(evd_doc_cont[:evd_cnt, :])  # stacking later\n",
    "            e_adj.append(evd_adj[:evd_cnt])\n",
    "            e_chr_src_conts.append(evd_chr_src[:evd_cnt, :])\n",
    "            q_lens.extend([q_len] * evd_cnt)\n",
    "            q_conts.append(q_cont.unsqueeze(0).expand(evd_cnt, L))\n",
    "            expaned_labels.extend([int(torch_utils.cpu(label).detach().numpy())] * evd_cnt)\n",
    "        # concat\n",
    "        e_conts = torch.cat(e_conts, dim=0)  # (n1 + n2 + ..., R)\n",
    "        e_chr_src_conts = torch.cat(e_chr_src_conts, dim=0)  # (n1 + n2 + ... , R)\n",
    "        e_adj = torch.cat(e_adj, dim=0)     # (n1 + n2 + ..., R, R)\n",
    "        e_lens = np.array(e_lens)  # (n1 + n2 + ..., )\n",
    "        q_conts = torch.cat(q_conts, dim=0)  # (n1 + n2 + ..., R)\n",
    "        q_lens = np.array(q_lens)\n",
    "        assert q_conts.size(0) == q_lens.shape[0] == e_conts.size(0) == e_lens.shape[0]\n",
    "\n",
    "        d_new_indices, d_old_indices = torch_utils.get_sorted_index_and_reverse_index(e_lens)\n",
    "        e_lens = my_utils.gpu(torch.from_numpy(e_lens), cuda)\n",
    "        x = batch_query_len\n",
    "        q_new_indices, q_restoring_indices = torch_utils.get_sorted_index_and_reverse_index(x)\n",
    "        x = my_utils.gpu(torch.from_numpy(x), cuda)\n",
    "        # query_lens = my_utils.gpu(torch.from_numpy(query_lens), self._use_cuda)\n",
    "\n",
    "        additional_paramters = {\n",
    "            KeyWordSettings.Query_lens: x,  # 每一个query长度\n",
    "            KeyWordSettings.Doc_lens: batch_evd_lens,\n",
    "            KeyWordSettings.DocLensIndices: (d_new_indices, d_old_indices, e_lens),\n",
    "            KeyWordSettings.QueryLensIndices: (q_new_indices, q_restoring_indices, x),\n",
    "            KeyWordSettings.QuerySources: batch_query_sources,\n",
    "            KeyWordSettings.DocSources: batch_evd_sources,\n",
    "            KeyWordSettings.TempLabel: batch_labels,\n",
    "            KeyWordSettings.DocContentNoPaddingEvidence: e_conts,\n",
    "            KeyWordSettings.QueryContentNoPaddingEvidence: q_conts,\n",
    "            KeyWordSettings.EvidenceCountPerQuery: evd_count_per_query,\n",
    "            KeyWordSettings.FCClass.QueryCharSource: query_char_source,  # (B, 1, L)\n",
    "            KeyWordSettings.FCClass.DocCharSource: e_chr_src_conts,\n",
    "            KeyWordSettings.FIXED_NUM_EVIDENCES: n,\n",
    "            KeyWordSettings.Query_Adj: query_adj,\n",
    "            KeyWordSettings.Evd_Docs_Adj: e_adj                       # flatten->(n1 + n2 ..., R, R)\n",
    "        }\n",
    "        output,logit = match_model.predict(batch_query_content, batch_evd_contents, **additional_paramters)\n",
    "        logits = torch.cat((logits,logit),dim = 0)\n",
    "        outputs = torch.cat((outputs,output),dim=0)\n",
    "        \n",
    "  return logits,outputs\n",
    "logits,outputs = get_energy()\n",
    "\n",
    "# prob_logit = torch.cat((prob_logit,logits),dim = 0)\n",
    "# energy_full = torch.cat((energy_full, energy_train), dim=0)"
   ]
  },
  {
   "cell_type": "code",
   "execution_count": 422,
   "metadata": {},
   "outputs": [],
   "source": [
    "query_ids, left_contents, left_lengths, query_sources, query_char_sources, query_adj, \\\n",
    "            evd_docs_ids, evd_docs_contents, evd_docs_lens, evd_sources, evd_cnt_each_query, evd_char_sources, \\\n",
    "            pair_labels, evd_docs_adj = fit_model._sampler.get_train_instances_char_man(predict_interactions,fit_model.fixed_num_evidences)\n"
   ]
  },
  {
   "cell_type": "code",
   "execution_count": 341,
   "metadata": {},
   "outputs": [
    {
     "data": {
      "text/plain": [
       "torch.Size([782, 3556])"
      ]
     },
     "execution_count": 341,
     "metadata": {},
     "output_type": "execute_result"
    }
   ],
   "source": [
    "outputs.size()"
   ]
  },
  {
   "cell_type": "code",
   "execution_count": 321,
   "metadata": {},
   "outputs": [],
   "source": [
    "\n",
    "from qdrant_client import QdrantClient\n",
    "\n",
    "client = QdrantClient(url=\"http://localhost:6333\")"
   ]
  },
  {
   "cell_type": "code",
   "execution_count": 342,
   "metadata": {},
   "outputs": [],
   "source": [
    "id=list(range(outputs.size(0)))"
   ]
  },
  {
   "cell_type": "code",
   "execution_count": 332,
   "metadata": {},
   "outputs": [],
   "source": [
    "vector_2_query = {}\n",
    "for i,id in enumerate(query_ids):\n",
    "    vector_2_query[i] = id"
   ]
  },
  {
   "cell_type": "code",
   "execution_count": 34,
   "metadata": {},
   "outputs": [],
   "source": [
    "query_ids = [23,325,2,23,9,452,35,22,52,]"
   ]
  },
  {
   "cell_type": "code",
   "execution_count": 38,
   "metadata": {},
   "outputs": [],
   "source": [
    "query_2_vector = {}\n",
    "for i,id in enumerate(query_ids):\n",
    "    query_2_vector[id] = i"
   ]
  },
  {
   "cell_type": "code",
   "execution_count": null,
   "metadata": {},
   "outputs": [],
   "source": [
    "res = [query_2_vector]"
   ]
  },
  {
   "cell_type": "code",
   "execution_count": 39,
   "metadata": {},
   "outputs": [
    {
     "ename": "TypeError",
     "evalue": "'dict' object is not callable",
     "output_type": "error",
     "traceback": [
      "\u001b[0;31m---------------------------------------------------------------------------\u001b[0m",
      "\u001b[0;31mTypeError\u001b[0m                                 Traceback (most recent call last)",
      "Cell \u001b[0;32mIn[39], line 1\u001b[0m\n\u001b[0;32m----> 1\u001b[0m \u001b[43mquery_2_vector\u001b[49m\u001b[43m(\u001b[49m\u001b[43m[\u001b[49m\u001b[38;5;241;43m23\u001b[39;49m\u001b[43m,\u001b[49m\u001b[38;5;241;43m325\u001b[39;49m\u001b[43m,\u001b[49m\u001b[38;5;241;43m2\u001b[39;49m\u001b[43m,\u001b[49m\u001b[38;5;241;43m23\u001b[39;49m\u001b[43m]\u001b[49m\u001b[43m)\u001b[49m\n",
      "\u001b[0;31mTypeError\u001b[0m: 'dict' object is not callable"
     ]
    }
   ],
   "source": [
    "query_2_vector([23,325,2,23])"
   ]
  },
  {
   "cell_type": "code",
   "execution_count": 37,
   "metadata": {},
   "outputs": [
    {
     "ename": "NameError",
     "evalue": "name 'vector_2_query' is not defined",
     "output_type": "error",
     "traceback": [
      "\u001b[0;31m---------------------------------------------------------------------------\u001b[0m",
      "\u001b[0;31mNameError\u001b[0m                                 Traceback (most recent call last)",
      "Cell \u001b[0;32mIn[37], line 1\u001b[0m\n\u001b[0;32m----> 1\u001b[0m \u001b[43mvector_2_query\u001b[49m[\u001b[38;5;241m1\u001b[39m]\n",
      "\u001b[0;31mNameError\u001b[0m: name 'vector_2_query' is not defined"
     ]
    }
   ],
   "source": [
    "vector_2_query[1]"
   ]
  },
  {
   "cell_type": "code",
   "execution_count": 338,
   "metadata": {},
   "outputs": [
    {
     "data": {
      "text/plain": [
       "True"
      ]
     },
     "execution_count": 338,
     "metadata": {},
     "output_type": "execute_result"
    }
   ],
   "source": [
    "from qdrant_client.models import Distance, VectorParams\n",
    "\n",
    "client.create_collection(\n",
    "    collection_name=\"test_0\",\n",
    "    vectors_config=VectorParams(size=3556, distance=Distance.COSINE),\n",
    ")"
   ]
  },
  {
   "cell_type": "code",
   "execution_count": 328,
   "metadata": {},
   "outputs": [],
   "source": [
    "from qdrant_client.http import models"
   ]
  },
  {
   "cell_type": "code",
   "execution_count": 344,
   "metadata": {},
   "outputs": [],
   "source": [
    "def minibatch(*tensors, **kwargs):\n",
    "\n",
    "    batch_size = kwargs['batch_size']\n",
    "\n",
    "    if len(tensors) == 1:\n",
    "        tensor = tensors[0]\n",
    "        for i in range(0, len(tensor), batch_size):\n",
    "            yield tensor[i:i + batch_size]\n",
    "    else:\n",
    "        for i in range(0, len(tensors[0]), batch_size):\n",
    "            yield tuple(x[i:i + batch_size] for x in tensors)"
   ]
  },
  {
   "cell_type": "markdown",
   "metadata": {},
   "source": [
    "Delete collection"
   ]
  },
  {
   "cell_type": "code",
   "execution_count": 337,
   "metadata": {},
   "outputs": [
    {
     "data": {
      "text/plain": [
       "False"
      ]
     },
     "execution_count": 337,
     "metadata": {},
     "output_type": "execute_result"
    }
   ],
   "source": [
    "# client.delete_collection(collection_name=\"test_0\")"
   ]
  },
  {
   "cell_type": "code",
   "execution_count": 345,
   "metadata": {},
   "outputs": [],
   "source": [
    "for (minibatch_num,(idb,outputb)) in enumerate(minibatch(id,outputs,batch_size=32)):\n",
    "    client.upsert(\n",
    "    collection_name=\"test_0\",\n",
    "    points = models.Batch(\n",
    "        ids = idb,\n",
    "        vectors = outputb.tolist()\n",
    "    )\n",
    ")"
   ]
  },
  {
   "cell_type": "code",
   "execution_count": 346,
   "metadata": {},
   "outputs": [
    {
     "data": {
      "text/plain": [
       "CollectionInfo(status=<CollectionStatus.GREEN: 'green'>, optimizer_status=<OptimizersStatusOneOf.OK: 'ok'>, vectors_count=None, indexed_vectors_count=0, points_count=782, segments_count=8, config=CollectionConfig(params=CollectionParams(vectors=VectorParams(size=3556, distance=<Distance.COSINE: 'Cosine'>, hnsw_config=None, quantization_config=None, on_disk=None), shard_number=1, sharding_method=None, replication_factor=1, write_consistency_factor=1, read_fan_out_factor=None, on_disk_payload=True, sparse_vectors=None), hnsw_config=HnswConfig(m=16, ef_construct=100, full_scan_threshold=10000, max_indexing_threads=0, on_disk=False, payload_m=None), optimizer_config=OptimizersConfig(deleted_threshold=0.2, vacuum_min_vector_number=1000, default_segment_number=0, max_segment_size=None, memmap_threshold=None, indexing_threshold=20000, flush_interval_sec=5, max_optimization_threads=None), wal_config=WalConfig(wal_capacity_mb=32, wal_segments_ahead=0), quantization_config=None), payload_schema={})"
      ]
     },
     "execution_count": 346,
     "metadata": {},
     "output_type": "execute_result"
    }
   ],
   "source": [
    "client.get_collection(collection_name=\"test_0\")"
   ]
  },
  {
   "cell_type": "code",
   "execution_count": 164,
   "metadata": {},
   "outputs": [
    {
     "data": {
      "text/plain": [
       "4055"
      ]
     },
     "execution_count": 164,
     "metadata": {},
     "output_type": "execute_result"
    }
   ],
   "source": [
    "vector_2_query[4]"
   ]
  },
  {
   "cell_type": "code",
   "execution_count": 169,
   "metadata": {},
   "outputs": [
    {
     "data": {
      "text/plain": [
       "0.3244211971759796"
      ]
     },
     "execution_count": 169,
     "metadata": {},
     "output_type": "execute_result"
    }
   ],
   "source": [
    "from scipy.spatial.distance import cosine\n",
    "\n",
    "similarity_score = 1 - cosine(outputs[0], outputs[3]) \n",
    "similarity_score"
   ]
  },
  {
   "cell_type": "code",
   "execution_count": 353,
   "metadata": {},
   "outputs": [
    {
     "name": "stdout",
     "output_type": "stream",
     "text": [
      "Hit 6 Hit score: 1.0\n",
      "Hit 612 Hit score: 0.8765817\n",
      "Hit 589 Hit score: 0.8756827\n",
      "Hit 743 Hit score: 0.8665322\n",
      "Hit 773 Hit score: 0.8609001\n",
      "Hit 669 Hit score: 0.858551\n",
      "Hit 501 Hit score: 0.84789\n",
      "Hit 458 Hit score: 0.8390527\n",
      "Hit 573 Hit score: 0.8356539\n",
      "Hit 381 Hit score: 0.833912\n",
      "Hit 779 Hit score: 0.8316698\n",
      "Hit 33 Hit score: 0.82837373\n",
      "Hit 493 Hit score: 0.8281207\n",
      "Hit 604 Hit score: 0.82690436\n",
      "Hit 161 Hit score: 0.82635224\n",
      "Hit 129 Hit score: 0.82625586\n",
      "Hit 409 Hit score: 0.8243472\n",
      "Hit 364 Hit score: 0.82405794\n",
      "Hit 264 Hit score: 0.8234814\n",
      "Hit 388 Hit score: 0.82323575\n",
      "Hit 602 Hit score: 0.8227576\n",
      "Hit 273 Hit score: 0.8213948\n",
      "Hit 92 Hit score: 0.8192987\n",
      "Hit 530 Hit score: 0.81818795\n",
      "Hit 162 Hit score: 0.8176499\n",
      "Hit 552 Hit score: 0.8172264\n",
      "Hit 90 Hit score: 0.81667507\n",
      "Hit 520 Hit score: 0.81536514\n",
      "Hit 80 Hit score: 0.81509376\n",
      "Hit 750 Hit score: 0.81458104\n",
      "Hit 300 Hit score: 0.813901\n",
      "Hit 272 Hit score: 0.8129398\n",
      "Hit 500 Hit score: 0.81285715\n",
      "Hit 196 Hit score: 0.81195533\n",
      "Hit 41 Hit score: 0.8105891\n",
      "Hit 746 Hit score: 0.8104415\n",
      "Hit 49 Hit score: 0.81025374\n",
      "Hit 133 Hit score: 0.8099419\n",
      "Hit 502 Hit score: 0.80887866\n",
      "Hit 210 Hit score: 0.80833894\n",
      "Hit 233 Hit score: 0.807919\n",
      "Hit 265 Hit score: 0.8078821\n",
      "Hit 623 Hit score: 0.8072796\n",
      "Hit 422 Hit score: 0.80666715\n",
      "Hit 197 Hit score: 0.8059108\n",
      "Hit 481 Hit score: 0.8058275\n",
      "Hit 37 Hit score: 0.8043636\n",
      "Hit 130 Hit score: 0.8042922\n",
      "Hit 262 Hit score: 0.8038012\n",
      "Hit 238 Hit score: 0.802688\n",
      "Hit 180 Hit score: 0.8016051\n",
      "Hit 677 Hit score: 0.801259\n",
      "Hit 761 Hit score: 0.80103135\n",
      "Hit 276 Hit score: 0.8006985\n",
      "Hit 326 Hit score: 0.8002377\n",
      "Hit 569 Hit score: 0.79962575\n",
      "Hit 478 Hit score: 0.7995036\n",
      "Hit 330 Hit score: 0.79877394\n",
      "Hit 521 Hit score: 0.7985823\n",
      "Hit 105 Hit score: 0.79801583\n",
      "Hit 753 Hit score: 0.7973902\n",
      "Hit 540 Hit score: 0.79728264\n",
      "Hit 100 Hit score: 0.79663455\n",
      "Hit 52 Hit score: 0.7964665\n",
      "Hit 128 Hit score: 0.79609966\n",
      "Hit 608 Hit score: 0.79503274\n",
      "Hit 132 Hit score: 0.79483545\n",
      "Hit 160 Hit score: 0.7941591\n",
      "Hit 554 Hit score: 0.7939653\n",
      "Hit 421 Hit score: 0.79192597\n",
      "Hit 164 Hit score: 0.791446\n",
      "Hit 668 Hit score: 0.7904754\n",
      "Hit 84 Hit score: 0.7901993\n",
      "Hit 689 Hit score: 0.79011786\n",
      "Hit 321 Hit score: 0.78998446\n",
      "Hit 711 Hit score: 0.78959554\n",
      "Hit 285 Hit score: 0.78947425\n",
      "Hit 305 Hit score: 0.78908604\n",
      "Hit 747 Hit score: 0.7888964\n",
      "Hit 729 Hit score: 0.788757\n",
      "Hit 410 Hit score: 0.7873706\n",
      "Hit 208 Hit score: 0.7869467\n",
      "Hit 81 Hit score: 0.78686136\n",
      "Hit 294 Hit score: 0.7852241\n",
      "Hit 676 Hit score: 0.78517014\n",
      "Hit 771 Hit score: 0.78491247\n",
      "Hit 220 Hit score: 0.78477883\n",
      "Hit 565 Hit score: 0.7846666\n",
      "Hit 426 Hit score: 0.78348845\n",
      "Hit 508 Hit score: 0.7834372\n",
      "Hit 118 Hit score: 0.78301203\n",
      "Hit 66 Hit score: 0.78284335\n",
      "Hit 389 Hit score: 0.78202176\n",
      "Hit 683 Hit score: 0.78189003\n",
      "Hit 120 Hit score: 0.78127927\n",
      "Hit 377 Hit score: 0.7809006\n",
      "Hit 446 Hit score: 0.7803787\n",
      "Hit 297 Hit score: 0.780055\n",
      "Hit 533 Hit score: 0.7794671\n",
      "Hit 606 Hit score: 0.77940434\n"
     ]
    }
   ],
   "source": [
    "hits = client.search(\n",
    "    collection_name=\"test_0\",\n",
    "    query_vector=outputs[6].tolist(),\n",
    "    limit=100,\n",
    ")\n",
    "for hit in hits:\n",
    "    print(f\"Hit {hit.id} Hit score: {hit.score}\")"
   ]
  },
  {
   "cell_type": "code",
   "execution_count": 354,
   "metadata": {},
   "outputs": [
    {
     "data": {
      "text/plain": [
       "torch.Size([3556])"
      ]
     },
     "execution_count": 354,
     "metadata": {},
     "output_type": "execute_result"
    }
   ],
   "source": [
    "outputs[0].size()"
   ]
  },
  {
   "cell_type": "code",
   "execution_count": 355,
   "metadata": {},
   "outputs": [
    {
     "data": {
      "text/plain": [
       "782"
      ]
     },
     "execution_count": 355,
     "metadata": {},
     "output_type": "execute_result"
    }
   ],
   "source": [
    "outputs.size(0)"
   ]
  },
  {
   "cell_type": "code",
   "execution_count": 356,
   "metadata": {},
   "outputs": [],
   "source": [
    "similarity_dict = {}"
   ]
  },
  {
   "cell_type": "markdown",
   "metadata": {},
   "source": [
    "Search top 100 similar vector outputs"
   ]
  },
  {
   "cell_type": "code",
   "execution_count": 357,
   "metadata": {},
   "outputs": [],
   "source": [
    "for i in range(outputs.size(0)):\n",
    "    hits = client.search(\n",
    "    collection_name=\"test_0\",\n",
    "    query_vector=outputs[i].tolist(),\n",
    "    limit=100,\n",
    "    )\n",
    "    similarity_dict[i] = [hit.id for hit in hits]"
   ]
  },
  {
   "cell_type": "code",
   "execution_count": 359,
   "metadata": {},
   "outputs": [
    {
     "data": {
      "text/plain": [
       "782"
      ]
     },
     "execution_count": 359,
     "metadata": {},
     "output_type": "execute_result"
    }
   ],
   "source": [
    "len(similarity_dict)"
   ]
  },
  {
   "cell_type": "code",
   "execution_count": 360,
   "metadata": {},
   "outputs": [
    {
     "data": {
      "text/plain": [
       "torch.Size([782, 3556])"
      ]
     },
     "execution_count": 360,
     "metadata": {},
     "output_type": "execute_result"
    }
   ],
   "source": [
    "outputs.size()"
   ]
  },
  {
   "cell_type": "code",
   "execution_count": 361,
   "metadata": {},
   "outputs": [
    {
     "data": {
      "text/plain": [
       "torch.Size([782, 2])"
      ]
     },
     "execution_count": 361,
     "metadata": {},
     "output_type": "execute_result"
    }
   ],
   "source": [
    "logits.size()"
   ]
  },
  {
   "cell_type": "code",
   "execution_count": 362,
   "metadata": {},
   "outputs": [],
   "source": [
    "pred_label = torch.argmax(logits,dim = -1)"
   ]
  },
  {
   "cell_type": "code",
   "execution_count": 363,
   "metadata": {},
   "outputs": [],
   "source": [
    "pred_label = pred_label.tolist()"
   ]
  },
  {
   "cell_type": "code",
   "execution_count": 365,
   "metadata": {},
   "outputs": [
    {
     "name": "stdout",
     "output_type": "stream",
     "text": [
      "Real label:0 Neighbor -- Predict Labels: 0  0  0  0  0  0  0  0  0   -- Real Labels: 0  0  1  0  0  0  0  0  0  \n",
      "Real label:0 Neighbor -- Predict Labels: 0  0  0  0  0  0  0  0  0   -- Real Labels: 0  0  0  0  0  0  0  0  0  \n",
      "Real label:0 Neighbor -- Predict Labels: 0  0  0  0  0  0  0  1  0   -- Real Labels: 0  0  0  0  0  0  1  0  0  \n",
      "Real label:1 Neighbor -- Predict Labels: 1  1  1  1  1  0  1  1  1   -- Real Labels: 1  1  1  1  0  0  1  0  1  \n",
      "Real label:0 Neighbor -- Predict Labels: 0  0  0  0  0  0  0  0  0   -- Real Labels: 0  0  0  0  0  0  0  0  0  \n",
      "Real label:0 Neighbor -- Predict Labels: 0  0  0  0  0  0  0  0  0   -- Real Labels: 0  0  0  0  0  0  0  0  0  \n",
      "Real label:0 Neighbor -- Predict Labels: 0  0  0  0  0  0  0  0  0   -- Real Labels: 0  0  0  0  0  0  0  0  0  \n",
      "Real label:1 Neighbor -- Predict Labels: 1  1  1  1  0  0  0  1  1   -- Real Labels: 1  1  1  0  1  1  0  0  1  \n",
      "Real label:0 Neighbor -- Predict Labels: 0  0  0  0  0  0  0  0  0   -- Real Labels: 0  0  0  0  0  0  0  0  0  \n",
      "Real label:0 Neighbor -- Predict Labels: 0  0  0  0  0  0  0  0  0   -- Real Labels: 0  0  0  0  0  0  0  0  0  \n",
      "Real label:0 Neighbor -- Predict Labels: 0  0  0  0  0  0  0  0  0   -- Real Labels: 0  0  1  0  0  1  0  0  0  \n",
      "Real label:1 Neighbor -- Predict Labels: 1  1  1  1  1  1  1  1  1   -- Real Labels: 1  1  1  1  1  1  1  1  1  \n",
      "Real label:0 Neighbor -- Predict Labels: 1  0  0  1  0  0  1  0  1   -- Real Labels: 0  0  0  1  1  0  0  0  0  \n",
      "Real label:0 Neighbor -- Predict Labels: 0  0  1  0  0  0  0  0  0   -- Real Labels: 0  0  0  0  0  0  0  0  0  \n",
      "Real label:0 Neighbor -- Predict Labels: 0  0  0  0  0  0  0  0  0   -- Real Labels: 0  0  0  0  0  0  0  0  0  \n",
      "Real label:1 Neighbor -- Predict Labels: 1  1  1  1  1  1  1  1  1   -- Real Labels: 1  1  1  1  1  1  1  1  1  \n",
      "Real label:0 Neighbor -- Predict Labels: 0  0  0  0  0  0  0  0  0   -- Real Labels: 0  0  0  0  0  0  0  0  0  \n",
      "Real label:0 Neighbor -- Predict Labels: 1  0  0  1  0  0  0  0  0   -- Real Labels: 1  0  0  0  1  0  0  0  1  \n",
      "Real label:0 Neighbor -- Predict Labels: 0  0  0  0  0  0  0  0  0   -- Real Labels: 0  0  0  0  0  0  0  0  1  \n",
      "Real label:1 Neighbor -- Predict Labels: 1  1  1  1  1  1  1  1  1   -- Real Labels: 1  1  1  1  1  1  1  1  1  \n",
      "Real label:0 Neighbor -- Predict Labels: 0  0  0  1  0  0  0  0  0   -- Real Labels: 0  0  0  1  1  1  0  1  0  \n",
      "Real label:0 Neighbor -- Predict Labels: 0  0  0  0  0  0  0  0  0   -- Real Labels: 0  0  0  0  0  0  0  0  0  \n",
      "Real label:0 Neighbor -- Predict Labels: 0  0  0  0  0  0  0  0  0   -- Real Labels: 0  0  0  0  0  0  0  0  0  \n",
      "Real label:1 Neighbor -- Predict Labels: 0  0  0  0  0  1  0  1  0   -- Real Labels: 0  0  1  0  0  0  1  1  0  \n",
      "Real label:1 Neighbor -- Predict Labels: 1  1  0  0  1  1  1  1  0   -- Real Labels: 0  1  1  0  1  0  0  1  0  \n",
      "Real label:0 Neighbor -- Predict Labels: 0  0  0  0  0  0  0  0  0   -- Real Labels: 0  0  0  0  1  0  0  0  0  \n",
      "Real label:1 Neighbor -- Predict Labels: 0  0  1  0  1  0  1  0  0   -- Real Labels: 0  1  1  0  0  1  1  0  0  \n",
      "Real label:1 Neighbor -- Predict Labels: 1  1  1  1  1  1  1  1  1   -- Real Labels: 1  1  1  1  1  1  1  1  1  \n",
      "Real label:1 Neighbor -- Predict Labels: 1  1  0  0  1  1  0  0  1   -- Real Labels: 0  1  0  0  0  1  0  0  1  \n",
      "Real label:0 Neighbor -- Predict Labels: 0  0  0  0  0  0  0  0  0   -- Real Labels: 0  0  0  0  0  0  0  0  0  \n",
      "Real label:0 Neighbor -- Predict Labels: 0  0  0  0  0  0  0  0  0   -- Real Labels: 0  0  0  0  0  0  0  0  0  \n",
      "Real label:1 Neighbor -- Predict Labels: 1  1  0  1  1  1  1  1  1   -- Real Labels: 1  1  0  1  0  1  1  1  1  \n",
      "Real label:0 Neighbor -- Predict Labels: 1  1  1  0  1  1  1  1  1   -- Real Labels: 1  1  1  0  1  1  1  1  1  \n",
      "Real label:0 Neighbor -- Predict Labels: 0  0  0  0  0  0  0  0  0   -- Real Labels: 0  0  0  0  0  0  0  0  0  \n",
      "Real label:0 Neighbor -- Predict Labels: 1  0  1  0  1  0  0  1  0   -- Real Labels: 1  0  0  0  1  1  1  1  0  \n",
      "Real label:1 Neighbor -- Predict Labels: 1  1  1  1  1  1  1  1  1   -- Real Labels: 1  0  1  1  1  1  1  1  1  \n",
      "Real label:0 Neighbor -- Predict Labels: 0  0  0  0  0  0  0  0  0   -- Real Labels: 0  0  0  0  1  0  0  0  0  \n",
      "Real label:0 Neighbor -- Predict Labels: 0  0  0  0  0  0  0  0  0   -- Real Labels: 0  0  0  0  0  0  0  0  0  \n",
      "Real label:1 Neighbor -- Predict Labels: 1  1  1  1  1  0  0  0  1   -- Real Labels: 1  1  1  1  1  0  1  1  1  \n",
      "Real label:1 Neighbor -- Predict Labels: 1  1  1  1  1  1  1  1  1   -- Real Labels: 1  1  1  1  1  1  1  1  1  \n",
      "Real label:0 Neighbor -- Predict Labels: 0  0  0  0  0  0  0  0  0   -- Real Labels: 0  0  0  0  0  0  0  0  0  \n",
      "Real label:0 Neighbor -- Predict Labels: 0  0  0  0  0  0  0  0  0   -- Real Labels: 0  0  0  0  0  0  0  0  0  \n",
      "Real label:0 Neighbor -- Predict Labels: 0  0  0  0  0  0  0  0  0   -- Real Labels: 0  0  0  0  0  0  1  0  0  \n",
      "Real label:0 Neighbor -- Predict Labels: 1  0  0  0  1  1  0  1  1   -- Real Labels: 0  1  0  0  1  1  0  0  1  \n",
      "Real label:0 Neighbor -- Predict Labels: 0  0  0  0  0  0  0  0  0   -- Real Labels: 0  0  0  0  0  0  1  0  0  \n",
      "Real label:0 Neighbor -- Predict Labels: 0  0  0  0  0  0  0  0  0   -- Real Labels: 0  0  0  0  0  0  0  0  0  \n",
      "Real label:0 Neighbor -- Predict Labels: 0  0  1  0  0  0  0  0  0   -- Real Labels: 0  1  1  0  0  0  0  0  0  \n",
      "Real label:1 Neighbor -- Predict Labels: 1  1  1  1  1  1  1  1  1   -- Real Labels: 1  1  1  1  1  1  1  1  1  \n",
      "Real label:0 Neighbor -- Predict Labels: 0  0  0  0  0  0  0  0  0   -- Real Labels: 0  0  1  0  0  0  0  1  0  \n",
      "Real label:0 Neighbor -- Predict Labels: 0  0  0  0  0  0  0  0  0   -- Real Labels: 0  0  1  0  0  0  0  0  0  \n",
      "Real label:0 Neighbor -- Predict Labels: 0  0  0  0  1  1  0  0  1   -- Real Labels: 0  0  1  0  1  1  1  0  1  \n",
      "Real label:1 Neighbor -- Predict Labels: 0  1  1  1  1  1  0  0  1   -- Real Labels: 0  0  1  1  1  1  0  0  1  \n",
      "Real label:0 Neighbor -- Predict Labels: 0  0  0  0  0  0  0  0  0   -- Real Labels: 0  0  0  0  0  0  0  0  0  \n",
      "Real label:0 Neighbor -- Predict Labels: 0  0  0  0  0  0  0  0  0   -- Real Labels: 0  0  0  0  0  0  0  0  0  \n",
      "Real label:1 Neighbor -- Predict Labels: 1  1  0  1  1  1  1  1  1   -- Real Labels: 1  0  0  1  1  0  0  1  1  \n",
      "Real label:1 Neighbor -- Predict Labels: 1  1  1  1  1  1  1  1  1   -- Real Labels: 1  1  1  1  1  1  1  1  1  \n",
      "Real label:0 Neighbor -- Predict Labels: 0  0  0  0  0  0  0  0  0   -- Real Labels: 0  0  0  0  0  1  0  0  0  \n",
      "Real label:0 Neighbor -- Predict Labels: 0  0  0  0  0  0  0  0  0   -- Real Labels: 0  0  0  0  0  0  0  0  0  \n",
      "Real label:0 Neighbor -- Predict Labels: 0  0  0  0  0  0  0  0  0   -- Real Labels: 1  1  0  0  0  0  0  0  0  \n",
      "Real label:0 Neighbor -- Predict Labels: 0  0  0  0  1  0  0  0  0   -- Real Labels: 0  0  0  1  1  1  0  1  0  \n",
      "Real label:0 Neighbor -- Predict Labels: 0  1  1  0  1  0  1  1  0   -- Real Labels: 1  1  1  0  1  0  0  1  0  \n",
      "Real label:0 Neighbor -- Predict Labels: 0  0  0  0  0  0  0  0  0   -- Real Labels: 0  0  0  0  0  0  0  0  0  \n",
      "Real label:0 Neighbor -- Predict Labels: 0  0  0  0  0  0  0  0  0   -- Real Labels: 0  0  0  0  0  0  0  0  0  \n",
      "Real label:1 Neighbor -- Predict Labels: 1  1  1  1  1  1  1  1  1   -- Real Labels: 1  1  1  1  1  1  1  1  1  \n",
      "Real label:1 Neighbor -- Predict Labels: 0  0  1  0  1  0  0  0  1   -- Real Labels: 0  0  1  0  1  0  0  1  1  \n",
      "Real label:0 Neighbor -- Predict Labels: 0  0  0  0  0  1  0  0  0   -- Real Labels: 0  0  1  0  1  1  0  0  0  \n",
      "Real label:0 Neighbor -- Predict Labels: 0  0  0  0  0  0  0  0  0   -- Real Labels: 0  0  0  0  0  0  0  0  0  \n",
      "Real label:0 Neighbor -- Predict Labels: 0  0  0  0  0  0  0  0  0   -- Real Labels: 0  0  0  0  1  1  0  0  0  \n",
      "Real label:0 Neighbor -- Predict Labels: 0  0  0  0  0  0  0  0  0   -- Real Labels: 0  1  0  0  0  0  0  0  0  \n",
      "Real label:0 Neighbor -- Predict Labels: 0  0  0  0  0  0  0  0  1   -- Real Labels: 0  1  0  0  0  0  0  0  1  \n",
      "Real label:0 Neighbor -- Predict Labels: 0  0  0  0  1  1  1  0  0   -- Real Labels: 0  0  0  0  0  1  1  0  1  \n",
      "Real label:1 Neighbor -- Predict Labels: 1  1  1  1  1  1  1  1  1   -- Real Labels: 1  1  1  1  1  1  1  1  1  \n",
      "Real label:0 Neighbor -- Predict Labels: 0  0  0  0  0  0  0  0  0   -- Real Labels: 0  0  0  0  0  0  0  0  0  \n",
      "Real label:0 Neighbor -- Predict Labels: 0  0  0  0  0  0  0  0  0   -- Real Labels: 0  0  0  0  0  0  0  0  0  \n",
      "Real label:0 Neighbor -- Predict Labels: 1  1  1  1  1  1  1  0  0   -- Real Labels: 1  1  1  1  1  1  1  0  1  \n",
      "Real label:0 Neighbor -- Predict Labels: 0  0  0  0  0  0  1  0  0   -- Real Labels: 0  0  0  0  0  0  1  0  0  \n",
      "Real label:0 Neighbor -- Predict Labels: 0  0  0  0  0  0  0  0  0   -- Real Labels: 0  0  0  0  0  0  0  0  0  \n",
      "Real label:0 Neighbor -- Predict Labels: 0  0  0  0  0  0  0  0  0   -- Real Labels: 0  0  0  0  0  0  0  0  0  \n",
      "Real label:0 Neighbor -- Predict Labels: 0  0  0  0  0  0  0  0  0   -- Real Labels: 0  0  0  0  0  0  0  0  0  \n",
      "Real label:1 Neighbor -- Predict Labels: 1  1  1  1  0  1  0  1  0   -- Real Labels: 1  1  1  0  0  1  0  1  0  \n",
      "Real label:0 Neighbor -- Predict Labels: 0  0  0  0  0  0  0  0  0   -- Real Labels: 0  0  0  0  0  0  0  0  0  \n",
      "Real label:0 Neighbor -- Predict Labels: 0  0  0  0  0  0  0  0  0   -- Real Labels: 0  0  0  0  0  0  0  0  0  \n",
      "Real label:0 Neighbor -- Predict Labels: 0  0  0  1  0  0  0  0  0   -- Real Labels: 0  1  0  0  0  0  0  0  0  \n",
      "Real label:0 Neighbor -- Predict Labels: 0  0  0  0  0  0  0  1  0   -- Real Labels: 0  0  0  0  1  0  0  1  1  \n",
      "Real label:0 Neighbor -- Predict Labels: 0  0  0  0  0  0  0  0  0   -- Real Labels: 0  0  0  0  0  0  0  0  0  \n",
      "Real label:0 Neighbor -- Predict Labels: 0  0  0  0  0  0  0  0  0   -- Real Labels: 0  0  0  0  0  0  0  0  0  \n",
      "Real label:0 Neighbor -- Predict Labels: 0  0  0  0  0  0  0  0  0   -- Real Labels: 0  0  0  0  0  0  0  0  0  \n",
      "Real label:1 Neighbor -- Predict Labels: 1  1  1  1  1  1  1  1  1   -- Real Labels: 1  1  1  1  1  1  1  1  1  \n",
      "Real label:0 Neighbor -- Predict Labels: 0  0  0  0  0  0  0  0  0   -- Real Labels: 0  0  0  0  0  1  0  0  1  \n",
      "Real label:0 Neighbor -- Predict Labels: 0  0  0  0  0  0  0  0  0   -- Real Labels: 0  0  0  0  0  0  0  0  0  \n",
      "Real label:0 Neighbor -- Predict Labels: 0  0  0  0  0  0  0  0  0   -- Real Labels: 0  0  0  0  0  0  0  0  0  \n",
      "Real label:1 Neighbor -- Predict Labels: 0  0  0  0  0  0  0  0  0   -- Real Labels: 0  0  0  0  0  0  0  0  0  \n",
      "Real label:0 Neighbor -- Predict Labels: 0  0  0  0  0  0  0  0  0   -- Real Labels: 0  0  0  0  0  0  0  0  0  \n",
      "Real label:0 Neighbor -- Predict Labels: 0  0  0  0  0  0  0  0  0   -- Real Labels: 0  0  0  0  0  0  0  0  0  \n",
      "Real label:0 Neighbor -- Predict Labels: 1  0  1  0  1  0  1  0  0   -- Real Labels: 0  0  0  1  0  1  0  0  1  \n",
      "Real label:1 Neighbor -- Predict Labels: 1  1  1  1  1  1  1  1  1   -- Real Labels: 1  1  1  1  1  1  1  1  1  \n",
      "Real label:0 Neighbor -- Predict Labels: 0  0  0  0  0  0  0  0  0   -- Real Labels: 0  0  0  0  0  0  0  0  0  \n",
      "Real label:0 Neighbor -- Predict Labels: 0  0  0  0  0  0  0  0  0   -- Real Labels: 1  0  0  0  0  0  0  1  1  \n",
      "Real label:0 Neighbor -- Predict Labels: 0  0  0  0  0  0  0  0  0   -- Real Labels: 0  0  0  0  0  0  0  0  0  \n",
      "Real label:1 Neighbor -- Predict Labels: 1  1  1  1  1  1  1  1  1   -- Real Labels: 1  1  1  1  1  1  1  1  1  \n",
      "Real label:0 Neighbor -- Predict Labels: 0  0  0  0  0  0  0  0  0   -- Real Labels: 0  0  0  0  0  0  0  0  0  \n",
      "Real label:1 Neighbor -- Predict Labels: 0  0  0  0  0  0  0  1  0   -- Real Labels: 0  0  0  0  0  1  0  0  0  \n",
      "Real label:0 Neighbor -- Predict Labels: 0  0  0  0  0  0  0  0  0   -- Real Labels: 0  0  1  0  1  0  1  0  0  \n",
      "Real label:1 Neighbor -- Predict Labels: 1  1  1  1  1  1  1  1  1   -- Real Labels: 1  1  1  1  1  1  1  1  1  \n",
      "Real label:0 Neighbor -- Predict Labels: 0  0  0  0  0  0  0  0  1   -- Real Labels: 1  0  0  0  0  1  0  1  0  \n",
      "Real label:0 Neighbor -- Predict Labels: 0  0  0  0  0  0  0  0  0   -- Real Labels: 0  0  0  0  0  0  0  0  0  \n",
      "Real label:0 Neighbor -- Predict Labels: 0  0  0  0  0  0  0  0  0   -- Real Labels: 0  0  0  0  0  0  0  0  0  \n",
      "Real label:1 Neighbor -- Predict Labels: 1  1  1  1  1  1  1  1  1   -- Real Labels: 1  1  1  1  1  1  1  1  1  \n",
      "Real label:1 Neighbor -- Predict Labels: 0  0  0  0  0  0  0  0  0   -- Real Labels: 0  0  0  0  0  0  0  0  0  \n",
      "Real label:0 Neighbor -- Predict Labels: 0  0  0  0  0  0  0  0  0   -- Real Labels: 0  0  0  0  0  0  0  0  0  \n",
      "Real label:0 Neighbor -- Predict Labels: 0  0  0  0  0  0  0  0  0   -- Real Labels: 0  0  0  1  0  0  0  0  0  \n",
      "Real label:1 Neighbor -- Predict Labels: 1  1  1  1  1  1  1  1  1   -- Real Labels: 1  1  1  1  1  1  1  1  1  \n",
      "Real label:0 Neighbor -- Predict Labels: 0  0  0  0  1  0  0  0  0   -- Real Labels: 0  0  0  0  0  0  1  0  1  \n",
      "Real label:0 Neighbor -- Predict Labels: 0  0  0  0  0  0  0  0  0   -- Real Labels: 0  0  0  0  0  0  0  0  1  \n",
      "Real label:1 Neighbor -- Predict Labels: 0  1  0  0  1  0  0  1  1   -- Real Labels: 1  1  1  0  0  1  1  1  1  \n",
      "Real label:1 Neighbor -- Predict Labels: 1  0  0  1  1  1  0  1  0   -- Real Labels: 1  0  0  0  1  1  1  0  0  \n",
      "Real label:1 Neighbor -- Predict Labels: 0  1  1  1  0  1  1  0  0   -- Real Labels: 1  0  0  0  1  0  1  0  0  \n",
      "Real label:0 Neighbor -- Predict Labels: 0  0  0  0  0  0  0  0  0   -- Real Labels: 0  0  0  0  0  0  0  0  0  \n",
      "Real label:0 Neighbor -- Predict Labels: 0  0  0  0  0  0  0  0  0   -- Real Labels: 0  0  0  0  0  0  0  0  0  \n",
      "Real label:1 Neighbor -- Predict Labels: 1  1  1  1  1  1  1  1  1   -- Real Labels: 1  1  1  1  1  1  1  1  1  \n",
      "Real label:0 Neighbor -- Predict Labels: 0  0  0  0  0  0  0  0  0   -- Real Labels: 0  0  0  0  0  0  0  0  0  \n",
      "Real label:0 Neighbor -- Predict Labels: 0  0  0  0  0  0  0  0  0   -- Real Labels: 0  0  0  0  0  0  0  1  0  \n",
      "Real label:0 Neighbor -- Predict Labels: 0  0  0  1  0  0  0  1  0   -- Real Labels: 0  1  0  1  0  0  0  0  0  \n",
      "Real label:0 Neighbor -- Predict Labels: 0  0  0  0  0  1  0  0  0   -- Real Labels: 0  0  0  0  0  0  0  0  0  \n",
      "Real label:0 Neighbor -- Predict Labels: 0  0  0  0  0  0  0  0  0   -- Real Labels: 0  1  1  0  0  0  0  0  0  \n",
      "Real label:0 Neighbor -- Predict Labels: 0  0  0  0  0  0  0  0  0   -- Real Labels: 0  0  0  0  0  0  0  0  0  \n",
      "Real label:0 Neighbor -- Predict Labels: 0  0  0  0  0  0  0  0  0   -- Real Labels: 0  0  0  0  0  0  0  0  0  \n",
      "Real label:1 Neighbor -- Predict Labels: 0  1  0  1  1  1  0  0  1   -- Real Labels: 0  0  0  0  1  1  1  0  1  \n",
      "Real label:0 Neighbor -- Predict Labels: 0  0  0  0  0  0  0  0  0   -- Real Labels: 0  0  0  0  0  0  0  0  0  \n",
      "Real label:0 Neighbor -- Predict Labels: 0  0  0  0  0  0  0  0  0   -- Real Labels: 0  0  0  0  0  0  0  0  0  \n",
      "Real label:0 Neighbor -- Predict Labels: 0  0  0  0  0  0  0  0  0   -- Real Labels: 0  0  0  0  0  0  0  0  0  \n",
      "Real label:1 Neighbor -- Predict Labels: 1  1  1  1  1  1  1  1  1   -- Real Labels: 1  1  1  1  1  1  1  1  1  \n",
      "Real label:0 Neighbor -- Predict Labels: 0  0  0  0  0  0  0  0  0   -- Real Labels: 0  0  0  0  0  0  0  0  0  \n",
      "Real label:0 Neighbor -- Predict Labels: 0  0  0  0  0  0  0  0  0   -- Real Labels: 0  0  0  0  0  0  0  0  0  \n",
      "Real label:0 Neighbor -- Predict Labels: 0  0  0  0  0  0  1  1  1   -- Real Labels: 1  0  0  0  0  1  1  1  0  \n",
      "Real label:1 Neighbor -- Predict Labels: 0  1  0  1  1  1  0  1  1   -- Real Labels: 0  0  1  0  1  1  0  0  1  \n",
      "Real label:0 Neighbor -- Predict Labels: 0  0  0  0  0  0  0  0  0   -- Real Labels: 0  1  0  0  0  0  0  0  0  \n",
      "Real label:0 Neighbor -- Predict Labels: 0  0  0  0  0  1  0  0  0   -- Real Labels: 0  0  0  0  1  0  0  1  0  \n",
      "Real label:1 Neighbor -- Predict Labels: 0  0  1  1  1  1  0  0  1   -- Real Labels: 0  0  1  0  0  1  0  0  0  \n",
      "Real label:0 Neighbor -- Predict Labels: 0  0  0  0  0  0  0  0  0   -- Real Labels: 0  0  0  0  0  0  0  0  0  \n",
      "Real label:0 Neighbor -- Predict Labels: 0  0  0  0  0  0  0  0  0   -- Real Labels: 0  0  0  1  0  0  0  0  0  \n",
      "Real label:0 Neighbor -- Predict Labels: 0  0  0  1  0  0  0  0  0   -- Real Labels: 0  0  1  1  0  1  1  1  1  \n",
      "Real label:0 Neighbor -- Predict Labels: 0  0  0  0  0  0  0  0  0   -- Real Labels: 0  1  0  0  0  0  0  0  0  \n",
      "Real label:0 Neighbor -- Predict Labels: 0  1  0  0  1  1  0  0  1   -- Real Labels: 0  0  0  0  1  0  1  0  1  \n",
      "Real label:0 Neighbor -- Predict Labels: 0  0  0  0  0  0  0  0  0   -- Real Labels: 0  0  0  0  0  0  0  0  0  \n",
      "Real label:0 Neighbor -- Predict Labels: 0  0  0  0  0  0  0  0  0   -- Real Labels: 0  0  0  0  0  0  1  0  0  \n",
      "Real label:0 Neighbor -- Predict Labels: 0  0  0  0  0  0  0  0  0   -- Real Labels: 0  0  0  0  0  0  0  0  0  \n",
      "Real label:1 Neighbor -- Predict Labels: 1  0  1  1  1  1  1  1  0   -- Real Labels: 0  0  0  0  1  1  1  1  1  \n",
      "Real label:0 Neighbor -- Predict Labels: 0  0  1  0  0  0  0  0  0   -- Real Labels: 0  1  1  0  0  0  0  0  0  \n",
      "Real label:0 Neighbor -- Predict Labels: 0  0  0  0  1  0  0  0  0   -- Real Labels: 0  0  0  0  0  0  0  1  0  \n",
      "Real label:0 Neighbor -- Predict Labels: 1  0  1  0  1  1  0  1  1   -- Real Labels: 1  1  0  1  1  1  1  1  1  \n",
      "Real label:0 Neighbor -- Predict Labels: 0  0  0  0  0  0  0  0  0   -- Real Labels: 0  0  0  0  0  0  0  0  0  \n",
      "Real label:0 Neighbor -- Predict Labels: 0  0  0  0  0  0  0  0  0   -- Real Labels: 0  0  0  0  0  0  0  0  0  \n",
      "Real label:0 Neighbor -- Predict Labels: 0  0  0  0  0  0  0  0  0   -- Real Labels: 0  0  0  0  0  1  0  0  0  \n",
      "Real label:0 Neighbor -- Predict Labels: 0  0  0  0  0  0  0  0  0   -- Real Labels: 0  1  0  0  0  0  0  0  0  \n",
      "Real label:0 Neighbor -- Predict Labels: 1  0  0  0  1  0  1  0  0   -- Real Labels: 1  1  0  0  1  0  0  0  0  \n",
      "Real label:0 Neighbor -- Predict Labels: 0  0  0  0  0  0  0  0  0   -- Real Labels: 0  0  0  0  0  0  0  0  0  \n",
      "Real label:0 Neighbor -- Predict Labels: 0  0  0  0  0  0  0  0  0   -- Real Labels: 0  0  0  0  0  0  0  0  0  \n",
      "Real label:1 Neighbor -- Predict Labels: 1  0  0  1  1  0  0  1  0   -- Real Labels: 0  0  0  0  1  0  0  1  0  \n",
      "Real label:1 Neighbor -- Predict Labels: 1  1  1  1  1  1  0  1  1   -- Real Labels: 1  0  1  1  1  1  0  1  0  \n",
      "Real label:0 Neighbor -- Predict Labels: 0  0  0  0  0  0  0  0  0   -- Real Labels: 0  0  0  0  0  0  0  0  0  \n",
      "Real label:0 Neighbor -- Predict Labels: 0  0  0  0  0  0  0  0  0   -- Real Labels: 0  0  0  0  0  0  0  0  0  \n",
      "Real label:0 Neighbor -- Predict Labels: 0  0  0  0  0  0  0  0  0   -- Real Labels: 0  0  0  0  0  0  0  0  0  \n",
      "Real label:1 Neighbor -- Predict Labels: 1  1  0  1  1  0  0  0  1   -- Real Labels: 1  1  0  1  0  0  0  0  0  \n",
      "Real label:0 Neighbor -- Predict Labels: 0  0  0  0  0  0  0  0  0   -- Real Labels: 0  0  0  0  0  0  0  0  0  \n",
      "Real label:1 Neighbor -- Predict Labels: 1  1  1  0  0  1  1  0  0   -- Real Labels: 0  1  0  1  0  1  1  1  0  \n",
      "Real label:0 Neighbor -- Predict Labels: 0  0  0  0  0  0  0  0  0   -- Real Labels: 0  0  0  0  0  0  0  0  0  \n",
      "Real label:1 Neighbor -- Predict Labels: 0  1  0  1  0  1  0  0  0   -- Real Labels: 0  0  1  0  0  1  1  0  0  \n",
      "Real label:1 Neighbor -- Predict Labels: 1  1  1  1  1  1  1  1  1   -- Real Labels: 1  0  1  1  1  1  1  1  0  \n",
      "Real label:0 Neighbor -- Predict Labels: 0  0  0  0  0  0  0  0  0   -- Real Labels: 0  0  0  0  0  0  0  0  0  \n",
      "Real label:0 Neighbor -- Predict Labels: 0  0  0  0  0  0  0  0  0   -- Real Labels: 0  0  0  0  0  0  0  0  0  \n",
      "Real label:0 Neighbor -- Predict Labels: 0  0  0  0  0  0  0  1  0   -- Real Labels: 0  0  0  0  0  0  1  1  1  \n",
      "Real label:0 Neighbor -- Predict Labels: 0  0  0  0  0  0  0  0  0   -- Real Labels: 0  0  0  0  0  0  0  0  0  \n",
      "Real label:0 Neighbor -- Predict Labels: 0  0  0  0  0  0  0  0  0   -- Real Labels: 0  0  0  0  0  0  0  0  0  \n",
      "Real label:0 Neighbor -- Predict Labels: 0  1  0  1  0  0  0  0  0   -- Real Labels: 1  0  0  0  0  1  0  0  0  \n",
      "Real label:1 Neighbor -- Predict Labels: 1  1  1  1  1  1  0  1  1   -- Real Labels: 1  0  0  1  1  1  0  1  1  \n",
      "Real label:0 Neighbor -- Predict Labels: 0  0  0  0  0  0  0  0  0   -- Real Labels: 0  0  0  0  1  0  0  0  0  \n",
      "Real label:1 Neighbor -- Predict Labels: 1  0  1  1  1  1  0  1  1   -- Real Labels: 1  1  1  1  1  1  1  1  1  \n",
      "Real label:0 Neighbor -- Predict Labels: 0  0  0  0  0  0  0  0  0   -- Real Labels: 0  0  0  0  0  0  0  0  0  \n",
      "Real label:1 Neighbor -- Predict Labels: 1  0  1  0  0  0  1  0  0   -- Real Labels: 0  0  0  0  0  0  1  0  0  \n",
      "Real label:0 Neighbor -- Predict Labels: 0  0  0  0  0  0  0  0  0   -- Real Labels: 0  0  0  0  0  0  0  0  0  \n",
      "Real label:0 Neighbor -- Predict Labels: 0  0  0  0  0  0  0  0  0   -- Real Labels: 0  0  0  0  0  0  0  0  0  \n",
      "Real label:0 Neighbor -- Predict Labels: 0  1  0  1  0  0  1  0  1   -- Real Labels: 0  1  0  0  1  0  1  0  0  \n",
      "Real label:1 Neighbor -- Predict Labels: 1  1  1  1  1  1  1  1  1   -- Real Labels: 1  1  1  1  1  1  1  1  1  \n",
      "Real label:0 Neighbor -- Predict Labels: 0  0  0  0  0  0  0  0  0   -- Real Labels: 0  0  0  0  0  0  0  0  0  \n",
      "Real label:0 Neighbor -- Predict Labels: 0  0  0  0  0  0  0  0  0   -- Real Labels: 0  0  0  0  0  0  0  0  0  \n",
      "Real label:0 Neighbor -- Predict Labels: 0  0  0  0  0  0  0  0  0   -- Real Labels: 0  0  0  0  0  0  0  0  0  \n",
      "Real label:1 Neighbor -- Predict Labels: 1  1  1  1  1  1  1  1  1   -- Real Labels: 1  1  1  1  1  1  1  1  1  \n",
      "Real label:1 Neighbor -- Predict Labels: 0  0  0  1  0  1  1  0  1   -- Real Labels: 0  0  0  1  1  0  0  0  0  \n",
      "Real label:0 Neighbor -- Predict Labels: 0  0  0  0  0  0  0  0  0   -- Real Labels: 0  0  0  0  0  0  0  0  0  \n",
      "Real label:0 Neighbor -- Predict Labels: 0  0  0  0  0  0  0  0  0   -- Real Labels: 0  0  0  0  0  0  0  0  0  \n",
      "Real label:1 Neighbor -- Predict Labels: 1  1  1  1  1  1  1  1  1   -- Real Labels: 1  1  1  1  1  1  1  1  1  \n",
      "Real label:0 Neighbor -- Predict Labels: 0  0  0  0  0  0  0  0  0   -- Real Labels: 0  0  0  0  0  0  0  0  0  \n",
      "Real label:0 Neighbor -- Predict Labels: 0  0  0  0  0  0  0  0  0   -- Real Labels: 0  0  0  0  0  0  0  0  0  \n",
      "Real label:0 Neighbor -- Predict Labels: 0  0  0  0  0  0  0  0  0   -- Real Labels: 0  0  0  0  0  0  0  0  0  \n",
      "Real label:1 Neighbor -- Predict Labels: 1  1  1  1  1  1  1  1  1   -- Real Labels: 1  1  1  1  1  1  1  1  1  \n",
      "Real label:0 Neighbor -- Predict Labels: 0  0  0  0  0  0  0  0  0   -- Real Labels: 0  0  0  0  0  0  0  0  0  \n",
      "Real label:0 Neighbor -- Predict Labels: 0  0  0  0  0  0  0  0  0   -- Real Labels: 0  0  0  0  0  0  0  0  0  \n",
      "Real label:0 Neighbor -- Predict Labels: 0  0  0  0  0  0  0  0  0   -- Real Labels: 0  0  1  0  0  0  1  0  0  \n",
      "Real label:1 Neighbor -- Predict Labels: 0  1  1  1  0  1  1  0  0   -- Real Labels: 0  1  1  1  0  1  0  0  0  \n",
      "Real label:0 Neighbor -- Predict Labels: 0  0  0  0  0  0  0  0  0   -- Real Labels: 0  0  0  0  0  0  0  0  0  \n",
      "Real label:0 Neighbor -- Predict Labels: 0  0  0  0  0  0  0  0  0   -- Real Labels: 0  0  0  0  0  0  0  0  0  \n",
      "Real label:0 Neighbor -- Predict Labels: 0  0  0  0  0  1  0  0  0   -- Real Labels: 1  0  0  0  0  1  0  0  0  \n",
      "Real label:1 Neighbor -- Predict Labels: 0  0  0  0  0  0  0  0  1   -- Real Labels: 0  0  0  1  0  0  0  0  1  \n",
      "Real label:0 Neighbor -- Predict Labels: 0  0  0  0  1  1  0  0  1   -- Real Labels: 1  0  0  0  1  1  0  0  1  \n",
      "Real label:0 Neighbor -- Predict Labels: 0  0  1  1  0  0  1  1  0   -- Real Labels: 0  0  1  1  1  0  0  1  0  \n",
      "Real label:0 Neighbor -- Predict Labels: 0  0  0  0  0  0  0  0  0   -- Real Labels: 0  0  0  0  0  0  0  0  1  \n",
      "Real label:1 Neighbor -- Predict Labels: 1  1  1  1  1  1  1  1  1   -- Real Labels: 1  1  1  1  1  1  1  1  1  \n",
      "Real label:0 Neighbor -- Predict Labels: 0  0  0  0  0  0  0  0  0   -- Real Labels: 0  0  0  0  0  0  0  0  0  \n",
      "Real label:0 Neighbor -- Predict Labels: 0  0  1  1  0  0  0  0  0   -- Real Labels: 0  0  0  1  0  0  1  0  0  \n",
      "Real label:0 Neighbor -- Predict Labels: 0  0  0  0  0  0  0  0  0   -- Real Labels: 0  0  0  0  0  0  0  0  0  \n",
      "Real label:1 Neighbor -- Predict Labels: 1  0  0  1  0  0  0  1  0   -- Real Labels: 1  0  0  0  0  0  0  1  0  \n",
      "Real label:1 Neighbor -- Predict Labels: 0  1  0  0  1  1  0  0  1   -- Real Labels: 0  1  0  0  1  1  0  0  0  \n",
      "Real label:0 Neighbor -- Predict Labels: 0  0  1  0  0  0  0  0  0   -- Real Labels: 0  0  1  0  0  0  0  1  0  \n",
      "Real label:0 Neighbor -- Predict Labels: 1  0  0  0  1  0  1  0  0   -- Real Labels: 1  1  0  1  0  0  1  1  1  \n",
      "Real label:1 Neighbor -- Predict Labels: 1  1  1  1  1  1  1  1  1   -- Real Labels: 1  1  1  1  1  1  1  1  1  \n",
      "Real label:0 Neighbor -- Predict Labels: 0  0  0  0  0  0  0  0  0   -- Real Labels: 0  0  0  0  0  0  0  0  0  \n",
      "Real label:0 Neighbor -- Predict Labels: 0  0  0  0  0  0  0  0  0   -- Real Labels: 0  0  0  0  0  0  1  0  0  \n",
      "Real label:0 Neighbor -- Predict Labels: 0  0  0  0  0  0  0  0  0   -- Real Labels: 0  0  0  0  0  0  0  0  0  \n",
      "Real label:1 Neighbor -- Predict Labels: 1  1  1  1  1  1  1  1  1   -- Real Labels: 1  1  1  1  1  1  1  1  1  \n",
      "Real label:0 Neighbor -- Predict Labels: 0  0  0  0  0  0  0  0  0   -- Real Labels: 0  0  0  0  0  0  0  0  0  \n",
      "Real label:0 Neighbor -- Predict Labels: 0  0  0  0  0  0  0  0  0   -- Real Labels: 0  0  0  0  0  0  0  0  0  \n",
      "Real label:0 Neighbor -- Predict Labels: 0  0  0  0  0  0  0  0  0   -- Real Labels: 0  0  0  0  0  0  0  0  0  \n",
      "Real label:0 Neighbor -- Predict Labels: 0  1  0  0  1  0  0  0  1   -- Real Labels: 0  1  0  0  0  0  0  0  1  \n",
      "Real label:0 Neighbor -- Predict Labels: 0  0  0  0  0  0  0  0  0   -- Real Labels: 0  0  0  0  0  0  0  0  0  \n",
      "Real label:0 Neighbor -- Predict Labels: 0  0  0  0  0  0  0  0  0   -- Real Labels: 0  0  0  0  0  0  0  0  0  \n",
      "Real label:0 Neighbor -- Predict Labels: 0  0  0  0  0  0  0  0  0   -- Real Labels: 0  0  0  0  0  0  0  0  1  \n",
      "Real label:1 Neighbor -- Predict Labels: 1  1  1  1  1  1  1  1  1   -- Real Labels: 1  1  1  1  1  1  1  1  1  \n",
      "Real label:0 Neighbor -- Predict Labels: 0  0  0  0  0  0  0  0  0   -- Real Labels: 0  0  0  0  0  0  0  0  0  \n",
      "Real label:0 Neighbor -- Predict Labels: 0  0  1  0  0  0  0  0  0   -- Real Labels: 0  0  1  0  0  0  1  0  0  \n",
      "Real label:0 Neighbor -- Predict Labels: 0  0  0  0  0  0  0  0  0   -- Real Labels: 0  0  0  0  0  0  0  0  0  \n",
      "Real label:1 Neighbor -- Predict Labels: 0  0  1  0  0  0  0  1  0   -- Real Labels: 0  0  0  0  0  0  0  0  0  \n",
      "Real label:0 Neighbor -- Predict Labels: 0  0  0  0  0  0  0  0  0   -- Real Labels: 0  0  0  0  0  0  0  0  0  \n",
      "Real label:0 Neighbor -- Predict Labels: 0  0  0  0  0  0  0  0  0   -- Real Labels: 0  0  0  0  0  0  0  0  0  \n",
      "Real label:0 Neighbor -- Predict Labels: 0  0  0  0  0  0  0  0  0   -- Real Labels: 0  0  0  0  0  0  0  0  0  \n",
      "Real label:0 Neighbor -- Predict Labels: 0  0  0  0  1  1  0  0  0   -- Real Labels: 0  0  0  0  1  1  1  1  1  \n",
      "Real label:0 Neighbor -- Predict Labels: 0  0  0  0  0  0  0  0  0   -- Real Labels: 0  0  0  0  0  0  0  0  0  \n",
      "Real label:0 Neighbor -- Predict Labels: 0  0  0  0  0  0  0  0  0   -- Real Labels: 0  0  0  0  0  0  0  0  0  \n",
      "Real label:0 Neighbor -- Predict Labels: 0  0  0  0  0  0  0  0  0   -- Real Labels: 0  0  0  0  0  0  0  0  0  \n",
      "Real label:0 Neighbor -- Predict Labels: 0  0  0  1  1  1  1  0  0   -- Real Labels: 1  0  0  0  0  0  1  0  0  \n",
      "Real label:1 Neighbor -- Predict Labels: 0  1  1  0  0  1  0  0  0   -- Real Labels: 0  1  0  0  0  0  0  1  0  \n",
      "Real label:0 Neighbor -- Predict Labels: 0  0  0  0  0  0  0  0  0   -- Real Labels: 0  0  0  0  0  0  0  0  0  \n",
      "Real label:0 Neighbor -- Predict Labels: 0  0  0  0  0  0  0  0  0   -- Real Labels: 0  0  1  0  0  0  0  0  0  \n",
      "Real label:1 Neighbor -- Predict Labels: 1  1  1  1  1  1  1  1  1   -- Real Labels: 1  1  1  1  1  1  1  1  1  \n",
      "Real label:0 Neighbor -- Predict Labels: 0  0  0  0  0  0  0  1  0   -- Real Labels: 0  0  1  0  0  0  1  0  0  \n",
      "Real label:0 Neighbor -- Predict Labels: 0  0  0  0  0  0  0  0  1   -- Real Labels: 0  0  0  0  0  0  0  1  1  \n",
      "Real label:0 Neighbor -- Predict Labels: 0  0  0  0  0  0  0  0  0   -- Real Labels: 0  0  0  0  0  0  0  1  0  \n",
      "Real label:1 Neighbor -- Predict Labels: 0  0  0  0  0  0  0  0  0   -- Real Labels: 0  0  0  0  0  0  0  0  1  \n",
      "Real label:0 Neighbor -- Predict Labels: 0  0  0  0  0  0  0  0  0   -- Real Labels: 0  0  0  0  0  0  0  0  0  \n",
      "Real label:0 Neighbor -- Predict Labels: 0  0  0  0  0  0  0  0  0   -- Real Labels: 0  0  0  0  0  0  0  0  0  \n",
      "Real label:0 Neighbor -- Predict Labels: 0  0  0  0  0  0  0  0  0   -- Real Labels: 0  0  0  0  0  0  0  0  0  \n",
      "Real label:1 Neighbor -- Predict Labels: 1  1  1  1  1  1  1  1  1   -- Real Labels: 1  1  1  1  1  1  1  1  1  \n",
      "Real label:0 Neighbor -- Predict Labels: 0  0  0  0  0  0  0  0  0   -- Real Labels: 0  0  0  0  0  0  0  0  0  \n",
      "Real label:1 Neighbor -- Predict Labels: 1  1  0  1  0  1  0  0  0   -- Real Labels: 1  1  0  1  0  1  0  0  0  \n",
      "Real label:0 Neighbor -- Predict Labels: 0  0  0  0  0  0  0  0  0   -- Real Labels: 0  0  0  0  0  0  0  0  0  \n",
      "Real label:1 Neighbor -- Predict Labels: 1  1  1  1  1  1  1  1  1   -- Real Labels: 1  1  1  1  1  1  1  1  1  \n",
      "Real label:0 Neighbor -- Predict Labels: 0  0  0  0  0  0  0  0  0   -- Real Labels: 0  0  0  0  0  0  0  0  0  \n",
      "Real label:0 Neighbor -- Predict Labels: 0  0  0  0  0  0  0  0  0   -- Real Labels: 0  0  0  0  0  0  0  0  0  \n",
      "Real label:0 Neighbor -- Predict Labels: 0  0  0  0  0  0  0  0  0   -- Real Labels: 0  0  1  0  0  0  0  1  0  \n",
      "Real label:1 Neighbor -- Predict Labels: 0  1  1  0  0  1  1  1  0   -- Real Labels: 0  0  1  0  0  1  0  1  0  \n",
      "Real label:1 Neighbor -- Predict Labels: 1  1  1  0  0  1  1  1  1   -- Real Labels: 1  1  0  1  0  0  1  1  1  \n",
      "Real label:0 Neighbor -- Predict Labels: 0  0  0  0  0  0  0  0  0   -- Real Labels: 0  0  0  0  0  0  0  0  0  \n",
      "Real label:0 Neighbor -- Predict Labels: 0  0  0  0  0  0  0  0  0   -- Real Labels: 0  0  0  0  0  0  0  0  0  \n",
      "Real label:1 Neighbor -- Predict Labels: 0  1  1  1  1  1  0  1  1   -- Real Labels: 0  1  0  1  0  1  0  1  1  \n",
      "Real label:0 Neighbor -- Predict Labels: 0  0  0  0  0  0  0  0  0   -- Real Labels: 0  0  0  0  0  0  0  0  0  \n",
      "Real label:0 Neighbor -- Predict Labels: 0  0  0  0  0  0  0  0  0   -- Real Labels: 0  0  0  0  0  0  0  0  0  \n",
      "Real label:0 Neighbor -- Predict Labels: 0  0  0  0  0  0  0  0  0   -- Real Labels: 0  0  0  0  0  0  0  0  0  \n",
      "Real label:0 Neighbor -- Predict Labels: 1  0  1  0  1  1  0  1  0   -- Real Labels: 0  0  1  0  0  1  0  0  0  \n",
      "Real label:0 Neighbor -- Predict Labels: 1  0  1  1  0  0  0  0  0   -- Real Labels: 1  0  1  1  0  0  0  0  0  \n",
      "Real label:0 Neighbor -- Predict Labels: 0  0  0  0  0  0  0  0  0   -- Real Labels: 0  0  0  0  0  0  0  0  0  \n",
      "Real label:0 Neighbor -- Predict Labels: 0  0  0  0  0  0  0  0  0   -- Real Labels: 0  0  0  0  0  0  0  0  0  \n",
      "Real label:1 Neighbor -- Predict Labels: 1  1  1  1  1  1  1  1  1   -- Real Labels: 1  1  1  1  1  1  1  1  1  \n",
      "Real label:0 Neighbor -- Predict Labels: 0  0  0  0  0  0  0  0  0   -- Real Labels: 0  0  0  0  0  0  0  0  0  \n",
      "Real label:0 Neighbor -- Predict Labels: 0  0  0  0  0  0  0  0  0   -- Real Labels: 0  0  0  0  0  0  0  0  0  \n",
      "Real label:0 Neighbor -- Predict Labels: 0  0  0  0  0  0  0  0  0   -- Real Labels: 0  0  0  0  0  0  0  0  0  \n",
      "Real label:1 Neighbor -- Predict Labels: 1  1  1  1  1  1  1  1  1   -- Real Labels: 1  1  1  1  1  1  1  1  1  \n",
      "Real label:0 Neighbor -- Predict Labels: 0  0  0  0  0  0  0  0  0   -- Real Labels: 0  0  0  0  0  0  0  0  0  \n",
      "Real label:0 Neighbor -- Predict Labels: 0  0  0  0  0  0  0  0  0   -- Real Labels: 0  0  0  0  0  0  0  0  0  \n",
      "Real label:0 Neighbor -- Predict Labels: 0  0  0  0  0  0  0  0  0   -- Real Labels: 1  0  0  0  0  0  0  0  0  \n",
      "Real label:0 Neighbor -- Predict Labels: 0  1  0  0  0  0  0  0  0   -- Real Labels: 0  1  1  0  0  0  1  1  0  \n",
      "Real label:0 Neighbor -- Predict Labels: 0  0  0  0  0  0  0  1  1   -- Real Labels: 0  0  0  0  0  0  0  1  0  \n",
      "Real label:0 Neighbor -- Predict Labels: 0  0  0  0  1  0  1  0  0   -- Real Labels: 0  0  0  0  1  0  0  0  1  \n",
      "Real label:0 Neighbor -- Predict Labels: 0  0  0  0  0  0  0  0  0   -- Real Labels: 0  0  0  0  0  0  0  0  0  \n",
      "Real label:0 Neighbor -- Predict Labels: 1  0  0  0  0  0  0  0  0   -- Real Labels: 1  0  0  0  0  0  0  0  0  \n",
      "Real label:1 Neighbor -- Predict Labels: 1  1  1  0  1  0  1  1  1   -- Real Labels: 1  1  1  0  1  0  1  1  1  \n",
      "Real label:0 Neighbor -- Predict Labels: 0  0  0  0  0  0  0  0  0   -- Real Labels: 0  0  0  0  0  0  0  0  0  \n",
      "Real label:0 Neighbor -- Predict Labels: 0  0  0  0  0  0  0  0  0   -- Real Labels: 0  0  0  0  0  0  0  0  0  \n",
      "Real label:1 Neighbor -- Predict Labels: 0  0  0  0  0  0  0  0  0   -- Real Labels: 0  0  0  1  1  0  1  1  0  \n",
      "Real label:0 Neighbor -- Predict Labels: 0  0  0  0  0  0  0  0  0   -- Real Labels: 0  0  0  0  0  0  0  0  0  \n",
      "Real label:0 Neighbor -- Predict Labels: 0  0  1  1  0  0  0  0  0   -- Real Labels: 0  1  1  0  0  0  0  1  0  \n",
      "Real label:0 Neighbor -- Predict Labels: 0  0  0  0  0  0  0  0  0   -- Real Labels: 0  0  0  0  0  0  0  0  0  \n",
      "Real label:1 Neighbor -- Predict Labels: 0  0  1  0  0  0  0  0  0   -- Real Labels: 0  0  1  0  0  1  0  0  1  \n",
      "Real label:0 Neighbor -- Predict Labels: 0  0  0  0  0  1  0  0  0   -- Real Labels: 0  0  0  0  1  1  0  0  0  \n",
      "Real label:0 Neighbor -- Predict Labels: 0  0  0  0  0  0  1  0  0   -- Real Labels: 0  0  0  0  0  0  1  0  0  \n",
      "Real label:0 Neighbor -- Predict Labels: 0  0  0  0  0  0  0  0  0   -- Real Labels: 0  0  0  0  0  0  0  0  0  \n",
      "Real label:1 Neighbor -- Predict Labels: 1  1  1  1  1  1  1  0  0   -- Real Labels: 1  1  1  1  1  1  1  0  0  \n",
      "Real label:0 Neighbor -- Predict Labels: 0  0  0  0  0  0  0  0  0   -- Real Labels: 0  0  0  0  0  0  0  0  0  \n",
      "Real label:0 Neighbor -- Predict Labels: 0  0  0  0  0  0  0  0  0   -- Real Labels: 0  0  0  0  0  0  0  0  0  \n",
      "Real label:0 Neighbor -- Predict Labels: 0  0  0  0  0  0  0  0  0   -- Real Labels: 0  0  0  0  0  0  0  0  1  \n",
      "Real label:0 Neighbor -- Predict Labels: 0  0  0  0  0  0  0  0  0   -- Real Labels: 0  0  0  0  0  0  0  0  0  \n",
      "Real label:0 Neighbor -- Predict Labels: 0  0  0  0  0  0  0  0  0   -- Real Labels: 0  0  0  0  0  0  0  0  0  \n",
      "Real label:0 Neighbor -- Predict Labels: 0  0  0  0  0  0  0  0  0   -- Real Labels: 0  0  0  0  0  0  0  0  0  \n",
      "Real label:0 Neighbor -- Predict Labels: 0  0  0  0  0  0  0  0  0   -- Real Labels: 0  0  0  0  0  0  0  0  0  \n",
      "Real label:0 Neighbor -- Predict Labels: 1  0  1  0  0  1  1  0  1   -- Real Labels: 1  0  1  1  0  0  0  0  1  \n",
      "Real label:1 Neighbor -- Predict Labels: 1  1  1  0  1  1  1  0  1   -- Real Labels: 1  1  1  1  1  1  1  1  1  \n",
      "Real label:0 Neighbor -- Predict Labels: 0  0  0  0  0  0  0  0  0   -- Real Labels: 0  0  0  0  0  0  0  0  0  \n",
      "Real label:0 Neighbor -- Predict Labels: 0  0  0  0  0  0  0  0  0   -- Real Labels: 0  0  0  0  0  0  0  0  0  \n",
      "Real label:1 Neighbor -- Predict Labels: 1  1  1  1  1  1  1  1  1   -- Real Labels: 1  1  1  1  1  1  1  1  1  \n",
      "Real label:0 Neighbor -- Predict Labels: 0  0  0  0  0  0  0  0  0   -- Real Labels: 0  0  0  0  0  0  0  0  0  \n",
      "Real label:0 Neighbor -- Predict Labels: 0  0  0  0  0  0  0  0  0   -- Real Labels: 0  0  0  0  0  0  0  0  0  \n",
      "Real label:1 Neighbor -- Predict Labels: 1  1  0  0  1  1  1  0  0   -- Real Labels: 0  0  0  0  1  1  0  0  0  \n",
      "Real label:0 Neighbor -- Predict Labels: 0  0  0  0  1  0  0  0  0   -- Real Labels: 0  1  0  0  0  0  1  0  0  \n",
      "Real label:0 Neighbor -- Predict Labels: 0  0  0  0  0  0  0  0  0   -- Real Labels: 1  0  0  0  0  0  0  0  0  \n",
      "Real label:0 Neighbor -- Predict Labels: 0  0  0  0  0  0  0  0  0   -- Real Labels: 0  0  0  0  0  0  0  0  0  \n",
      "Real label:0 Neighbor -- Predict Labels: 0  0  0  0  0  0  0  0  0   -- Real Labels: 0  0  0  0  0  0  0  0  0  \n",
      "Real label:1 Neighbor -- Predict Labels: 1  1  1  1  1  1  1  1  1   -- Real Labels: 1  1  1  1  1  1  1  1  1  \n",
      "Real label:0 Neighbor -- Predict Labels: 0  0  0  0  0  0  0  0  0   -- Real Labels: 0  0  0  0  0  0  0  0  0  \n",
      "Real label:0 Neighbor -- Predict Labels: 0  0  0  0  0  0  0  0  0   -- Real Labels: 0  0  0  0  0  0  0  0  0  \n",
      "Real label:0 Neighbor -- Predict Labels: 0  0  0  0  0  0  0  0  0   -- Real Labels: 0  0  0  0  0  0  0  0  0  \n",
      "Real label:0 Neighbor -- Predict Labels: 1  1  0  0  1  0  0  0  0   -- Real Labels: 0  1  0  0  1  0  0  0  0  \n",
      "Real label:0 Neighbor -- Predict Labels: 0  0  0  0  0  0  0  0  0   -- Real Labels: 0  0  0  0  0  1  0  0  0  \n",
      "Real label:0 Neighbor -- Predict Labels: 0  0  0  0  0  0  0  0  0   -- Real Labels: 0  0  0  0  0  0  0  0  0  \n",
      "Real label:1 Neighbor -- Predict Labels: 0  0  1  1  0  0  0  1  0   -- Real Labels: 1  0  1  0  1  1  0  0  0  \n",
      "Real label:1 Neighbor -- Predict Labels: 1  1  1  1  1  1  1  1  1   -- Real Labels: 1  1  1  1  1  1  1  1  1  \n",
      "Real label:0 Neighbor -- Predict Labels: 0  0  0  0  0  0  0  0  0   -- Real Labels: 0  0  0  0  0  0  0  0  0  \n",
      "Real label:0 Neighbor -- Predict Labels: 0  0  0  0  0  0  0  0  0   -- Real Labels: 0  0  0  0  0  0  0  0  0  \n",
      "Real label:0 Neighbor -- Predict Labels: 0  0  0  0  0  0  0  0  0   -- Real Labels: 0  0  0  0  0  0  0  0  0  \n",
      "Real label:1 Neighbor -- Predict Labels: 1  1  0  1  0  1  0  1  0   -- Real Labels: 1  1  0  1  0  1  0  1  0  \n",
      "Real label:0 Neighbor -- Predict Labels: 0  0  0  0  0  0  0  0  0   -- Real Labels: 0  0  0  0  0  0  0  0  0  \n",
      "Real label:0 Neighbor -- Predict Labels: 0  0  0  0  0  0  0  0  0   -- Real Labels: 0  0  0  0  0  0  0  0  0  \n",
      "Real label:0 Neighbor -- Predict Labels: 0  0  0  0  0  0  0  0  0   -- Real Labels: 0  0  0  0  0  0  0  0  0  \n",
      "Real label:0 Neighbor -- Predict Labels: 0  0  0  0  0  0  1  0  0   -- Real Labels: 0  0  0  0  0  0  0  0  0  \n",
      "Real label:1 Neighbor -- Predict Labels: 0  0  1  1  0  0  0  0  1   -- Real Labels: 0  0  1  1  1  0  0  0  1  \n",
      "Real label:0 Neighbor -- Predict Labels: 0  0  0  0  0  0  0  0  0   -- Real Labels: 0  0  0  0  0  0  0  0  0  \n",
      "Real label:1 Neighbor -- Predict Labels: 1  1  1  1  1  1  1  0  0   -- Real Labels: 1  0  0  1  1  1  1  0  0  \n",
      "Real label:1 Neighbor -- Predict Labels: 1  1  1  1  1  1  1  1  1   -- Real Labels: 1  1  1  1  1  1  1  1  1  \n",
      "Real label:0 Neighbor -- Predict Labels: 1  1  1  1  1  1  1  1  0   -- Real Labels: 0  0  1  0  1  0  0  1  0  \n",
      "Real label:0 Neighbor -- Predict Labels: 0  0  0  1  0  1  1  1  0   -- Real Labels: 1  1  0  1  0  0  0  0  0  \n",
      "Real label:0 Neighbor -- Predict Labels: 0  0  0  0  0  0  0  0  0   -- Real Labels: 0  1  0  0  0  1  0  0  0  \n",
      "Real label:1 Neighbor -- Predict Labels: 1  1  1  1  0  0  1  1  1   -- Real Labels: 1  0  1  1  0  0  0  1  1  \n",
      "Real label:0 Neighbor -- Predict Labels: 0  0  0  0  0  0  0  0  0   -- Real Labels: 0  0  0  0  0  0  0  0  0  \n",
      "Real label:0 Neighbor -- Predict Labels: 0  0  0  0  0  0  0  0  0   -- Real Labels: 0  0  0  0  0  0  0  0  0  \n",
      "Real label:0 Neighbor -- Predict Labels: 0  0  0  0  0  0  0  0  0   -- Real Labels: 0  0  0  0  0  0  0  0  0  \n",
      "Real label:1 Neighbor -- Predict Labels: 1  1  1  1  1  1  1  1  1   -- Real Labels: 1  1  1  1  1  1  1  1  1  \n",
      "Real label:0 Neighbor -- Predict Labels: 0  0  0  0  0  0  0  0  0   -- Real Labels: 0  0  0  0  0  0  0  0  1  \n",
      "Real label:0 Neighbor -- Predict Labels: 1  1  0  1  0  0  0  0  0   -- Real Labels: 1  1  0  0  0  1  1  0  0  \n",
      "Real label:0 Neighbor -- Predict Labels: 0  0  0  0  0  0  0  0  0   -- Real Labels: 0  0  0  0  0  0  0  0  0  \n",
      "Real label:1 Neighbor -- Predict Labels: 1  1  1  1  1  1  1  1  1   -- Real Labels: 1  1  1  1  1  1  1  1  1  \n",
      "Real label:0 Neighbor -- Predict Labels: 1  1  0  1  1  0  0  1  1   -- Real Labels: 1  0  0  1  0  0  0  0  1  \n",
      "Real label:0 Neighbor -- Predict Labels: 0  0  0  0  0  0  0  0  0   -- Real Labels: 0  0  0  0  0  0  0  0  0  \n",
      "Real label:0 Neighbor -- Predict Labels: 0  0  0  0  0  0  0  0  0   -- Real Labels: 0  0  0  0  0  0  0  0  0  \n",
      "Real label:1 Neighbor -- Predict Labels: 1  1  1  1  1  1  1  1  1   -- Real Labels: 1  1  1  1  1  1  1  1  1  \n",
      "Real label:0 Neighbor -- Predict Labels: 0  0  0  0  0  0  0  0  0   -- Real Labels: 0  0  0  0  0  0  0  0  0  \n",
      "Real label:0 Neighbor -- Predict Labels: 0  0  0  0  0  0  0  0  0   -- Real Labels: 0  0  0  0  0  0  0  0  0  \n",
      "Real label:0 Neighbor -- Predict Labels: 0  0  0  0  0  0  0  0  0   -- Real Labels: 0  0  0  0  0  0  0  0  0  \n",
      "Real label:0 Neighbor -- Predict Labels: 0  0  0  0  0  0  0  0  0   -- Real Labels: 0  0  0  0  0  0  0  0  0  \n",
      "Real label:0 Neighbor -- Predict Labels: 0  0  0  0  0  0  0  0  0   -- Real Labels: 0  0  0  0  0  0  0  0  0  \n",
      "Real label:0 Neighbor -- Predict Labels: 0  0  0  0  0  0  0  0  0   -- Real Labels: 0  0  0  0  0  0  0  0  0  \n",
      "Real label:0 Neighbor -- Predict Labels: 0  0  0  0  0  0  0  0  0   -- Real Labels: 0  0  0  0  0  0  0  0  0  \n",
      "Real label:1 Neighbor -- Predict Labels: 1  1  1  1  1  1  1  1  1   -- Real Labels: 1  0  1  0  1  1  1  1  0  \n",
      "Real label:0 Neighbor -- Predict Labels: 0  0  0  0  0  0  0  0  0   -- Real Labels: 0  0  0  0  0  0  0  1  0  \n",
      "Real label:1 Neighbor -- Predict Labels: 1  1  1  1  1  1  1  1  1   -- Real Labels: 1  1  1  1  1  1  1  1  1  \n",
      "Real label:0 Neighbor -- Predict Labels: 0  0  0  0  0  0  0  0  0   -- Real Labels: 0  0  0  0  0  0  0  0  0  \n",
      "Real label:1 Neighbor -- Predict Labels: 1  0  1  0  0  0  0  1  0   -- Real Labels: 1  0  1  1  0  0  0  0  0  \n",
      "Real label:0 Neighbor -- Predict Labels: 0  0  0  0  0  0  0  0  0   -- Real Labels: 0  0  0  0  0  0  0  0  1  \n",
      "Real label:0 Neighbor -- Predict Labels: 0  0  0  0  0  0  0  0  0   -- Real Labels: 0  0  0  0  0  0  0  0  0  \n",
      "Real label:0 Neighbor -- Predict Labels: 0  0  0  0  0  0  0  0  0   -- Real Labels: 0  0  0  0  0  0  0  0  0  \n",
      "Real label:0 Neighbor -- Predict Labels: 0  0  0  0  0  0  0  0  0   -- Real Labels: 0  0  0  0  0  0  0  0  0  \n",
      "Real label:0 Neighbor -- Predict Labels: 0  0  0  0  0  0  0  0  0   -- Real Labels: 0  0  0  0  0  0  0  0  0  \n",
      "Real label:0 Neighbor -- Predict Labels: 0  0  0  0  0  0  0  0  0   -- Real Labels: 0  0  0  0  0  0  0  0  0  \n",
      "Real label:0 Neighbor -- Predict Labels: 0  0  0  1  1  0  0  1  0   -- Real Labels: 0  0  0  1  1  0  1  1  0  \n",
      "Real label:1 Neighbor -- Predict Labels: 1  1  1  1  1  1  0  1  0   -- Real Labels: 1  1  1  1  1  1  1  1  0  \n",
      "Real label:0 Neighbor -- Predict Labels: 0  0  0  0  0  0  0  0  0   -- Real Labels: 0  0  0  0  0  0  0  0  0  \n",
      "Real label:0 Neighbor -- Predict Labels: 0  0  0  0  0  0  0  0  0   -- Real Labels: 0  0  0  0  0  0  0  0  0  \n",
      "Real label:0 Neighbor -- Predict Labels: 0  0  0  0  0  0  0  0  0   -- Real Labels: 0  0  0  0  0  0  0  0  0  \n",
      "Real label:1 Neighbor -- Predict Labels: 1  1  1  1  1  1  1  1  1   -- Real Labels: 0  1  0  1  1  0  1  1  1  \n",
      "Real label:0 Neighbor -- Predict Labels: 0  0  0  0  0  0  0  0  0   -- Real Labels: 0  0  0  0  0  0  0  0  0  \n",
      "Real label:0 Neighbor -- Predict Labels: 0  0  0  0  0  0  0  0  0   -- Real Labels: 0  0  0  0  0  0  0  0  0  \n",
      "Real label:0 Neighbor -- Predict Labels: 0  0  0  0  0  0  0  0  0   -- Real Labels: 0  0  0  0  0  0  0  0  0  \n",
      "Real label:1 Neighbor -- Predict Labels: 1  1  1  1  1  1  1  1  1   -- Real Labels: 1  1  1  1  0  1  1  0  0  \n",
      "Real label:0 Neighbor -- Predict Labels: 0  0  0  0  0  0  0  0  0   -- Real Labels: 0  0  1  0  0  0  0  0  0  \n",
      "Real label:0 Neighbor -- Predict Labels: 0  0  0  0  0  0  0  0  0   -- Real Labels: 0  0  0  0  0  0  0  0  0  \n",
      "Real label:0 Neighbor -- Predict Labels: 0  0  0  1  0  0  0  0  0   -- Real Labels: 0  1  0  1  1  0  0  1  0  \n",
      "Real label:0 Neighbor -- Predict Labels: 0  0  0  0  0  0  0  0  0   -- Real Labels: 0  0  1  0  0  0  0  0  0  \n",
      "Real label:0 Neighbor -- Predict Labels: 0  0  0  0  0  0  0  0  0   -- Real Labels: 0  0  0  0  1  0  0  0  0  \n",
      "Real label:1 Neighbor -- Predict Labels: 0  0  1  1  0  0  0  0  0   -- Real Labels: 0  1  0  1  1  1  0  0  0  \n",
      "Real label:0 Neighbor -- Predict Labels: 1  0  0  0  0  0  0  0  0   -- Real Labels: 0  0  0  1  1  0  1  0  1  \n",
      "Real label:0 Neighbor -- Predict Labels: 0  1  0  1  1  0  0  0  0   -- Real Labels: 0  1  0  1  0  1  0  0  0  \n",
      "Real label:0 Neighbor -- Predict Labels: 0  0  0  0  0  0  0  0  0   -- Real Labels: 0  0  0  0  0  0  0  0  1  \n",
      "Real label:0 Neighbor -- Predict Labels: 0  0  0  0  0  0  0  0  0   -- Real Labels: 0  0  0  0  0  0  0  0  0  \n",
      "Real label:0 Neighbor -- Predict Labels: 0  0  0  0  0  0  0  0  0   -- Real Labels: 0  0  0  0  0  0  0  0  0  \n",
      "Real label:1 Neighbor -- Predict Labels: 1  0  0  0  1  1  1  0  0   -- Real Labels: 1  0  0  1  1  0  1  1  0  \n",
      "Real label:0 Neighbor -- Predict Labels: 0  0  0  0  0  0  0  0  0   -- Real Labels: 0  0  0  0  0  0  0  0  0  \n",
      "Real label:0 Neighbor -- Predict Labels: 0  0  0  0  0  0  0  0  0   -- Real Labels: 0  0  0  0  0  0  0  0  0  \n",
      "Real label:0 Neighbor -- Predict Labels: 0  0  0  0  0  0  0  0  0   -- Real Labels: 0  0  0  0  0  0  0  0  0  \n",
      "Real label:1 Neighbor -- Predict Labels: 1  0  1  0  1  0  0  0  0   -- Real Labels: 1  0  1  0  1  0  0  1  0  \n",
      "Real label:0 Neighbor -- Predict Labels: 0  0  0  0  0  0  0  0  0   -- Real Labels: 0  0  0  0  0  0  0  0  0  \n",
      "Real label:0 Neighbor -- Predict Labels: 0  0  0  0  0  0  0  0  0   -- Real Labels: 0  0  0  0  0  0  0  0  0  \n",
      "Real label:0 Neighbor -- Predict Labels: 0  0  0  0  0  0  0  0  1   -- Real Labels: 0  0  0  0  0  0  0  0  0  \n",
      "Real label:1 Neighbor -- Predict Labels: 0  1  0  0  0  0  0  0  0   -- Real Labels: 0  1  0  1  0  0  0  1  0  \n",
      "Real label:0 Neighbor -- Predict Labels: 1  1  0  0  1  1  0  0  0   -- Real Labels: 1  0  0  1  0  0  1  0  0  \n",
      "Real label:0 Neighbor -- Predict Labels: 0  0  0  0  0  0  0  0  0   -- Real Labels: 0  0  0  0  0  0  0  0  0  \n",
      "Real label:1 Neighbor -- Predict Labels: 1  1  0  0  0  0  1  1  1   -- Real Labels: 1  1  0  0  0  0  0  1  0  \n",
      "Real label:1 Neighbor -- Predict Labels: 1  1  1  1  1  1  1  1  0   -- Real Labels: 1  1  0  1  1  0  1  0  0  \n",
      "Real label:0 Neighbor -- Predict Labels: 1  1  1  1  1  1  1  1  1   -- Real Labels: 1  1  1  1  1  1  1  1  1  \n",
      "Real label:0 Neighbor -- Predict Labels: 0  0  0  0  0  0  0  0  0   -- Real Labels: 0  0  0  0  0  0  0  0  0  \n",
      "Real label:0 Neighbor -- Predict Labels: 0  0  0  0  0  0  0  0  0   -- Real Labels: 0  0  0  0  0  0  0  0  0  \n",
      "Real label:1 Neighbor -- Predict Labels: 0  1  1  1  1  1  1  1  1   -- Real Labels: 0  1  0  1  1  0  1  1  1  \n",
      "Real label:0 Neighbor -- Predict Labels: 0  0  0  0  0  0  0  0  0   -- Real Labels: 0  0  0  0  0  0  0  0  0  \n",
      "Real label:0 Neighbor -- Predict Labels: 0  0  0  0  0  0  0  0  0   -- Real Labels: 0  0  0  0  0  0  0  0  0  \n",
      "Real label:0 Neighbor -- Predict Labels: 0  0  0  0  0  0  0  0  0   -- Real Labels: 0  0  0  0  0  0  0  0  0  \n",
      "Real label:1 Neighbor -- Predict Labels: 1  1  1  1  1  0  1  1  1   -- Real Labels: 0  0  0  1  1  1  1  1  0  \n",
      "Real label:0 Neighbor -- Predict Labels: 0  0  0  0  0  0  0  0  0   -- Real Labels: 0  0  0  0  0  0  0  0  0  \n",
      "Real label:1 Neighbor -- Predict Labels: 1  1  1  1  1  1  1  1  1   -- Real Labels: 0  1  1  1  1  1  1  0  1  \n",
      "Real label:0 Neighbor -- Predict Labels: 0  0  0  0  0  0  0  0  0   -- Real Labels: 0  0  0  0  0  0  0  0  0  \n",
      "Real label:1 Neighbor -- Predict Labels: 1  1  0  1  1  0  1  1  0   -- Real Labels: 1  1  1  0  1  0  0  0  0  \n",
      "Real label:0 Neighbor -- Predict Labels: 0  0  0  0  0  0  0  0  0   -- Real Labels: 0  0  0  0  0  0  0  0  0  \n",
      "Real label:0 Neighbor -- Predict Labels: 0  0  0  0  0  0  0  0  0   -- Real Labels: 0  0  0  0  0  0  1  0  0  \n",
      "Real label:1 Neighbor -- Predict Labels: 1  0  0  1  0  1  0  1  1   -- Real Labels: 1  0  1  0  0  0  1  1  1  \n",
      "Real label:1 Neighbor -- Predict Labels: 1  1  1  1  1  1  0  1  1   -- Real Labels: 1  0  1  1  0  1  0  1  1  \n",
      "Real label:0 Neighbor -- Predict Labels: 0  0  0  0  0  0  0  0  0   -- Real Labels: 0  0  0  0  0  0  0  0  0  \n",
      "Real label:0 Neighbor -- Predict Labels: 0  0  0  0  0  0  0  0  0   -- Real Labels: 0  0  0  0  0  0  0  0  0  \n",
      "Real label:0 Neighbor -- Predict Labels: 0  0  0  0  0  0  0  0  0   -- Real Labels: 0  0  0  0  0  0  0  0  0  \n",
      "Real label:1 Neighbor -- Predict Labels: 1  0  1  0  1  0  0  0  1   -- Real Labels: 0  0  0  1  1  0  0  0  1  \n",
      "Real label:0 Neighbor -- Predict Labels: 0  0  0  0  0  0  0  0  0   -- Real Labels: 0  0  0  0  0  0  0  0  0  \n",
      "Real label:0 Neighbor -- Predict Labels: 0  0  0  0  0  0  0  0  0   -- Real Labels: 0  0  0  0  0  0  0  0  0  \n",
      "Real label:0 Neighbor -- Predict Labels: 0  0  0  0  0  0  0  0  0   -- Real Labels: 0  0  0  0  0  0  0  0  0  \n",
      "Real label:0 Neighbor -- Predict Labels: 0  0  0  0  0  0  1  1  0   -- Real Labels: 0  0  0  0  1  0  1  1  0  \n",
      "Real label:0 Neighbor -- Predict Labels: 0  0  0  0  0  0  0  0  0   -- Real Labels: 0  0  0  0  0  0  0  0  1  \n",
      "Real label:0 Neighbor -- Predict Labels: 0  0  0  0  0  0  0  0  0   -- Real Labels: 0  0  0  0  0  0  0  0  0  \n",
      "Real label:0 Neighbor -- Predict Labels: 0  0  0  0  0  0  0  0  0   -- Real Labels: 0  0  0  0  0  0  0  0  0  \n",
      "Real label:1 Neighbor -- Predict Labels: 0  1  1  1  1  1  1  0  1   -- Real Labels: 1  1  1  1  1  1  1  0  1  \n",
      "Real label:0 Neighbor -- Predict Labels: 0  0  0  0  0  0  0  0  0   -- Real Labels: 0  0  0  0  0  0  0  0  0  \n",
      "Real label:0 Neighbor -- Predict Labels: 0  0  0  0  0  0  0  0  0   -- Real Labels: 0  0  0  0  0  0  0  0  0  \n",
      "Real label:0 Neighbor -- Predict Labels: 0  0  0  0  0  0  0  0  0   -- Real Labels: 0  0  0  0  0  0  0  0  0  \n",
      "Real label:1 Neighbor -- Predict Labels: 1  1  1  1  1  1  0  1  1   -- Real Labels: 1  1  1  1  0  1  1  0  0  \n",
      "Real label:0 Neighbor -- Predict Labels: 0  0  0  0  0  0  0  0  0   -- Real Labels: 0  0  0  0  0  0  0  0  0  \n",
      "Real label:0 Neighbor -- Predict Labels: 0  0  1  1  0  0  0  0  0   -- Real Labels: 0  0  1  0  1  0  0  0  0  \n",
      "Real label:1 Neighbor -- Predict Labels: 1  1  1  1  1  1  1  1  1   -- Real Labels: 1  1  1  1  0  1  1  1  1  \n",
      "Real label:1 Neighbor -- Predict Labels: 1  1  1  1  1  1  1  0  1   -- Real Labels: 1  1  1  1  1  1  0  0  1  \n",
      "Real label:0 Neighbor -- Predict Labels: 1  0  0  1  0  0  1  0  1   -- Real Labels: 0  0  0  1  1  0  1  0  1  \n",
      "Real label:0 Neighbor -- Predict Labels: 0  0  0  0  0  0  0  0  0   -- Real Labels: 0  0  0  0  0  0  0  0  0  \n",
      "Real label:1 Neighbor -- Predict Labels: 1  0  1  0  1  0  1  1  1   -- Real Labels: 0  0  1  0  0  1  1  0  1  \n",
      "Real label:1 Neighbor -- Predict Labels: 1  1  1  1  1  1  1  1  1   -- Real Labels: 1  1  1  1  1  1  1  1  1  \n",
      "Real label:0 Neighbor -- Predict Labels: 0  0  0  0  0  0  0  0  0   -- Real Labels: 0  0  0  0  0  0  0  0  0  \n",
      "Real label:1 Neighbor -- Predict Labels: 0  0  0  0  0  0  0  0  0   -- Real Labels: 1  0  1  0  0  0  0  0  1  \n",
      "Real label:0 Neighbor -- Predict Labels: 0  0  0  0  0  0  0  0  0   -- Real Labels: 0  0  0  0  0  0  0  0  0  \n",
      "Real label:1 Neighbor -- Predict Labels: 1  0  0  1  1  1  1  1  0   -- Real Labels: 1  0  1  0  0  0  1  1  0  \n",
      "Real label:1 Neighbor -- Predict Labels: 1  0  1  0  1  1  0  1  1   -- Real Labels: 1  0  0  1  1  1  1  1  1  \n",
      "Real label:0 Neighbor -- Predict Labels: 0  0  0  0  0  0  0  0  0   -- Real Labels: 0  0  0  1  0  0  0  0  0  \n",
      "Real label:0 Neighbor -- Predict Labels: 0  0  0  0  0  0  0  0  0   -- Real Labels: 0  0  0  0  0  0  0  0  0  \n",
      "Real label:0 Neighbor -- Predict Labels: 1  1  0  1  0  0  1  0  1   -- Real Labels: 1  1  0  0  0  0  1  0  1  \n",
      "Real label:0 Neighbor -- Predict Labels: 0  0  0  0  0  0  0  0  0   -- Real Labels: 0  0  1  0  0  0  0  0  0  \n",
      "Real label:0 Neighbor -- Predict Labels: 0  0  0  0  0  0  0  0  0   -- Real Labels: 1  0  0  0  0  0  0  0  0  \n",
      "Real label:1 Neighbor -- Predict Labels: 0  0  1  0  0  0  1  0  0   -- Real Labels: 0  1  0  1  0  1  0  0  0  \n",
      "Real label:1 Neighbor -- Predict Labels: 1  1  1  0  1  1  1  1  1   -- Real Labels: 1  0  1  1  1  1  1  1  1  \n",
      "Real label:0 Neighbor -- Predict Labels: 0  0  0  0  0  0  0  0  0   -- Real Labels: 0  0  0  0  0  0  0  0  0  \n",
      "Real label:0 Neighbor -- Predict Labels: 0  0  0  0  0  0  0  0  0   -- Real Labels: 0  0  0  0  0  0  0  0  0  \n",
      "Real label:0 Neighbor -- Predict Labels: 0  0  0  0  0  0  0  0  0   -- Real Labels: 0  0  0  0  0  0  0  0  0  \n",
      "Real label:1 Neighbor -- Predict Labels: 1  1  1  1  1  1  1  1  1   -- Real Labels: 1  1  1  1  1  1  1  1  1  \n",
      "Real label:0 Neighbor -- Predict Labels: 0  0  0  0  0  0  0  0  0   -- Real Labels: 0  0  0  0  0  0  0  0  0  \n",
      "Real label:1 Neighbor -- Predict Labels: 1  0  1  0  1  0  1  1  0   -- Real Labels: 1  0  0  0  0  0  1  1  1  \n",
      "Real label:0 Neighbor -- Predict Labels: 0  0  0  0  0  0  0  0  0   -- Real Labels: 0  0  0  0  0  0  0  0  0  \n",
      "Real label:0 Neighbor -- Predict Labels: 0  0  0  0  0  0  0  1  0   -- Real Labels: 0  1  0  0  0  0  1  1  0  \n",
      "Real label:1 Neighbor -- Predict Labels: 1  0  1  1  1  0  1  0  1   -- Real Labels: 1  0  1  1  1  0  1  0  1  \n",
      "Real label:1 Neighbor -- Predict Labels: 1  1  0  1  1  1  1  1  1   -- Real Labels: 1  1  1  1  1  1  0  1  1  \n",
      "Real label:1 Neighbor -- Predict Labels: 1  1  1  0  1  1  1  0  0   -- Real Labels: 1  1  1  0  1  0  1  0  1  \n",
      "Real label:1 Neighbor -- Predict Labels: 1  1  1  1  1  1  1  1  1   -- Real Labels: 0  0  1  1  1  1  1  1  1  \n",
      "Real label:1 Neighbor -- Predict Labels: 0  0  0  0  1  0  0  0  0   -- Real Labels: 0  0  1  0  0  0  0  0  0  \n",
      "Real label:0 Neighbor -- Predict Labels: 0  0  0  0  0  0  0  0  0   -- Real Labels: 0  0  0  0  0  0  0  1  0  \n",
      "Real label:0 Neighbor -- Predict Labels: 0  0  0  0  0  0  0  0  0   -- Real Labels: 0  0  0  0  0  0  0  0  0  \n",
      "Real label:1 Neighbor -- Predict Labels: 1  1  1  1  1  1  1  1  1   -- Real Labels: 1  1  1  1  1  1  1  1  1  \n",
      "Real label:0 Neighbor -- Predict Labels: 0  0  0  0  0  0  0  0  0   -- Real Labels: 0  1  0  0  0  0  0  0  0  \n",
      "Real label:0 Neighbor -- Predict Labels: 0  0  0  0  0  0  0  0  0   -- Real Labels: 0  0  0  0  0  0  0  0  0  \n",
      "Real label:0 Neighbor -- Predict Labels: 0  0  0  0  1  0  0  0  0   -- Real Labels: 0  0  0  0  1  1  0  0  0  \n",
      "Real label:1 Neighbor -- Predict Labels: 0  1  0  0  0  1  1  0  0   -- Real Labels: 1  0  1  0  0  1  1  0  0  \n",
      "Real label:0 Neighbor -- Predict Labels: 0  0  0  0  0  0  0  0  0   -- Real Labels: 0  0  0  0  0  0  0  0  0  \n",
      "Real label:0 Neighbor -- Predict Labels: 0  0  0  0  0  0  0  0  0   -- Real Labels: 0  0  0  1  0  1  0  0  0  \n",
      "Real label:0 Neighbor -- Predict Labels: 0  0  0  0  0  0  0  0  0   -- Real Labels: 0  0  0  0  0  0  0  0  0  \n",
      "Real label:1 Neighbor -- Predict Labels: 1  1  1  1  1  1  1  1  1   -- Real Labels: 1  1  1  1  1  1  1  1  1  \n",
      "Real label:0 Neighbor -- Predict Labels: 0  0  0  0  0  0  0  0  0   -- Real Labels: 0  0  0  0  1  0  0  0  0  \n",
      "Real label:0 Neighbor -- Predict Labels: 0  0  0  0  0  0  0  0  0   -- Real Labels: 0  0  0  0  0  0  0  0  0  \n",
      "Real label:0 Neighbor -- Predict Labels: 0  0  0  0  0  0  1  0  0   -- Real Labels: 0  0  0  0  0  0  0  0  0  \n",
      "Real label:1 Neighbor -- Predict Labels: 1  1  1  1  1  1  1  1  1   -- Real Labels: 1  1  1  1  1  1  1  1  1  \n",
      "Real label:0 Neighbor -- Predict Labels: 0  0  0  0  1  0  0  0  0   -- Real Labels: 0  0  0  1  1  0  1  0  0  \n",
      "Real label:0 Neighbor -- Predict Labels: 0  0  0  0  0  0  0  0  0   -- Real Labels: 0  0  0  0  0  0  0  0  0  \n",
      "Real label:0 Neighbor -- Predict Labels: 0  0  0  0  0  0  0  0  0   -- Real Labels: 0  0  0  0  1  0  0  1  0  \n",
      "Real label:0 Neighbor -- Predict Labels: 0  0  0  0  0  0  0  0  0   -- Real Labels: 0  0  0  0  0  1  0  0  0  \n",
      "Real label:0 Neighbor -- Predict Labels: 0  0  0  0  1  1  0  0  1   -- Real Labels: 0  0  0  1  1  1  1  0  1  \n",
      "Real label:0 Neighbor -- Predict Labels: 0  0  0  0  0  0  0  0  0   -- Real Labels: 0  0  0  1  0  0  0  0  0  \n",
      "Real label:0 Neighbor -- Predict Labels: 0  0  0  0  0  0  0  0  0   -- Real Labels: 0  0  0  0  0  0  0  0  0  \n",
      "Real label:0 Neighbor -- Predict Labels: 0  0  0  0  0  0  0  0  0   -- Real Labels: 0  0  0  0  0  0  0  0  0  \n",
      "Real label:0 Neighbor -- Predict Labels: 0  0  0  0  0  0  0  0  1   -- Real Labels: 0  0  0  1  0  0  1  0  1  \n",
      "Real label:0 Neighbor -- Predict Labels: 0  0  0  0  0  0  0  0  0   -- Real Labels: 0  0  0  0  0  0  0  0  0  \n",
      "Real label:0 Neighbor -- Predict Labels: 0  0  0  0  0  0  0  0  0   -- Real Labels: 0  0  0  0  0  0  0  0  0  \n",
      "Real label:1 Neighbor -- Predict Labels: 1  1  1  1  0  1  1  0  1   -- Real Labels: 1  1  1  1  0  1  1  1  1  \n",
      "Real label:0 Neighbor -- Predict Labels: 0  0  0  0  0  0  0  0  0   -- Real Labels: 0  0  0  0  0  0  0  0  0  \n",
      "Real label:0 Neighbor -- Predict Labels: 0  0  0  0  0  0  0  0  0   -- Real Labels: 0  0  0  0  0  0  0  0  0  \n",
      "Real label:0 Neighbor -- Predict Labels: 0  0  0  0  0  0  0  0  0   -- Real Labels: 0  0  0  0  0  0  0  0  0  \n",
      "Real label:1 Neighbor -- Predict Labels: 1  1  1  1  1  1  1  1  1   -- Real Labels: 1  1  1  1  1  1  1  1  1  \n",
      "Real label:0 Neighbor -- Predict Labels: 0  0  0  0  0  0  0  0  0   -- Real Labels: 0  0  0  0  0  0  0  0  0  \n",
      "Real label:0 Neighbor -- Predict Labels: 0  0  0  0  0  0  0  0  0   -- Real Labels: 0  0  0  0  0  0  0  0  0  \n",
      "Real label:0 Neighbor -- Predict Labels: 0  0  0  0  0  0  0  0  0   -- Real Labels: 0  0  0  0  0  0  0  0  0  \n",
      "Real label:1 Neighbor -- Predict Labels: 1  1  0  0  1  1  1  0  0   -- Real Labels: 1  1  0  0  1  1  1  0  0  \n",
      "Real label:1 Neighbor -- Predict Labels: 1  1  1  1  1  1  1  1  1   -- Real Labels: 1  1  1  1  1  1  1  1  1  \n",
      "Real label:0 Neighbor -- Predict Labels: 0  0  0  0  0  0  0  0  0   -- Real Labels: 0  0  0  0  0  0  0  0  0  \n",
      "Real label:0 Neighbor -- Predict Labels: 0  0  0  0  0  0  0  0  0   -- Real Labels: 0  0  0  0  0  0  0  0  0  \n",
      "Real label:1 Neighbor -- Predict Labels: 1  1  1  1  1  1  1  1  1   -- Real Labels: 1  1  1  1  1  1  1  1  1  \n",
      "Real label:0 Neighbor -- Predict Labels: 0  0  0  0  0  0  0  0  0   -- Real Labels: 0  0  0  0  0  0  0  0  0  \n",
      "Real label:1 Neighbor -- Predict Labels: 0  0  0  0  1  1  0  1  0   -- Real Labels: 0  0  0  0  0  1  1  1  1  \n",
      "Real label:1 Neighbor -- Predict Labels: 1  1  1  1  0  1  1  1  1   -- Real Labels: 1  1  1  0  1  1  0  0  1  \n",
      "Real label:1 Neighbor -- Predict Labels: 1  1  1  1  1  1  1  1  1   -- Real Labels: 1  1  1  1  1  1  1  1  1  \n",
      "Real label:0 Neighbor -- Predict Labels: 0  0  0  0  0  0  0  0  0   -- Real Labels: 0  0  0  0  1  0  0  0  0  \n",
      "Real label:0 Neighbor -- Predict Labels: 0  0  0  0  0  0  0  0  0   -- Real Labels: 0  0  0  0  0  0  0  0  0  \n",
      "Real label:0 Neighbor -- Predict Labels: 0  0  0  0  0  0  0  0  0   -- Real Labels: 0  0  0  0  0  0  0  0  0  \n",
      "Real label:1 Neighbor -- Predict Labels: 0  1  0  1  1  0  0  0  0   -- Real Labels: 0  1  0  1  1  0  0  0  0  \n",
      "Real label:1 Neighbor -- Predict Labels: 1  1  0  0  0  0  0  0  0   -- Real Labels: 1  0  0  0  1  0  1  0  0  \n",
      "Real label:0 Neighbor -- Predict Labels: 1  0  1  0  0  0  0  0  0   -- Real Labels: 1  0  1  0  0  0  0  1  1  \n",
      "Real label:1 Neighbor -- Predict Labels: 1  1  1  1  1  1  1  0  1   -- Real Labels: 1  0  1  1  0  0  0  0  1  \n",
      "Real label:1 Neighbor -- Predict Labels: 0  0  0  1  0  0  0  0  0   -- Real Labels: 0  0  0  1  0  0  0  0  1  \n",
      "Real label:0 Neighbor -- Predict Labels: 0  0  0  0  0  0  0  0  0   -- Real Labels: 0  0  0  0  0  0  0  0  0  \n",
      "Real label:0 Neighbor -- Predict Labels: 0  0  0  0  0  0  0  0  0   -- Real Labels: 0  0  0  0  0  0  0  0  0  \n",
      "Real label:0 Neighbor -- Predict Labels: 0  0  0  0  0  0  0  0  0   -- Real Labels: 0  0  0  0  0  0  0  0  0  \n",
      "Real label:1 Neighbor -- Predict Labels: 1  0  1  0  0  0  1  1  1   -- Real Labels: 1  0  0  1  0  0  1  1  1  \n",
      "Real label:0 Neighbor -- Predict Labels: 0  0  0  0  0  0  0  0  0   -- Real Labels: 0  0  0  0  0  0  1  1  0  \n",
      "Real label:0 Neighbor -- Predict Labels: 0  0  0  0  0  0  0  0  0   -- Real Labels: 0  0  0  0  0  0  0  0  0  \n",
      "Real label:0 Neighbor -- Predict Labels: 0  0  0  0  0  0  0  0  0   -- Real Labels: 0  0  0  0  0  0  0  0  0  \n",
      "Real label:0 Neighbor -- Predict Labels: 0  0  0  0  0  0  0  0  0   -- Real Labels: 0  0  0  0  0  0  0  0  0  \n",
      "Real label:0 Neighbor -- Predict Labels: 0  0  0  0  0  0  0  0  0   -- Real Labels: 0  0  0  0  0  0  0  0  0  \n",
      "Real label:0 Neighbor -- Predict Labels: 0  0  0  0  0  0  0  0  0   -- Real Labels: 0  0  0  0  0  0  0  0  0  \n",
      "Real label:0 Neighbor -- Predict Labels: 0  0  0  0  0  0  0  0  0   -- Real Labels: 0  0  0  0  0  0  0  0  0  \n",
      "Real label:1 Neighbor -- Predict Labels: 1  1  1  1  1  1  1  1  0   -- Real Labels: 1  0  1  1  1  0  1  1  1  \n",
      "Real label:1 Neighbor -- Predict Labels: 1  0  1  0  1  0  0  0  0   -- Real Labels: 0  0  0  0  1  0  1  0  1  \n",
      "Real label:0 Neighbor -- Predict Labels: 0  0  0  0  0  0  0  0  0   -- Real Labels: 0  0  0  0  0  0  0  0  0  \n",
      "Real label:1 Neighbor -- Predict Labels: 1  0  1  0  0  0  1  0  0   -- Real Labels: 0  0  1  0  0  0  1  1  0  \n",
      "Real label:1 Neighbor -- Predict Labels: 1  0  0  1  0  0  1  1  1   -- Real Labels: 0  0  1  1  1  0  1  0  0  \n",
      "Real label:0 Neighbor -- Predict Labels: 0  0  0  0  0  0  0  0  0   -- Real Labels: 0  0  0  0  0  0  0  0  0  \n",
      "Real label:0 Neighbor -- Predict Labels: 0  0  0  0  0  0  0  0  0   -- Real Labels: 0  0  0  0  1  0  0  0  0  \n",
      "Real label:0 Neighbor -- Predict Labels: 0  0  0  0  0  0  0  0  0   -- Real Labels: 0  0  0  0  0  0  0  0  0  \n",
      "Real label:1 Neighbor -- Predict Labels: 1  1  1  0  0  0  1  1  0   -- Real Labels: 1  1  0  0  0  0  0  0  0  \n",
      "Real label:0 Neighbor -- Predict Labels: 0  0  0  0  0  0  0  0  0   -- Real Labels: 0  0  0  0  0  0  0  0  0  \n",
      "Real label:0 Neighbor -- Predict Labels: 0  0  0  0  0  0  0  0  0   -- Real Labels: 0  0  0  0  0  0  0  0  0  \n",
      "Real label:0 Neighbor -- Predict Labels: 0  1  1  0  0  1  0  0  0   -- Real Labels: 0  0  0  0  0  0  0  1  0  \n",
      "Real label:1 Neighbor -- Predict Labels: 1  0  1  0  1  1  1  1  1   -- Real Labels: 0  0  0  0  1  1  1  0  0  \n",
      "Real label:0 Neighbor -- Predict Labels: 0  0  0  0  0  0  0  0  0   -- Real Labels: 0  0  0  0  0  0  0  0  0  \n",
      "Real label:0 Neighbor -- Predict Labels: 0  0  0  0  0  0  0  0  0   -- Real Labels: 0  0  0  0  0  0  0  0  1  \n",
      "Real label:0 Neighbor -- Predict Labels: 0  0  0  0  0  0  0  0  0   -- Real Labels: 0  0  0  0  0  0  0  0  0  \n",
      "Real label:0 Neighbor -- Predict Labels: 0  0  1  0  0  0  1  0  1   -- Real Labels: 0  0  0  0  0  1  1  0  1  \n",
      "Real label:0 Neighbor -- Predict Labels: 0  0  0  0  0  0  0  0  0   -- Real Labels: 0  0  0  0  0  0  0  0  0  \n",
      "Real label:0 Neighbor -- Predict Labels: 0  0  0  0  0  0  0  0  0   -- Real Labels: 0  0  0  0  1  0  0  0  0  \n",
      "Real label:0 Neighbor -- Predict Labels: 1  1  0  0  0  0  0  0  0   -- Real Labels: 1  0  1  0  0  0  0  0  0  \n",
      "Real label:1 Neighbor -- Predict Labels: 1  1  1  1  1  1  1  1  1   -- Real Labels: 1  1  1  1  1  1  1  1  1  \n",
      "Real label:0 Neighbor -- Predict Labels: 0  0  0  0  0  0  0  0  0   -- Real Labels: 0  0  0  0  0  0  0  0  0  \n",
      "Real label:1 Neighbor -- Predict Labels: 1  1  0  1  0  1  1  1  0   -- Real Labels: 1  0  0  0  0  1  0  0  1  \n",
      "Real label:0 Neighbor -- Predict Labels: 0  0  0  0  0  0  0  0  0   -- Real Labels: 0  0  0  0  0  0  0  0  0  \n",
      "Real label:1 Neighbor -- Predict Labels: 1  1  0  1  1  1  0  1  0   -- Real Labels: 0  1  0  1  1  1  0  1  0  \n",
      "Real label:0 Neighbor -- Predict Labels: 0  0  0  0  0  0  0  0  0   -- Real Labels: 0  0  0  0  1  0  0  0  0  \n",
      "Real label:0 Neighbor -- Predict Labels: 0  0  0  0  0  0  0  0  0   -- Real Labels: 0  0  0  0  0  0  0  0  0  \n",
      "Real label:1 Neighbor -- Predict Labels: 0  0  1  0  1  1  0  0  0   -- Real Labels: 0  0  1  0  1  1  0  0  0  \n",
      "Real label:1 Neighbor -- Predict Labels: 1  1  1  1  1  1  1  1  1   -- Real Labels: 1  1  1  1  1  1  1  1  1  \n",
      "Real label:0 Neighbor -- Predict Labels: 0  1  0  0  0  0  0  0  0   -- Real Labels: 0  0  0  0  0  0  0  0  0  \n",
      "Real label:0 Neighbor -- Predict Labels: 0  0  0  0  0  0  0  0  0   -- Real Labels: 0  0  0  0  0  0  0  0  0  \n",
      "Real label:0 Neighbor -- Predict Labels: 0  0  0  0  0  0  0  0  0   -- Real Labels: 0  0  0  0  0  0  0  0  0  \n",
      "Real label:0 Neighbor -- Predict Labels: 0  0  0  1  0  0  0  0  0   -- Real Labels: 0  0  0  1  1  1  0  0  1  \n",
      "Real label:0 Neighbor -- Predict Labels: 0  0  0  0  0  0  0  0  0   -- Real Labels: 0  0  0  0  0  0  0  0  0  \n",
      "Real label:0 Neighbor -- Predict Labels: 0  0  0  0  0  0  0  0  0   -- Real Labels: 0  0  0  0  0  0  0  0  0  \n",
      "Real label:0 Neighbor -- Predict Labels: 0  0  0  0  0  0  0  0  0   -- Real Labels: 0  0  0  0  0  0  0  0  0  \n",
      "Real label:1 Neighbor -- Predict Labels: 1  1  1  1  1  1  1  1  1   -- Real Labels: 0  1  1  1  1  1  1  1  1  \n",
      "Real label:0 Neighbor -- Predict Labels: 0  1  1  0  1  0  0  0  0   -- Real Labels: 0  1  0  0  1  0  0  0  0  \n",
      "Real label:0 Neighbor -- Predict Labels: 0  0  0  0  0  0  0  0  0   -- Real Labels: 0  0  0  0  0  0  0  0  0  \n",
      "Real label:1 Neighbor -- Predict Labels: 0  1  0  0  0  0  0  0  0   -- Real Labels: 1  1  0  0  0  0  0  0  0  \n",
      "Real label:1 Neighbor -- Predict Labels: 1  0  1  0  1  0  0  0  0   -- Real Labels: 0  0  1  0  0  1  0  0  0  \n",
      "Real label:0 Neighbor -- Predict Labels: 0  0  0  0  0  0  0  0  0   -- Real Labels: 0  0  0  0  0  0  0  0  0  \n",
      "Real label:0 Neighbor -- Predict Labels: 0  0  0  0  0  0  0  0  0   -- Real Labels: 0  0  0  0  0  0  0  0  0  \n",
      "Real label:0 Neighbor -- Predict Labels: 1  1  1  1  0  1  0  0  0   -- Real Labels: 0  0  1  1  0  0  0  0  0  \n",
      "Real label:1 Neighbor -- Predict Labels: 0  1  1  1  1  1  1  1  1   -- Real Labels: 0  1  1  1  1  1  1  1  0  \n",
      "Real label:0 Neighbor -- Predict Labels: 0  0  0  0  0  0  0  0  0   -- Real Labels: 0  0  0  0  0  0  1  0  0  \n",
      "Real label:0 Neighbor -- Predict Labels: 1  0  1  1  0  0  0  0  0   -- Real Labels: 1  0  0  0  0  1  0  0  0  \n",
      "Real label:0 Neighbor -- Predict Labels: 0  0  0  0  0  0  0  0  0   -- Real Labels: 0  0  0  0  0  0  0  0  0  \n",
      "Real label:1 Neighbor -- Predict Labels: 1  0  1  0  0  1  1  1  0   -- Real Labels: 1  0  1  0  0  0  1  1  0  \n",
      "Real label:0 Neighbor -- Predict Labels: 0  0  0  0  0  0  0  0  0   -- Real Labels: 0  0  0  0  0  0  0  1  0  \n",
      "Real label:0 Neighbor -- Predict Labels: 0  1  0  1  0  0  0  0  0   -- Real Labels: 1  0  0  0  0  0  0  0  0  \n",
      "Real label:0 Neighbor -- Predict Labels: 0  0  0  0  0  0  0  0  0   -- Real Labels: 0  0  0  0  0  0  0  0  0  \n",
      "Real label:1 Neighbor -- Predict Labels: 0  1  1  0  1  0  1  0  1   -- Real Labels: 0  1  1  0  1  0  0  0  0  \n",
      "Real label:0 Neighbor -- Predict Labels: 0  0  0  0  0  0  0  0  0   -- Real Labels: 0  0  0  0  0  0  0  0  0  \n",
      "Real label:0 Neighbor -- Predict Labels: 0  0  0  0  0  0  0  0  0   -- Real Labels: 0  0  0  0  0  0  0  0  0  \n",
      "Real label:0 Neighbor -- Predict Labels: 0  0  0  0  0  0  0  0  0   -- Real Labels: 0  0  0  0  0  0  0  0  0  \n",
      "Real label:1 Neighbor -- Predict Labels: 1  1  1  1  1  1  1  1  1   -- Real Labels: 1  1  1  1  1  1  1  1  1  \n",
      "Real label:0 Neighbor -- Predict Labels: 0  0  0  0  0  0  0  0  0   -- Real Labels: 0  0  0  1  0  0  0  0  0  \n",
      "Real label:0 Neighbor -- Predict Labels: 0  0  0  0  0  0  0  0  0   -- Real Labels: 0  0  0  0  0  0  0  0  0  \n",
      "Real label:0 Neighbor -- Predict Labels: 0  0  0  0  0  0  0  0  0   -- Real Labels: 0  0  0  0  0  0  0  0  0  \n",
      "Real label:0 Neighbor -- Predict Labels: 0  0  0  0  0  0  0  1  0   -- Real Labels: 0  0  0  0  0  0  0  0  0  \n",
      "Real label:1 Neighbor -- Predict Labels: 1  0  1  1  1  1  1  0  0   -- Real Labels: 0  0  1  1  0  0  1  0  0  \n",
      "Real label:0 Neighbor -- Predict Labels: 0  0  0  0  0  0  0  0  0   -- Real Labels: 0  0  0  0  0  0  0  0  0  \n",
      "Real label:0 Neighbor -- Predict Labels: 0  0  0  0  0  0  0  1  0   -- Real Labels: 0  1  0  0  1  0  0  1  0  \n",
      "Real label:0 Neighbor -- Predict Labels: 1  0  1  0  0  1  0  0  0   -- Real Labels: 1  0  0  0  0  0  0  0  0  \n",
      "Real label:0 Neighbor -- Predict Labels: 0  0  0  0  0  0  0  0  0   -- Real Labels: 0  0  0  0  0  0  0  0  0  \n",
      "Real label:0 Neighbor -- Predict Labels: 0  0  0  0  0  0  0  0  0   -- Real Labels: 0  0  0  0  0  0  0  0  0  \n",
      "Real label:0 Neighbor -- Predict Labels: 0  0  1  0  0  0  0  0  0   -- Real Labels: 1  0  1  1  0  0  0  0  0  \n",
      "Real label:1 Neighbor -- Predict Labels: 0  0  0  0  0  1  0  0  0   -- Real Labels: 0  0  0  0  0  0  0  0  0  \n",
      "Real label:1 Neighbor -- Predict Labels: 0  0  0  1  1  0  0  0  0   -- Real Labels: 0  0  0  0  1  1  0  1  0  \n",
      "Real label:0 Neighbor -- Predict Labels: 0  0  0  0  0  0  0  0  0   -- Real Labels: 0  0  0  0  0  0  0  0  0  \n",
      "Real label:0 Neighbor -- Predict Labels: 0  0  0  0  0  0  0  0  0   -- Real Labels: 0  0  0  0  0  0  0  0  0  \n",
      "Real label:1 Neighbor -- Predict Labels: 1  1  1  1  1  1  1  1  1   -- Real Labels: 1  1  1  1  1  1  1  1  1  \n",
      "Real label:0 Neighbor -- Predict Labels: 0  0  0  0  0  0  0  0  0   -- Real Labels: 0  0  0  0  0  0  0  0  0  \n",
      "Real label:0 Neighbor -- Predict Labels: 0  0  0  0  0  0  0  0  0   -- Real Labels: 0  0  0  0  0  0  0  0  0  \n",
      "Real label:0 Neighbor -- Predict Labels: 0  0  0  0  0  0  0  0  0   -- Real Labels: 0  0  0  0  0  0  0  1  0  \n",
      "Real label:1 Neighbor -- Predict Labels: 1  1  0  1  1  0  0  1  1   -- Real Labels: 0  0  0  0  1  0  1  1  1  \n",
      "Real label:0 Neighbor -- Predict Labels: 0  0  0  0  0  0  0  0  0   -- Real Labels: 0  0  0  0  0  0  0  0  0  \n",
      "Real label:0 Neighbor -- Predict Labels: 0  0  0  0  0  0  0  0  0   -- Real Labels: 0  0  0  0  0  0  0  0  0  \n",
      "Real label:1 Neighbor -- Predict Labels: 1  1  1  1  1  1  1  1  1   -- Real Labels: 1  1  1  1  1  1  1  1  1  \n",
      "Real label:0 Neighbor -- Predict Labels: 0  0  0  0  0  0  0  1  0   -- Real Labels: 0  0  0  0  0  0  0  0  0  \n",
      "Real label:0 Neighbor -- Predict Labels: 0  0  0  0  0  0  0  0  0   -- Real Labels: 0  0  0  0  0  0  0  0  0  \n",
      "Real label:0 Neighbor -- Predict Labels: 0  0  0  0  0  0  0  0  0   -- Real Labels: 1  0  0  0  0  0  0  0  0  \n",
      "Real label:1 Neighbor -- Predict Labels: 1  0  1  1  0  1  0  0  0   -- Real Labels: 1  0  0  1  1  1  0  1  0  \n",
      "Real label:0 Neighbor -- Predict Labels: 0  0  0  0  0  0  0  0  0   -- Real Labels: 0  0  0  0  0  0  0  0  0  \n",
      "Real label:0 Neighbor -- Predict Labels: 0  0  0  0  0  0  0  0  0   -- Real Labels: 0  0  0  0  0  0  0  0  0  \n",
      "Real label:0 Neighbor -- Predict Labels: 0  0  0  0  0  0  0  0  0   -- Real Labels: 0  0  0  0  0  0  0  0  0  \n",
      "Real label:0 Neighbor -- Predict Labels: 0  0  0  0  0  0  0  0  0   -- Real Labels: 0  0  0  0  0  1  0  0  0  \n",
      "Real label:0 Neighbor -- Predict Labels: 1  0  0  0  1  1  1  0  1   -- Real Labels: 1  0  0  0  1  1  0  0  0  \n",
      "Real label:0 Neighbor -- Predict Labels: 0  1  0  0  0  0  0  1  1   -- Real Labels: 0  0  0  1  1  0  0  0  0  \n",
      "Real label:0 Neighbor -- Predict Labels: 0  0  0  0  0  0  0  0  0   -- Real Labels: 0  0  0  0  0  0  0  0  0  \n",
      "Real label:0 Neighbor -- Predict Labels: 0  0  0  0  0  0  0  0  0   -- Real Labels: 0  1  1  0  0  0  0  0  0  \n",
      "Real label:0 Neighbor -- Predict Labels: 0  0  0  0  0  0  0  0  0   -- Real Labels: 0  0  0  0  0  0  0  0  0  \n",
      "Real label:0 Neighbor -- Predict Labels: 0  0  0  0  0  1  1  0  0   -- Real Labels: 0  0  0  1  0  0  1  0  0  \n",
      "Real label:1 Neighbor -- Predict Labels: 0  0  0  0  1  0  0  1  0   -- Real Labels: 0  0  0  0  1  0  0  1  0  \n",
      "Real label:0 Neighbor -- Predict Labels: 0  0  0  0  0  0  0  0  0   -- Real Labels: 0  0  0  0  0  0  0  0  0  \n",
      "Real label:0 Neighbor -- Predict Labels: 0  0  0  0  0  0  0  1  1   -- Real Labels: 0  0  0  0  0  0  0  1  1  \n",
      "Real label:0 Neighbor -- Predict Labels: 0  0  0  0  0  0  0  0  0   -- Real Labels: 0  0  0  0  0  0  0  0  0  \n",
      "Real label:0 Neighbor -- Predict Labels: 0  0  0  0  0  0  0  0  0   -- Real Labels: 0  0  0  0  0  0  0  0  0  \n",
      "Real label:0 Neighbor -- Predict Labels: 0  0  0  0  0  0  0  0  0   -- Real Labels: 0  0  0  0  0  0  0  0  0  \n",
      "Real label:1 Neighbor -- Predict Labels: 1  1  1  1  1  1  1  1  1   -- Real Labels: 1  1  1  1  1  1  1  1  1  \n",
      "Real label:0 Neighbor -- Predict Labels: 0  0  0  0  0  0  0  0  0   -- Real Labels: 0  0  0  0  0  0  0  0  0  \n",
      "Real label:0 Neighbor -- Predict Labels: 0  0  0  1  1  1  1  1  0   -- Real Labels: 0  1  0  0  1  0  0  1  0  \n",
      "Real label:1 Neighbor -- Predict Labels: 1  1  1  1  1  1  1  1  1   -- Real Labels: 1  1  1  1  1  1  1  1  1  \n",
      "Real label:0 Neighbor -- Predict Labels: 0  0  0  0  0  0  0  0  0   -- Real Labels: 0  0  0  0  0  0  0  0  0  \n",
      "Real label:0 Neighbor -- Predict Labels: 0  0  0  0  0  0  0  0  0   -- Real Labels: 0  0  0  0  0  0  0  0  0  \n",
      "Real label:1 Neighbor -- Predict Labels: 1  0  0  0  0  0  0  1  0   -- Real Labels: 0  0  0  0  0  1  0  0  1  \n",
      "Real label:0 Neighbor -- Predict Labels: 0  0  0  0  0  0  1  0  0   -- Real Labels: 0  0  0  0  0  0  1  0  1  \n",
      "Real label:0 Neighbor -- Predict Labels: 0  0  0  0  0  0  0  0  0   -- Real Labels: 0  0  0  0  0  0  0  0  0  \n",
      "Real label:1 Neighbor -- Predict Labels: 1  1  1  0  0  1  1  0  0   -- Real Labels: 1  1  0  0  0  0  1  0  0  \n",
      "Real label:0 Neighbor -- Predict Labels: 0  0  0  1  0  0  0  0  0   -- Real Labels: 1  0  0  0  0  0  0  0  0  \n",
      "Real label:0 Neighbor -- Predict Labels: 0  0  0  0  0  0  1  0  1   -- Real Labels: 0  0  1  0  0  0  1  1  0  \n",
      "Real label:1 Neighbor -- Predict Labels: 1  1  0  0  1  1  1  1  1   -- Real Labels: 1  0  1  0  1  0  1  1  1  \n",
      "Real label:0 Neighbor -- Predict Labels: 0  0  0  0  0  0  0  0  0   -- Real Labels: 0  0  0  0  0  0  1  0  0  \n",
      "Real label:0 Neighbor -- Predict Labels: 1  0  0  0  0  0  1  0  0   -- Real Labels: 0  0  0  0  0  0  0  0  1  \n",
      "Real label:0 Neighbor -- Predict Labels: 0  0  1  0  0  0  0  1  1   -- Real Labels: 0  0  0  0  0  1  0  0  1  \n",
      "Real label:1 Neighbor -- Predict Labels: 1  0  1  0  0  0  0  0  0   -- Real Labels: 0  0  1  0  0  1  0  0  0  \n",
      "Real label:0 Neighbor -- Predict Labels: 0  0  0  0  0  0  0  0  0   -- Real Labels: 0  0  0  0  0  0  0  0  1  \n",
      "Real label:1 Neighbor -- Predict Labels: 1  1  1  1  1  1  1  1  1   -- Real Labels: 1  1  1  1  1  1  1  1  1  \n",
      "Real label:1 Neighbor -- Predict Labels: 1  1  0  0  1  1  1  1  0   -- Real Labels: 0  1  1  0  1  0  0  1  0  \n",
      "Real label:0 Neighbor -- Predict Labels: 0  1  1  0  0  0  1  0  1   -- Real Labels: 0  1  1  0  0  0  0  0  1  \n",
      "Real label:0 Neighbor -- Predict Labels: 0  0  0  1  1  1  0  1  0   -- Real Labels: 0  0  0  0  0  1  0  0  0  \n",
      "Real label:0 Neighbor -- Predict Labels: 0  0  0  0  0  0  0  0  0   -- Real Labels: 0  0  0  0  0  0  0  0  0  \n",
      "Real label:0 Neighbor -- Predict Labels: 1  0  0  0  0  1  0  1  0   -- Real Labels: 0  1  0  0  0  0  0  1  0  \n",
      "Real label:1 Neighbor -- Predict Labels: 0  0  1  0  0  1  1  0  1   -- Real Labels: 0  1  0  0  0  1  0  0  0  \n",
      "Real label:1 Neighbor -- Predict Labels: 1  0  1  0  0  0  0  1  0   -- Real Labels: 1  1  0  0  0  0  0  0  1  \n",
      "Real label:0 Neighbor -- Predict Labels: 0  0  0  1  0  0  0  0  1   -- Real Labels: 0  0  0  1  0  0  0  0  1  \n",
      "Real label:1 Neighbor -- Predict Labels: 1  1  1  1  1  1  1  1  1   -- Real Labels: 1  1  1  1  1  1  1  1  1  \n",
      "Real label:0 Neighbor -- Predict Labels: 0  0  0  0  0  0  0  0  0   -- Real Labels: 0  0  0  0  0  0  0  0  0  \n",
      "Real label:0 Neighbor -- Predict Labels: 0  0  0  0  0  0  0  0  0   -- Real Labels: 0  0  0  0  0  0  0  0  0  \n",
      "Real label:0 Neighbor -- Predict Labels: 0  0  0  0  1  0  0  0  1   -- Real Labels: 0  0  0  0  0  1  0  0  0  \n",
      "Real label:1 Neighbor -- Predict Labels: 1  0  1  0  0  0  0  1  1   -- Real Labels: 1  0  0  1  1  0  0  1  0  \n",
      "Real label:0 Neighbor -- Predict Labels: 0  0  0  0  0  0  0  0  0   -- Real Labels: 0  0  0  0  0  0  0  0  0  \n",
      "Real label:1 Neighbor -- Predict Labels: 0  0  0  0  0  0  0  0  0   -- Real Labels: 0  0  0  0  0  0  0  0  0  \n",
      "Real label:1 Neighbor -- Predict Labels: 1  1  0  1  1  1  1  1  1   -- Real Labels: 1  0  0  1  0  1  0  0  1  \n",
      "Real label:0 Neighbor -- Predict Labels: 0  0  0  0  0  0  0  0  0   -- Real Labels: 0  0  0  0  0  0  0  0  0  \n",
      "Real label:1 Neighbor -- Predict Labels: 1  1  1  0  0  1  1  1  1   -- Real Labels: 1  0  0  1  0  1  1  1  0  \n",
      "Real label:0 Neighbor -- Predict Labels: 0  0  0  0  0  0  0  0  0   -- Real Labels: 0  0  0  0  0  0  0  0  0  \n",
      "Real label:0 Neighbor -- Predict Labels: 0  0  0  0  0  0  0  0  0   -- Real Labels: 0  0  0  0  0  0  0  0  0  \n",
      "Real label:1 Neighbor -- Predict Labels: 1  1  1  1  1  1  1  1  1   -- Real Labels: 1  1  1  1  1  1  1  1  1  \n",
      "Real label:0 Neighbor -- Predict Labels: 0  0  0  1  1  1  0  0  0   -- Real Labels: 0  0  0  1  0  1  0  0  0  \n",
      "Real label:0 Neighbor -- Predict Labels: 0  1  0  0  0  0  0  0  0   -- Real Labels: 0  1  0  0  0  0  0  0  0  \n",
      "Real label:1 Neighbor -- Predict Labels: 1  1  1  1  1  1  1  1  1   -- Real Labels: 1  1  1  1  1  1  1  1  1  \n",
      "Real label:0 Neighbor -- Predict Labels: 0  0  0  0  0  0  0  0  0   -- Real Labels: 0  0  0  0  0  0  0  0  0  \n",
      "Real label:0 Neighbor -- Predict Labels: 0  0  0  0  0  0  0  0  0   -- Real Labels: 0  0  0  0  0  0  0  0  0  \n",
      "Real label:0 Neighbor -- Predict Labels: 0  0  0  0  0  0  0  0  0   -- Real Labels: 0  0  0  0  0  0  0  0  0  \n",
      "Real label:0 Neighbor -- Predict Labels: 0  0  0  0  0  0  0  0  0   -- Real Labels: 0  0  0  0  0  0  0  0  0  \n",
      "Real label:0 Neighbor -- Predict Labels: 0  0  0  0  0  0  0  0  0   -- Real Labels: 0  0  0  0  0  0  0  0  0  \n",
      "Real label:1 Neighbor -- Predict Labels: 0  1  0  0  1  0  0  1  0   -- Real Labels: 0  0  0  1  1  0  0  1  0  \n",
      "Real label:0 Neighbor -- Predict Labels: 0  0  0  0  0  0  0  0  0   -- Real Labels: 0  0  0  0  0  0  0  1  0  \n",
      "Real label:0 Neighbor -- Predict Labels: 0  0  0  0  1  0  1  0  0   -- Real Labels: 0  1  0  0  1  0  0  0  0  \n",
      "Real label:1 Neighbor -- Predict Labels: 1  1  1  1  1  0  0  0  1   -- Real Labels: 1  0  0  1  1  0  0  0  1  \n",
      "Real label:0 Neighbor -- Predict Labels: 0  0  0  0  0  0  0  0  0   -- Real Labels: 0  0  0  0  0  0  0  0  0  \n",
      "Real label:0 Neighbor -- Predict Labels: 0  0  0  0  0  0  0  0  0   -- Real Labels: 0  0  0  0  0  0  0  0  0  \n",
      "Real label:1 Neighbor -- Predict Labels: 0  0  1  0  1  1  0  0  1   -- Real Labels: 0  0  1  1  0  1  0  0  0  \n",
      "Real label:0 Neighbor -- Predict Labels: 0  0  1  0  0  0  0  1  0   -- Real Labels: 0  0  1  0  1  0  1  1  1  \n",
      "Real label:0 Neighbor -- Predict Labels: 0  0  0  0  1  0  0  0  0   -- Real Labels: 0  0  0  0  1  0  1  1  0  \n",
      "Real label:0 Neighbor -- Predict Labels: 0  0  0  0  0  0  0  0  0   -- Real Labels: 0  0  0  0  0  0  0  0  0  \n",
      "Real label:0 Neighbor -- Predict Labels: 0  0  0  0  0  0  0  0  0   -- Real Labels: 0  0  0  0  0  0  0  0  0  \n",
      "Real label:0 Neighbor -- Predict Labels: 0  0  0  0  0  0  0  0  0   -- Real Labels: 0  0  0  0  0  0  0  0  0  \n",
      "Real label:0 Neighbor -- Predict Labels: 0  1  0  0  0  0  0  0  0   -- Real Labels: 0  1  0  1  0  1  1  0  0  \n",
      "Real label:0 Neighbor -- Predict Labels: 0  0  0  0  0  0  0  0  0   -- Real Labels: 0  1  0  0  1  0  0  0  0  \n",
      "Real label:0 Neighbor -- Predict Labels: 0  0  0  0  0  0  0  0  0   -- Real Labels: 0  0  0  0  0  0  0  0  0  \n",
      "Real label:0 Neighbor -- Predict Labels: 0  0  0  0  0  0  0  0  0   -- Real Labels: 0  0  0  0  0  0  0  0  0  \n",
      "Real label:0 Neighbor -- Predict Labels: 0  0  0  0  0  0  0  1  0   -- Real Labels: 0  0  0  0  0  0  0  1  0  \n",
      "Real label:0 Neighbor -- Predict Labels: 0  0  0  0  0  0  0  0  0   -- Real Labels: 0  0  0  0  0  0  0  0  0  \n",
      "Real label:0 Neighbor -- Predict Labels: 0  0  0  0  0  0  0  0  0   -- Real Labels: 0  1  0  0  0  0  0  1  0  \n",
      "Real label:0 Neighbor -- Predict Labels: 0  1  1  0  0  0  1  0  1   -- Real Labels: 0  1  1  0  0  0  0  0  0  \n",
      "Real label:0 Neighbor -- Predict Labels: 0  0  0  0  0  0  0  0  0   -- Real Labels: 1  0  0  0  0  0  0  0  0  \n",
      "Real label:0 Neighbor -- Predict Labels: 1  0  0  1  1  0  0  0  1   -- Real Labels: 0  0  0  1  0  0  1  0  0  \n",
      "Real label:0 Neighbor -- Predict Labels: 0  0  0  0  0  0  0  0  0   -- Real Labels: 0  0  0  1  1  0  0  0  0  \n",
      "Real label:1 Neighbor -- Predict Labels: 1  0  0  0  1  1  0  1  1   -- Real Labels: 1  0  0  0  1  1  0  0  1  \n",
      "Real label:1 Neighbor -- Predict Labels: 1  1  1  1  1  1  1  1  1   -- Real Labels: 1  1  1  1  1  1  1  1  1  \n",
      "Real label:0 Neighbor -- Predict Labels: 0  0  0  0  0  0  0  0  0   -- Real Labels: 0  0  0  0  0  0  0  0  1  \n",
      "Real label:0 Neighbor -- Predict Labels: 0  0  0  0  0  0  0  0  0   -- Real Labels: 0  0  0  0  0  0  0  0  0  \n",
      "Real label:1 Neighbor -- Predict Labels: 0  0  0  0  0  1  0  0  0   -- Real Labels: 0  0  1  0  1  1  0  0  0  \n",
      "Real label:0 Neighbor -- Predict Labels: 0  0  0  0  0  0  0  0  0   -- Real Labels: 0  0  0  0  0  0  0  0  0  \n",
      "Real label:0 Neighbor -- Predict Labels: 0  0  1  0  0  0  0  0  0   -- Real Labels: 0  1  1  0  0  0  0  0  0  \n",
      "Real label:1 Neighbor -- Predict Labels: 0  1  1  1  1  1  1  1  1   -- Real Labels: 0  1  1  1  1  1  1  1  1  \n",
      "Real label:0 Neighbor -- Predict Labels: 0  0  0  0  0  0  0  0  0   -- Real Labels: 0  0  0  0  0  0  0  0  0  \n",
      "Real label:0 Neighbor -- Predict Labels: 0  0  0  0  0  0  0  0  0   -- Real Labels: 0  0  0  0  0  0  0  0  0  \n",
      "Real label:1 Neighbor -- Predict Labels: 1  1  1  1  1  1  1  1  1   -- Real Labels: 1  1  1  1  1  1  1  1  1  \n",
      "Real label:1 Neighbor -- Predict Labels: 0  1  1  0  0  1  1  0  1   -- Real Labels: 0  1  1  0  0  0  0  1  1  \n",
      "Real label:0 Neighbor -- Predict Labels: 0  1  0  0  0  0  0  0  0   -- Real Labels: 0  1  0  0  0  0  0  1  0  \n",
      "Real label:1 Neighbor -- Predict Labels: 0  1  1  0  0  0  1  0  0   -- Real Labels: 0  1  1  0  1  0  1  0  0  \n",
      "Real label:0 Neighbor -- Predict Labels: 0  0  0  0  0  0  0  0  0   -- Real Labels: 0  0  0  0  0  0  0  0  0  \n",
      "Real label:0 Neighbor -- Predict Labels: 0  0  0  0  0  1  0  0  0   -- Real Labels: 0  0  1  0  0  1  0  0  0  \n",
      "Real label:1 Neighbor -- Predict Labels: 0  1  0  1  0  0  1  0  0   -- Real Labels: 0  1  0  1  0  0  1  0  0  \n",
      "Real label:1 Neighbor -- Predict Labels: 1  1  1  1  1  1  0  1  1   -- Real Labels: 1  1  1  0  1  0  0  1  0  \n",
      "Real label:0 Neighbor -- Predict Labels: 0  0  0  0  0  0  0  0  0   -- Real Labels: 0  0  0  0  0  0  0  0  0  \n",
      "Real label:1 Neighbor -- Predict Labels: 1  1  1  1  1  1  1  1  1   -- Real Labels: 1  1  1  1  1  1  1  1  1  \n",
      "Real label:0 Neighbor -- Predict Labels: 0  0  0  0  0  0  0  0  0   -- Real Labels: 0  0  0  0  0  0  0  0  0  \n",
      "Real label:0 Neighbor -- Predict Labels: 0  0  0  0  0  0  0  0  0   -- Real Labels: 0  0  0  0  0  0  0  0  0  \n",
      "Real label:1 Neighbor -- Predict Labels: 1  1  1  1  1  1  1  1  1   -- Real Labels: 1  1  1  1  1  1  1  1  1  \n",
      "Real label:1 Neighbor -- Predict Labels: 1  1  1  1  1  1  1  1  1   -- Real Labels: 1  1  1  1  1  1  1  1  1  \n",
      "Real label:0 Neighbor -- Predict Labels: 0  0  0  0  0  0  0  0  0   -- Real Labels: 0  0  0  0  0  0  0  0  0  \n",
      "Real label:1 Neighbor -- Predict Labels: 1  1  1  1  1  1  1  1  1   -- Real Labels: 1  1  1  1  1  1  1  1  1  \n",
      "Real label:0 Neighbor -- Predict Labels: 0  0  0  0  0  0  0  0  0   -- Real Labels: 0  0  0  0  0  0  0  0  0  \n",
      "Real label:0 Neighbor -- Predict Labels: 0  0  0  0  0  0  0  0  0   -- Real Labels: 0  0  0  0  0  0  0  1  0  \n",
      "Real label:1 Neighbor -- Predict Labels: 1  1  1  1  1  1  1  1  1   -- Real Labels: 0  1  0  1  0  1  1  0  1  \n",
      "Real label:0 Neighbor -- Predict Labels: 0  0  0  0  0  0  1  0  0   -- Real Labels: 0  0  0  0  0  0  1  0  0  \n",
      "Real label:0 Neighbor -- Predict Labels: 0  0  0  0  0  0  0  0  0   -- Real Labels: 0  0  0  0  0  0  0  0  0  \n",
      "Real label:1 Neighbor -- Predict Labels: 0  0  0  0  0  0  0  0  0   -- Real Labels: 0  0  1  0  0  0  1  0  0  \n",
      "Real label:0 Neighbor -- Predict Labels: 0  0  0  0  0  0  0  0  0   -- Real Labels: 0  0  0  0  0  0  0  0  0  \n",
      "Real label:0 Neighbor -- Predict Labels: 0  0  0  0  0  0  0  0  0   -- Real Labels: 0  0  0  0  0  0  0  0  0  \n",
      "Real label:1 Neighbor -- Predict Labels: 1  1  1  1  1  1  1  1  1   -- Real Labels: 1  1  1  1  1  1  1  1  1  \n",
      "Real label:0 Neighbor -- Predict Labels: 0  0  0  0  0  0  0  0  0   -- Real Labels: 0  0  0  0  0  0  0  0  0  \n",
      "Real label:0 Neighbor -- Predict Labels: 0  0  0  0  0  0  0  0  0   -- Real Labels: 0  0  0  0  0  0  0  0  0  \n",
      "Real label:1 Neighbor -- Predict Labels: 1  1  1  1  1  1  1  1  1   -- Real Labels: 1  1  1  1  1  1  1  1  1  \n",
      "Real label:0 Neighbor -- Predict Labels: 0  0  0  0  0  0  0  0  0   -- Real Labels: 0  0  0  0  0  0  0  0  0  \n",
      "Real label:1 Neighbor -- Predict Labels: 1  1  1  0  1  1  1  1  1   -- Real Labels: 1  0  1  0  1  0  1  1  1  \n",
      "Real label:1 Neighbor -- Predict Labels: 1  1  1  1  1  1  1  1  1   -- Real Labels: 1  1  1  1  1  1  1  1  1  \n",
      "Real label:0 Neighbor -- Predict Labels: 0  0  0  0  0  0  0  0  0   -- Real Labels: 0  0  0  0  0  0  0  0  0  \n",
      "Real label:0 Neighbor -- Predict Labels: 0  0  0  0  0  0  0  0  0   -- Real Labels: 0  0  0  0  0  0  0  0  0  \n",
      "Real label:1 Neighbor -- Predict Labels: 1  0  1  1  1  0  1  1  1   -- Real Labels: 1  0  1  0  0  0  1  1  0  \n",
      "Real label:0 Neighbor -- Predict Labels: 0  0  0  0  0  0  0  0  0   -- Real Labels: 0  0  0  0  0  0  0  0  0  \n",
      "Real label:0 Neighbor -- Predict Labels: 0  0  0  0  0  0  0  0  0   -- Real Labels: 0  0  0  0  0  0  0  0  0  \n",
      "Real label:1 Neighbor -- Predict Labels: 1  0  1  0  1  1  0  0  1   -- Real Labels: 0  0  1  1  0  0  0  0  1  \n",
      "Real label:0 Neighbor -- Predict Labels: 0  0  0  0  0  0  0  0  0   -- Real Labels: 0  0  0  0  0  0  0  0  0  \n",
      "Real label:0 Neighbor -- Predict Labels: 0  0  0  0  0  0  0  0  0   -- Real Labels: 0  0  0  0  0  0  0  0  0  \n",
      "Real label:1 Neighbor -- Predict Labels: 1  1  0  0  0  1  0  1  0   -- Real Labels: 0  1  0  1  0  0  0  0  0  \n",
      "Real label:0 Neighbor -- Predict Labels: 0  0  0  0  0  0  0  0  0   -- Real Labels: 0  0  0  0  0  0  0  0  0  \n",
      "Real label:0 Neighbor -- Predict Labels: 0  0  0  0  0  0  0  0  0   -- Real Labels: 0  0  0  0  0  0  0  0  0  \n",
      "Real label:1 Neighbor -- Predict Labels: 1  1  1  1  1  1  1  1  1   -- Real Labels: 1  1  1  1  1  1  1  1  1  \n",
      "Real label:0 Neighbor -- Predict Labels: 0  0  0  0  0  0  0  0  0   -- Real Labels: 0  0  1  0  0  0  0  0  0  \n",
      "Real label:0 Neighbor -- Predict Labels: 0  0  0  0  0  0  0  0  0   -- Real Labels: 0  0  0  0  0  0  0  0  0  \n",
      "Real label:1 Neighbor -- Predict Labels: 1  1  1  1  1  1  1  1  1   -- Real Labels: 0  1  1  1  1  1  0  0  1  \n",
      "Real label:0 Neighbor -- Predict Labels: 0  0  0  0  0  0  0  0  0   -- Real Labels: 0  0  0  0  0  0  0  0  0  \n",
      "Real label:0 Neighbor -- Predict Labels: 0  0  0  0  0  0  0  0  0   -- Real Labels: 0  0  1  0  0  0  0  0  0  \n",
      "Real label:0 Neighbor -- Predict Labels: 0  0  0  0  0  0  0  0  0   -- Real Labels: 0  0  0  0  0  0  0  0  0  \n",
      "Real label:0 Neighbor -- Predict Labels: 0  0  0  0  0  0  0  0  0   -- Real Labels: 0  0  0  0  0  0  0  0  0  \n",
      "Real label:0 Neighbor -- Predict Labels: 0  0  0  0  1  0  0  0  0   -- Real Labels: 0  0  0  0  1  1  0  1  0  \n",
      "Real label:0 Neighbor -- Predict Labels: 0  0  0  0  0  0  0  0  0   -- Real Labels: 0  0  0  0  0  0  0  0  0  \n",
      "Real label:0 Neighbor -- Predict Labels: 0  0  1  0  1  0  0  0  0   -- Real Labels: 0  0  0  1  1  0  0  0  0  \n",
      "Real label:0 Neighbor -- Predict Labels: 0  0  0  0  0  0  0  0  0   -- Real Labels: 0  0  0  0  0  0  0  0  0  \n",
      "Real label:1 Neighbor -- Predict Labels: 1  1  1  1  1  1  1  1  1   -- Real Labels: 1  1  1  1  1  1  1  1  1  \n",
      "Real label:0 Neighbor -- Predict Labels: 1  0  0  1  0  0  1  0  1   -- Real Labels: 1  0  0  1  0  0  0  1  0  \n",
      "Real label:0 Neighbor -- Predict Labels: 0  1  0  1  0  0  0  1  0   -- Real Labels: 0  0  0  0  0  0  0  0  0  \n",
      "Real label:1 Neighbor -- Predict Labels: 1  1  1  1  1  1  1  1  1   -- Real Labels: 1  1  1  1  1  1  1  1  1  \n",
      "Real label:0 Neighbor -- Predict Labels: 0  0  0  0  0  0  0  0  1   -- Real Labels: 0  0  0  1  0  0  0  0  1  \n",
      "Real label:0 Neighbor -- Predict Labels: 0  0  0  0  0  0  0  0  0   -- Real Labels: 0  0  0  0  0  0  0  0  0  \n",
      "Real label:0 Neighbor -- Predict Labels: 0  0  0  1  0  0  1  0  0   -- Real Labels: 0  1  0  0  0  0  1  1  1  \n",
      "Real label:0 Neighbor -- Predict Labels: 0  0  0  0  0  0  0  0  0   -- Real Labels: 0  0  0  0  0  0  0  0  0  \n",
      "Real label:0 Neighbor -- Predict Labels: 0  0  0  0  0  0  0  0  0   -- Real Labels: 0  0  0  0  0  0  0  0  0  \n",
      "Real label:1 Neighbor -- Predict Labels: 1  0  0  1  1  1  1  0  1   -- Real Labels: 0  0  0  1  1  1  1  0  1  \n",
      "Real label:0 Neighbor -- Predict Labels: 0  0  0  0  0  0  0  0  0   -- Real Labels: 0  0  0  0  0  0  0  0  0  \n",
      "Real label:0 Neighbor -- Predict Labels: 0  0  0  0  0  0  0  0  0   -- Real Labels: 0  0  0  0  0  0  0  0  0  \n",
      "Real label:0 Neighbor -- Predict Labels: 0  1  0  0  0  0  0  0  0   -- Real Labels: 0  1  0  0  1  0  0  0  0  \n",
      "Real label:0 Neighbor -- Predict Labels: 0  0  0  0  0  0  0  0  0   -- Real Labels: 0  0  0  0  0  0  0  0  0  \n",
      "Real label:0 Neighbor -- Predict Labels: 0  0  0  0  0  0  0  0  0   -- Real Labels: 0  0  0  0  0  0  0  0  0  \n",
      "Real label:0 Neighbor -- Predict Labels: 0  0  0  0  0  0  0  1  0   -- Real Labels: 0  0  0  0  0  1  1  1  0  \n"
     ]
    }
   ],
   "source": [
    "for i in range(len(similarity_dict)):\n",
    "    predict = \"\"\n",
    "    real = \"\"\n",
    "    for j in range(1,10):\n",
    "        predict+= str(pred_label[similarity_dict[i][j]])\n",
    "        predict+= \"  \"\n",
    "        real+= str(pair_labels[similarity_dict[i][j]])\n",
    "        real+= \"  \"\n",
    "    print(f\"Real label:{pred_label[i]} Neighbor -- Predict Labels: {predict} -- Real Labels: {real}\")\n"
   ]
  },
  {
   "cell_type": "code",
   "execution_count": 378,
   "metadata": {},
   "outputs": [
    {
     "data": {
      "text/plain": [
       "782"
      ]
     },
     "execution_count": 378,
     "metadata": {},
     "output_type": "execute_result"
    }
   ],
   "source": [
    "len(similarity_dict)"
   ]
  },
  {
   "cell_type": "code",
   "execution_count": 152,
   "metadata": {},
   "outputs": [],
   "source": [
    "test = torch.randn(10, 16)"
   ]
  },
  {
   "cell_type": "code",
   "execution_count": 153,
   "metadata": {},
   "outputs": [
    {
     "data": {
      "text/plain": [
       "torch.Size([10, 16])"
      ]
     },
     "execution_count": 153,
     "metadata": {},
     "output_type": "execute_result"
    }
   ],
   "source": [
    "test.size()"
   ]
  },
  {
   "cell_type": "code",
   "execution_count": null,
   "metadata": {},
   "outputs": [],
   "source": [
    "outputs\n",
    "logits\n",
    "vector_2_query\n",
    "query_2_vector\n",
    "similarity_dict"
   ]
  },
  {
   "cell_type": "code",
   "execution_count": 379,
   "metadata": {},
   "outputs": [],
   "source": [
    "def get_new_batch(batch_id_claims): # return edge index of graph\n",
    "    new_batch =[]\n",
    "    for i,id in enumerate(batch_id_claims): #batch_id.: id of vector\n",
    "        new_batch.append(id)\n",
    "        new_batch = new_batch+ similarity_dict[id][:10]\n",
    "    return new_batch\n",
    "\n",
    "    "
   ]
  },
  {
   "cell_type": "code",
   "execution_count": 380,
   "metadata": {},
   "outputs": [],
   "source": [
    "new_batch =  get_new_batch([0,1,2,3,4,5,6,7,8,9])"
   ]
  },
  {
   "cell_type": "code",
   "execution_count": 381,
   "metadata": {},
   "outputs": [
    {
     "data": {
      "text/plain": [
       "110"
      ]
     },
     "execution_count": 381,
     "metadata": {},
     "output_type": "execute_result"
    }
   ],
   "source": [
    "len(new_batch)"
   ]
  },
  {
   "cell_type": "code",
   "execution_count": 382,
   "metadata": {},
   "outputs": [],
   "source": [
    "output = outputs[new_batch]"
   ]
  },
  {
   "cell_type": "code",
   "execution_count": 383,
   "metadata": {},
   "outputs": [],
   "source": [
    "adj_matrix = output@output.T"
   ]
  },
  {
   "cell_type": "code",
   "execution_count": 384,
   "metadata": {},
   "outputs": [
    {
     "data": {
      "text/plain": [
       "torch.Size([110, 110])"
      ]
     },
     "execution_count": 384,
     "metadata": {},
     "output_type": "execute_result"
    }
   ],
   "source": [
    "adj_matrix.size()"
   ]
  },
  {
   "cell_type": "code",
   "execution_count": 385,
   "metadata": {},
   "outputs": [
    {
     "data": {
      "text/plain": [
       "tensor([22.9251, 22.9251, 18.1522, 21.2530, 16.5419, 16.8227, 16.8418, 14.7267,\n",
       "        16.7862, 14.7796, 16.6267, 10.8893, 10.8893, 14.0285, 18.3824, 13.8483,\n",
       "        12.6004, 20.6512, 13.0050, 16.7670, 10.7770, 10.9426,  4.2096,  4.2096,\n",
       "         9.0254,  8.6805,  7.5657,  9.5553,  8.6765,  8.3450,  3.4646,  4.2429,\n",
       "        10.1731,  4.0958,  4.0958,  5.0876,  5.9044,  4.0253,  5.6676,  3.6569,\n",
       "         5.1906,  4.9169,  4.6360,  4.2135, 13.0285, 13.0285, 12.9824, 16.7670,\n",
       "        13.8483, 12.6004, 14.5899, 14.2785, 20.6512, 13.1940, 15.1759,  9.7558,\n",
       "         9.7558, 16.7862,  9.4593,  8.4654, 16.8227, 13.5843, 14.6776, 17.1621,\n",
       "        18.4812, 14.4729, 21.6979, 21.6979, 18.0151, 23.6391, 23.3777, 23.9574,\n",
       "        21.5364, 20.4258, 18.8795, 20.4211, 21.9522,  3.8952,  3.8952,  3.1554,\n",
       "         4.0964,  4.6544,  3.6569,  3.4427,  7.6690, 12.0725,  6.3388,  5.9044,\n",
       "        12.9232, 12.9232, 21.6666, 16.7670, 15.3130, 19.1406, 17.4464, 15.2180,\n",
       "        23.6717, 20.3492, 23.1696,  5.7124,  5.7124, 15.8435,  8.2790, 16.7670,\n",
       "        13.4219, 15.5254, 11.6711,  4.2876, 16.3273, 22.0746])"
      ]
     },
     "execution_count": 385,
     "metadata": {},
     "output_type": "execute_result"
    }
   ],
   "source": [
    "adj_matrix[1]"
   ]
  },
  {
   "cell_type": "code",
   "execution_count": 406,
   "metadata": {},
   "outputs": [
    {
     "data": {
      "text/plain": [
       "0.4477483928203583"
      ]
     },
     "execution_count": 406,
     "metadata": {},
     "output_type": "execute_result"
    }
   ],
   "source": [
    "from scipy.spatial.distance import cosine\n",
    "\n",
    "similarity_score = 1 - cosine(outputs[0], outputs[5]) \n",
    "similarity_score"
   ]
  },
  {
   "cell_type": "code",
   "execution_count": 387,
   "metadata": {},
   "outputs": [],
   "source": [
    "def get_graph(new_batch_id,threshold,outputs,logits):\n",
    "    output = outputs[new_batch_id]\n",
    "    logit = logits[new_batch_id]\n",
    "    adjacency_matrix = np.zeros((len(new_batch_id), len(new_batch_id)))\n",
    "    for i in range(len(new_batch_id)):\n",
    "        for j in range(len(new_batch_id)):\n",
    "           adjacency_matrix[i][j] =   1 - cosine(output[i], output[j]) \n",
    "    edge_index = []\n",
    "    for i in range(len(new_batch_id)):\n",
    "        for j in range(len(new_batch_id)):\n",
    "            if adjacency_matrix[i,j] >threshold:\n",
    "                edge_index.append([i,j])\n",
    "    return logit, torch.tensor(np.array(edge_index).transpose()).to(torch.int)\n",
    "    "
   ]
  },
  {
   "cell_type": "code",
   "execution_count": 388,
   "metadata": {},
   "outputs": [],
   "source": [
    "x,edge_index = get_graph(new_batch,0.8)"
   ]
  },
  {
   "cell_type": "code",
   "execution_count": 389,
   "metadata": {},
   "outputs": [
    {
     "data": {
      "text/plain": [
       "torch.Size([2, 1324])"
      ]
     },
     "execution_count": 389,
     "metadata": {},
     "output_type": "execute_result"
    }
   ],
   "source": [
    "edge_index.shape"
   ]
  },
  {
   "cell_type": "code",
   "execution_count": 376,
   "metadata": {},
   "outputs": [],
   "source": [
    "import torch_geometric as tg\n",
    "from torch_geometric.nn.conv import GATConv, GATv2Conv\n",
    "from torch_geometric.data import Data\n",
    "import torch.nn.functional as F\n",
    "import torch.nn as nn"
   ]
  },
  {
   "cell_type": "code",
   "execution_count": 393,
   "metadata": {},
   "outputs": [],
   "source": [
    "\n",
    "class PropagationModel(nn.Module):\n",
    "    def __init__(self):\n",
    "        super().__init__()\n",
    "        self.gat_conv = GATv2Conv(2, 2, heads=3, edge_dim=1)\n",
    "        self.linear = nn.Linear(6,2)\n",
    "    def forward(self,x,edge_index):\n",
    "        x = self.gat_conv(x,edge_index)\n",
    "        x = self.linear(x)\n",
    "        return x\n",
    "    def predict(self,x,edge_index):\n",
    "        self.train(False)\n",
    "        x=  self(x,edge_index)\n",
    "        probs = F.softmax(x,dim=-1)\n",
    "        return probs\n"
   ]
  },
  {
   "cell_type": "code",
   "execution_count": 408,
   "metadata": {},
   "outputs": [
    {
     "data": {
      "text/plain": [
       "array([[  0,   0,   1, ..., 109, 109, 109],\n",
       "       [  0,   1,   0, ..., 106, 108, 109]], dtype=int32)"
      ]
     },
     "execution_count": 408,
     "metadata": {},
     "output_type": "execute_result"
    }
   ],
   "source": [
    "np.array(edge_index)"
   ]
  },
  {
   "cell_type": "code",
   "execution_count": 41,
   "metadata": {},
   "outputs": [
    {
     "ename": "NameError",
     "evalue": "name 'PropagationModel' is not defined",
     "output_type": "error",
     "traceback": [
      "\u001b[0;31m---------------------------------------------------------------------------\u001b[0m",
      "\u001b[0;31mNameError\u001b[0m                                 Traceback (most recent call last)",
      "Cell \u001b[0;32mIn[41], line 1\u001b[0m\n\u001b[0;32m----> 1\u001b[0m testModel \u001b[38;5;241m=\u001b[39m \u001b[43mPropagationModel\u001b[49m()\n",
      "\u001b[0;31mNameError\u001b[0m: name 'PropagationModel' is not defined"
     ]
    }
   ],
   "source": [
    "testModel = PropagationModel()"
   ]
  },
  {
   "cell_type": "code",
   "execution_count": 40,
   "metadata": {},
   "outputs": [
    {
     "ename": "NameError",
     "evalue": "name 'testModel' is not defined",
     "output_type": "error",
     "traceback": [
      "\u001b[0;31m---------------------------------------------------------------------------\u001b[0m",
      "\u001b[0;31mNameError\u001b[0m                                 Traceback (most recent call last)",
      "Cell \u001b[0;32mIn[40], line 1\u001b[0m\n\u001b[0;32m----> 1\u001b[0m probs \u001b[38;5;241m=\u001b[39m \u001b[43mtestModel\u001b[49m\u001b[38;5;241m.\u001b[39mpredict(x,edge_index)\n",
      "\u001b[0;31mNameError\u001b[0m: name 'testModel' is not defined"
     ]
    }
   ],
   "source": [
    "probs = testModel.predict(x,edge_index)"
   ]
  },
  {
   "cell_type": "code",
   "execution_count": 5,
   "metadata": {},
   "outputs": [],
   "source": [
    "from qdrant_client.models import Distance, VectorParams\n",
    "from qdrant_client.http import models\n",
    "from qdrant_client import QdrantClient\n",
    "import torch\n",
    "from scipy.spatial.distance import cosine"
   ]
  },
  {
   "cell_type": "code",
   "execution_count": 8,
   "metadata": {},
   "outputs": [],
   "source": [
    "client = QdrantClient(url=\"http://localhost:6333\")"
   ]
  },
  {
   "cell_type": "code",
   "execution_count": 14,
   "metadata": {},
   "outputs": [],
   "source": [
    "def minibatch(*tensors, **kwargs):\n",
    "\n",
    "    batch_size = kwargs['batch_size']\n",
    "\n",
    "    if len(tensors) == 1:\n",
    "        tensor = tensors[0]\n",
    "        for i in range(0, len(tensor), batch_size):\n",
    "            yield tensor[i:i + batch_size]\n",
    "    else:\n",
    "        for i in range(0, len(tensors[0]), batch_size):\n",
    "            yield tuple(x[i:i + batch_size] for x in tensors)"
   ]
  },
  {
   "cell_type": "code",
   "execution_count": 1,
   "metadata": {},
   "outputs": [],
   "source": [
    "def similarity_dict(name_data):\n",
    "    name_outputs = f'/Users/namle/Desktop/GET/embed_probagation/output_{name_data}.pt'\n",
    "    outputs = torch.load(name_outputs)\n",
    "    client = QdrantClient(url=\"http://localhost:6333\")\n",
    "    client.create_collection(\n",
    "        collection_name=name_data,\n",
    "        vectors_config=VectorParams(size=outputs.size(1), distance=Distance.COSINE),\n",
    "    )\n",
    "    id=list(range(outputs.size(0)))\n",
    "    for (minibatch_num,(idb,outputb)) in enumerate(minibatch(id,outputs,batch_size=32)):\n",
    "        client.upsert(\n",
    "            collection_name=name_data,\n",
    "            points = models.Batch(\n",
    "                ids = idb,\n",
    "                vectors = outputb.tolist()\n",
    "            )\n",
    "        )\n",
    "    similarity_dict = {}\n",
    "    for i in range(outputs.size(0)):\n",
    "        hits = client.search(\n",
    "        collection_name=name_data,\n",
    "        query_vector=outputs[i].tolist(),\n",
    "        limit=10,\n",
    "        )\n",
    "        similarity_dict[i] = [hit.id for hit in hits]\n",
    "    dict_name = f'embed_probagation/similar_dict_{name_data}.pt'\n",
    "    torch.save(similarity_dict,dict_name)\n",
    "\n",
    "def similar_main_snope():\n",
    "    for i in range(5):\n",
    "        name = f'snope_train_{i}'\n",
    "        similarity_dict(name)\n",
    "        name = f'snope_test_{i}'\n",
    "        similarity_dict(name)\n",
    "        if i ==4:\n",
    "            name = f'snope_valid'\n",
    "            similarity_dict(name)"
   ]
  },
  {
   "cell_type": "code",
   "execution_count": 30,
   "metadata": {},
   "outputs": [],
   "source": [
    "similar_main_snope()"
   ]
  },
  {
   "cell_type": "code",
   "execution_count": 29,
   "metadata": {},
   "outputs": [
    {
     "data": {
      "text/plain": [
       "True"
      ]
     },
     "execution_count": 29,
     "metadata": {},
     "output_type": "execute_result"
    }
   ],
   "source": [
    "client.delete_collection(collection_name=\"snope_train_0\")"
   ]
  },
  {
   "cell_type": "code",
   "execution_count": 25,
   "metadata": {},
   "outputs": [],
   "source": [
    "name_data = \"snope_train_0\""
   ]
  },
  {
   "cell_type": "code",
   "execution_count": 26,
   "metadata": {},
   "outputs": [],
   "source": [
    "name_outputs = f'/Users/namle/Desktop/GET/embed_probagation/output_{name_data}.pt'\n",
    "outputs = torch.load(name_outputs)\n",
    "client = QdrantClient(url=\"http://localhost:6333\")\n",
    "client.create_collection(\n",
    "    collection_name=name_data,\n",
    "    vectors_config=VectorParams(size=outputs.size(1), distance=Distance.COSINE),\n",
    ")\n",
    "id=list(range(outputs.size(0)))\n",
    "for (minibatch_num,(idb,outputb)) in enumerate(minibatch(id,outputs,batch_size=32)):\n",
    "    client.upsert(\n",
    "        collection_name=name_data,\n",
    "        points = models.Batch(\n",
    "            ids = idb,\n",
    "            vectors = outputb.tolist()\n",
    "        )\n",
    "    )"
   ]
  },
  {
   "cell_type": "code",
   "execution_count": 21,
   "metadata": {},
   "outputs": [
    {
     "data": {
      "text/plain": [
       "torch.Size([3126, 3556])"
      ]
     },
     "execution_count": 21,
     "metadata": {},
     "output_type": "execute_result"
    }
   ],
   "source": [
    "outputs.size()"
   ]
  },
  {
   "cell_type": "code",
   "execution_count": 28,
   "metadata": {},
   "outputs": [
    {
     "data": {
      "text/plain": [
       "CollectionInfo(status=<CollectionStatus.GREEN: 'green'>, optimizer_status=<OptimizersStatusOneOf.OK: 'ok'>, vectors_count=None, indexed_vectors_count=0, points_count=3126, segments_count=8, config=CollectionConfig(params=CollectionParams(vectors=VectorParams(size=3556, distance=<Distance.COSINE: 'Cosine'>, hnsw_config=None, quantization_config=None, on_disk=None), shard_number=1, sharding_method=None, replication_factor=1, write_consistency_factor=1, read_fan_out_factor=None, on_disk_payload=True, sparse_vectors=None), hnsw_config=HnswConfig(m=16, ef_construct=100, full_scan_threshold=10000, max_indexing_threads=0, on_disk=False, payload_m=None), optimizer_config=OptimizersConfig(deleted_threshold=0.2, vacuum_min_vector_number=1000, default_segment_number=0, max_segment_size=None, memmap_threshold=None, indexing_threshold=20000, flush_interval_sec=5, max_optimization_threads=None), wal_config=WalConfig(wal_capacity_mb=32, wal_segments_ahead=0), quantization_config=None), payload_schema={})"
      ]
     },
     "execution_count": 28,
     "metadata": {},
     "output_type": "execute_result"
    }
   ],
   "source": [
    "client.get_collection(collection_name=\"snope_train_0\")"
   ]
  },
  {
   "cell_type": "code",
   "execution_count": 31,
   "metadata": {},
   "outputs": [],
   "source": [
    "similar_dict = torch.load(\"/Users/namle/Desktop/GET/embed_probagation/similar_dict_snope_test_2.pt\")"
   ]
  },
  {
   "cell_type": "code",
   "execution_count": 32,
   "metadata": {},
   "outputs": [
    {
     "data": {
      "text/plain": [
       "{0: [0, 763, 717, 689, 231, 289, 127, 307, 590, 364],\n",
       " 1: [1, 289, 322, 646, 9, 510, 231, 775, 349, 500],\n",
       " 2: [2, 646, 0, 298, 717, 1, 307, 322, 642, 664],\n",
       " 3: [3, 738, 54, 735, 107, 661, 99, 530, 693, 193],\n",
       " 4: [4, 653, 28, 604, 576, 602, 668, 680, 579, 642],\n",
       " 5: [5, 632, 604, 510, 322, 579, 739, 653, 314, 646],\n",
       " 6: [6, 343, 98, 354, 561, 213, 340, 761, 344, 359],\n",
       " 7: [7, 582, 592, 392, 396, 684, 322, 14, 730, 245],\n",
       " 8: [8, 201, 312, 765, 127, 317, 750, 472, 781, 490],\n",
       " 9: [9, 322, 646, 1, 510, 582, 289, 231, 315, 551],\n",
       " 10: [10, 643, 461, 18, 586, 637, 636, 538, 599, 557],\n",
       " 11: [11, 738, 735, 661, 530, 587, 197, 667, 366, 730],\n",
       " 12: [12, 595, 591, 395, 551, 610, 678, 581, 196, 597],\n",
       " 13: [13, 580, 586, 660, 653, 20, 258, 540, 184, 112],\n",
       " 14: [14, 398, 201, 337, 582, 331, 216, 548, 588, 595],\n",
       " 15: [15, 263, 383, 317, 39, 54, 196, 710, 146, 373],\n",
       " 16: [16, 148, 603, 694, 605, 34, 207, 264, 216, 244],\n",
       " 17: [17, 520, 232, 195, 532, 26, 437, 140, 10, 112],\n",
       " 18: [18, 662, 10, 586, 511, 648, 637, 461, 112, 599],\n",
       " 19: [19, 653, 576, 602, 680, 584, 668, 648, 646, 586],\n",
       " 20: [20, 599, 13, 112, 586, 580, 561, 461, 527, 745],\n",
       " 21: [21, 613, 339, 704, 608, 311, 699, 207, 692, 192],\n",
       " 22: [22, 652, 633, 472, 392, 90, 565, 765, 750, 341],\n",
       " 23: [23, 196, 31, 694, 78, 366, 491, 216, 603, 778],\n",
       " 24: [24, 733, 576, 569, 277, 602, 151, 549, 668, 656],\n",
       " 25: [25, 654, 472, 548, 173, 565, 127, 331, 542, 22],\n",
       " 26: [26, 112, 761, 437, 63, 779, 459, 520, 432, 13],\n",
       " 27: [27, 753, 651, 763, 455, 630, 262, 492, 467, 435],\n",
       " 28: [28, 653, 576, 602, 623, 626, 338, 130, 4, 586],\n",
       " 29: [29, 581, 41, 39, 383, 317, 280, 373, 670, 657],\n",
       " 30: [30, 247, 349, 209, 1, 719, 401, 637, 767, 109],\n",
       " 31: [31, 447, 434, 382, 388, 312, 23, 383, 409, 216],\n",
       " 32: [32, 238, 50, 565, 526, 478, 409, 3, 506, 170],\n",
       " 33: [33, 449, 538, 459, 262, 461, 184, 718, 726, 249],\n",
       " 34: [34, 201, 331, 216, 312, 765, 215, 548, 392, 207],\n",
       " 35: [35, 485, 750, 491, 127, 689, 472, 409, 596, 478],\n",
       " 36: [36, 221, 472, 245, 332, 174, 769, 170, 565, 756],\n",
       " 37: [37, 335, 542, 780, 654, 25, 649, 650, 331, 43],\n",
       " 38: [38, 157, 373, 756, 371, 345, 236, 193, 189, 108],\n",
       " 39: [39, 282, 110, 657, 693, 738, 506, 383, 378, 88],\n",
       " 40: [40, 48, 464, 87, 169, 88, 221, 153, 769, 137],\n",
       " 41: [41, 29, 581, 39, 391, 79, 295, 31, 43, 40],\n",
       " 42: [42, 447, 517, 199, 740, 609, 415, 511, 449, 519],\n",
       " 43: [43, 70, 40, 613, 687, 335, 137, 94, 284, 479],\n",
       " 44: [44, 147, 400, 217, 559, 517, 198, 564, 199, 527],\n",
       " 45: [45, 596, 279, 43, 416, 31, 281, 152, 468, 732],\n",
       " 46: [46, 413, 512, 763, 533, 372, 161, 702, 718, 461],\n",
       " 47: [47, 544, 511, 524, 519, 517, 151, 623, 627, 198],\n",
       " 48: [48, 756, 282, 113, 371, 366, 174, 137, 58, 245],\n",
       " 49: [49, 296, 98, 761, 232, 235, 63, 199, 134, 133],\n",
       " 50: [50, 693, 357, 99, 101, 738, 735, 756, 490, 193],\n",
       " 51: [51, 270, 724, 425, 418, 119, 183, 481, 422, 135],\n",
       " 52: [52, 48, 136, 137, 90, 170, 756, 282, 60, 565],\n",
       " 53: [53, 231, 450, 35, 315, 485, 500, 489, 709, 646],\n",
       " 54: [54, 174, 197, 255, 253, 107, 490, 366, 738, 3],\n",
       " 55: [55, 1, 561, 112, 91, 358, 514, 235, 175, 779],\n",
       " 56: [56, 766, 776, 92, 390, 181, 172, 369, 291, 470],\n",
       " 57: [57, 679, 248, 511, 420, 596, 681, 447, 42, 276],\n",
       " 58: [58, 99, 667, 11, 255, 174, 253, 756, 738, 189],\n",
       " 59: [59, 347, 192, 368, 195, 42, 163, 181, 776, 311],\n",
       " 60: [60, 444, 756, 490, 371, 377, 48, 366, 110, 174],\n",
       " 61: [61, 104, 111, 268, 384, 505, 240, 728, 722, 575],\n",
       " 62: [62, 113, 371, 54, 756, 490, 174, 255, 48, 236],\n",
       " 63: [63, 233, 235, 112, 761, 580, 124, 685, 527, 641],\n",
       " 64: [64, 505, 240, 728, 624, 749, 61, 407, 683, 111],\n",
       " 65: [65, 349, 209, 347, 1, 542, 136, 190, 247, 167],\n",
       " 66: [66, 522, 773, 511, 83, 676, 544, 524, 47, 243],\n",
       " 67: [67, 542, 360, 485, 727, 267, 1, 646, 289, 689],\n",
       " 68: [68, 500, 173, 472, 775, 590, 548, 25, 121, 654],\n",
       " 69: [69, 525, 654, 25, 401, 730, 686, 717, 528, 68],\n",
       " 70: [70, 137, 43, 40, 48, 687, 401, 754, 136, 335],\n",
       " 71: [71, 109, 138, 70, 89, 759, 128, 349, 363, 65],\n",
       " 72: [72, 10, 118, 482, 640, 316, 643, 227, 134, 412],\n",
       " 73: [73, 723, 80, 731, 643, 217, 44, 552, 175, 400],\n",
       " 74: [74, 76, 547, 237, 469, 154, 516, 486, 626, 586],\n",
       " 75: [75, 231, 510, 500, 78, 775, 627, 47, 230, 77],\n",
       " 76: [76, 315, 419, 455, 77, 231, 314, 469, 548, 304],\n",
       " 77: [77, 231, 590, 495, 500, 485, 304, 428, 417, 76],\n",
       " 78: [78, 231, 322, 289, 510, 324, 775, 472, 117, 332],\n",
       " 79: [79, 595, 597, 581, 398, 605, 159, 577, 551, 396],\n",
       " 80: [80, 81, 400, 260, 237, 44, 313, 73, 175, 187],\n",
       " 81: [81, 175, 343, 561, 80, 220, 601, 340, 348, 112],\n",
       " 82: [82, 183, 487, 436, 421, 422, 418, 423, 573, 742],\n",
       " 83: [83, 243, 525, 66, 674, 416, 676, 252, 524, 673],\n",
       " 84: [84, 236, 756, 87, 88, 255, 667, 345, 222, 170],\n",
       " 85: [85, 231, 500, 472, 652, 22, 565, 775, 478, 315],\n",
       " 86: [86, 701, 76, 455, 154, 264, 544, 770, 53, 187],\n",
       " 87: [87, 88, 345, 236, 530, 693, 738, 107, 721, 389],\n",
       " 88: [88, 87, 345, 236, 530, 693, 738, 107, 389, 721],\n",
       " 89: [89, 218, 488, 269, 82, 217, 731, 183, 71, 410],\n",
       " 90: [90, 88, 87, 756, 345, 657, 716, 170, 588, 730],\n",
       " 91: [91, 112, 18, 233, 639, 63, 524, 55, 230, 461],\n",
       " 92: [92, 363, 185, 455, 171, 9, 479, 391, 131, 390],\n",
       " 93: [93, 511, 637, 185, 759, 480, 456, 562, 131, 92],\n",
       " 94: [94, 43, 185, 70, 109, 401, 181, 138, 40, 363],\n",
       " 95: [95, 343, 220, 122, 354, 761, 359, 340, 561, 675],\n",
       " 96: [96, 355, 322, 349, 289, 510, 136, 315, 310, 314],\n",
       " 97: [97, 775, 68, 136, 1, 401, 634, 194, 684, 96],\n",
       " 98: [98, 343, 100, 561, 134, 235, 761, 348, 251, 344],\n",
       " 99: [99, 667, 738, 197, 193, 357, 174, 253, 574, 255],\n",
       " 100: [100, 343, 199, 98, 348, 235, 340, 514, 220, 761],\n",
       " 101: [101, 99, 236, 357, 105, 735, 574, 738, 721, 255],\n",
       " 102: [102, 568, 502, 696, 480, 93, 138, 65, 766, 128],\n",
       " 103: [103, 519, 544, 305, 151, 755, 621, 527, 448, 187],\n",
       " 104: [104, 384, 111, 407, 240, 728, 268, 505, 683, 722],\n",
       " 105: [105, 197, 54, 99, 236, 357, 490, 255, 101, 107],\n",
       " 106: [106, 136, 720, 90, 101, 190, 169, 716, 768, 88],\n",
       " 107: [107, 738, 530, 378, 54, 197, 189, 193, 661, 3],\n",
       " 108: [108, 693, 738, 670, 189, 530, 99, 667, 193, 197],\n",
       " 109: [109, 71, 363, 762, 138, 70, 400, 776, 181, 30],\n",
       " 110: [110, 693, 108, 389, 738, 88, 377, 87, 146, 105],\n",
       " 111: [111, 505, 268, 240, 728, 384, 722, 104, 683, 407],\n",
       " 112: [112, 233, 63, 599, 580, 124, 586, 20, 461, 13],\n",
       " 113: [113, 54, 255, 174, 371, 366, 490, 253, 756, 236],\n",
       " 114: [114, 579, 507, 588, 398, 396, 556, 582, 526, 684],\n",
       " 115: [115, 240, 683, 430, 271, 505, 728, 407, 481, 749],\n",
       " 116: [116, 185, 628, 538, 227, 308, 339, 10, 518, 529],\n",
       " 117: [117, 68, 494, 775, 190, 391, 209, 173, 322, 394],\n",
       " 118: [118, 511, 648, 518, 309, 544, 673, 602, 650, 292],\n",
       " 119: [119, 666, 246, 270, 697, 418, 746, 423, 425, 422],\n",
       " 120: [120, 646, 529, 289, 668, 10, 540, 739, 636, 461],\n",
       " 121: [121, 58, 245, 173, 667, 99, 357, 582, 174, 592],\n",
       " 122: [122, 343, 95, 185, 719, 172, 766, 640, 188, 344],\n",
       " 123: [123, 383, 409, 752, 50, 196, 693, 670, 470, 146],\n",
       " 124: [124, 457, 63, 112, 233, 465, 406, 235, 272, 517],\n",
       " 125: [125, 175, 260, 348, 557, 755, 219, 359, 133, 302],\n",
       " 126: [126, 469, 414, 542, 455, 304, 254, 643, 68, 428],\n",
       " 127: [127, 472, 490, 491, 201, 750, 689, 312, 170, 225],\n",
       " 128: [128, 349, 759, 136, 138, 401, 71, 133, 767, 65],\n",
       " 129: [129, 109, 562, 251, 351, 232, 49, 239, 218, 70],\n",
       " 130: [130, 653, 586, 28, 648, 13, 599, 576, 584, 621],\n",
       " 131: [131, 185, 162, 40, 168, 92, 70, 128, 93, 351],\n",
       " 132: [132, 400, 349, 175, 759, 761, 133, 453, 283, 219],\n",
       " 133: [133, 453, 251, 125, 128, 134, 232, 235, 349, 400],\n",
       " 134: [134, 98, 235, 232, 619, 100, 251, 133, 353, 162],\n",
       " 135: [135, 421, 422, 425, 423, 418, 141, 697, 430, 246],\n",
       " 136: [136, 101, 756, 332, 48, 221, 58, 87, 88, 190],\n",
       " 137: [137, 389, 464, 48, 88, 87, 377, 282, 110, 756],\n",
       " 138: [138, 776, 181, 109, 71, 218, 217, 128, 390, 488],\n",
       " 139: [139, 125, 310, 562, 349, 359, 251, 128, 346, 96],\n",
       " 140: [140, 348, 620, 400, 353, 232, 184, 349, 751, 130],\n",
       " 141: [141, 422, 423, 418, 135, 573, 421, 425, 430, 119],\n",
       " 142: [142, 781, 661, 738, 667, 371, 203, 490, 515, 99],\n",
       " 143: [143, 254, 455, 363, 295, 391, 92, 210, 154, 544],\n",
       " 144: [144, 87, 88, 341, 137, 90, 402, 48, 333, 392],\n",
       " 145: [145, 165, 574, 174, 99, 738, 197, 661, 189, 54],\n",
       " 146: [146, 738, 193, 197, 693, 378, 107, 371, 54, 530],\n",
       " 147: [147, 532, 217, 564, 44, 517, 559, 390, 223, 400],\n",
       " 148: [148, 16, 34, 14, 264, 331, 636, 319, 201, 396],\n",
       " 149: [149, 730, 11, 472, 245, 738, 282, 174, 530, 592],\n",
       " 150: [150, 190, 472, 716, 173, 579, 149, 247, 542, 720],\n",
       " 151: [151, 599, 621, 519, 620, 538, 660, 772, 623, 10],\n",
       " 152: [152, 596, 478, 773, 428, 45, 53, 716, 747, 312],\n",
       " 153: [153, 769, 146, 378, 371, 222, 464, 174, 738, 193],\n",
       " 154: [154, 455, 415, 414, 74, 254, 187, 467, 385, 387],\n",
       " 155: [155, 400, 125, 758, 349, 359, 100, 98, 343, 219],\n",
       " 156: [156, 390, 250, 532, 303, 227, 569, 195, 248, 523],\n",
       " 157: [157, 373, 721, 693, 88, 464, 87, 58, 498, 107],\n",
       " 158: [158, 181, 350, 369, 159, 709, 195, 30, 291, 776],\n",
       " 159: [159, 569, 576, 586, 745, 267, 79, 648, 291, 653],\n",
       " 160: [160, 598, 547, 602, 660, 664, 159, 643, 504, 626],\n",
       " 161: [161, 33, 184, 718, 512, 46, 185, 233, 100, 538],\n",
       " 162: [162, 185, 134, 131, 172, 347, 94, 92, 562, 352],\n",
       " 163: [163, 517, 233, 305, 262, 519, 449, 538, 457, 177],\n",
       " 164: [164, 249, 33, 223, 459, 532, 274, 449, 404, 177],\n",
       " 165: [165, 145, 174, 54, 107, 490, 738, 574, 99, 688],\n",
       " 166: [166, 151, 276, 638, 267, 519, 159, 615, 544, 664],\n",
       " 167: [167, 48, 136, 472, 221, 62, 528, 165, 113, 716],\n",
       " 168: [168, 131, 181, 138, 295, 109, 390, 43, 363, 286],\n",
       " 169: [169, 721, 87, 88, 464, 236, 101, 197, 222, 530],\n",
       " 170: [170, 174, 255, 236, 54, 738, 490, 253, 189, 107],\n",
       " 171: [171, 709, 187, 390, 92, 9, 243, 525, 335, 387],\n",
       " 172: [172, 347, 185, 776, 162, 719, 766, 122, 181, 308],\n",
       " 173: [173, 245, 58, 121, 174, 332, 472, 170, 721, 691],\n",
       " 174: [174, 54, 197, 99, 738, 530, 189, 255, 735, 145],\n",
       " 175: [175, 125, 260, 557, 455, 237, 358, 400, 219, 348],\n",
       " 176: [176, 33, 217, 147, 517, 723, 89, 449, 457, 763],\n",
       " 177: [177, 538, 163, 348, 457, 349, 223, 557, 199, 318],\n",
       " 178: [178, 543, 421, 487, 724, 183, 180, 423, 722, 471],\n",
       " 179: [179, 138, 65, 71, 400, 401, 347, 367, 542, 363],\n",
       " 180: [180, 183, 423, 422, 421, 418, 425, 724, 135, 141],\n",
       " 181: [181, 776, 138, 390, 43, 109, 363, 265, 408, 400],\n",
       " 182: [182, 203, 581, 657, 738, 325, 324, 587, 592, 373],\n",
       " 183: [183, 724, 418, 425, 421, 422, 423, 135, 430, 246],\n",
       " 184: [184, 540, 13, 33, 10, 461, 20, 112, 512, 561],\n",
       " 185: [185, 719, 227, 172, 562, 718, 512, 92, 116, 347],\n",
       " 186: [186, 646, 586, 653, 544, 642, 620, 28, 13, 621],\n",
       " 187: [187, 171, 709, 467, 237, 614, 154, 304, 103, 387],\n",
       " 188: [188, 10, 185, 343, 311, 761, 213, 718, 561, 512],\n",
       " 189: [189, 530, 738, 366, 661, 667, 735, 197, 174, 107],\n",
       " 190: [190, 136, 173, 222, 221, 472, 169, 721, 87, 720],\n",
       " 191: [191, 120, 558, 352, 322, 289, 353, 333, 355, 529],\n",
       " 192: [192, 643, 59, 151, 620, 608, 636, 707, 295, 363],\n",
       " 193: [193, 99, 574, 107, 345, 667, 693, 738, 253, 189],\n",
       " 194: [194, 173, 190, 288, 136, 401, 720, 472, 150, 721],\n",
       " 195: [195, 520, 517, 532, 17, 198, 291, 353, 59, 248],\n",
       " 196: [196, 396, 587, 383, 515, 693, 317, 738, 595, 142],\n",
       " 197: [197, 735, 54, 99, 661, 738, 285, 667, 174, 253],\n",
       " 198: [198, 517, 519, 569, 566, 539, 227, 44, 184, 532],\n",
       " 199: [199, 100, 223, 343, 296, 761, 63, 235, 98, 249],\n",
       " 200: [200, 505, 111, 567, 722, 268, 683, 240, 575, 246],\n",
       " 201: [201, 312, 331, 216, 765, 127, 526, 215, 781, 14],\n",
       " 202: [202, 282, 153, 48, 174, 371, 378, 113, 366, 332],\n",
       " 203: [203, 189, 661, 738, 366, 530, 735, 389, 11, 174],\n",
       " 204: [204, 547, 553, 763, 10, 289, 529, 628, 267, 636],\n",
       " 205: [205, 107, 222, 345, 530, 688, 611, 189, 54, 285],\n",
       " 206: [206, 263, 202, 15, 40, 79, 595, 678, 12, 491],\n",
       " 207: [207, 331, 201, 216, 34, 312, 215, 542, 25, 22],\n",
       " 208: [208, 211, 216, 16, 379, 226, 34, 331, 339, 207],\n",
       " 209: [209, 349, 1, 557, 247, 65, 221, 775, 136, 590],\n",
       " 210: [210, 106, 383, 280, 157, 429, 481, 659, 51, 468],\n",
       " 211: [211, 201, 34, 216, 327, 215, 330, 781, 331, 597],\n",
       " 212: [212, 267, 532, 411, 537, 517, 744, 33, 404, 751],\n",
       " 213: [213, 561, 343, 761, 354, 562, 232, 98, 640, 400],\n",
       " 214: [214, 548, 173, 25, 68, 225, 654, 312, 34, 14],\n",
       " 215: [215, 201, 216, 472, 765, 716, 652, 565, 22, 203],\n",
       " 216: [216, 201, 331, 312, 215, 781, 765, 14, 142, 377],\n",
       " 217: [217, 147, 400, 89, 100, 138, 559, 44, 759, 348],\n",
       " 218: [218, 141, 135, 421, 183, 180, 418, 82, 436, 724],\n",
       " 219: [219, 358, 260, 175, 561, 125, 400, 340, 527, 343],\n",
       " 220: [220, 343, 340, 348, 761, 561, 100, 359, 358, 228],\n",
       " 221: [221, 222, 769, 174, 332, 245, 472, 366, 11, 173],\n",
       " 222: [222, 11, 721, 285, 530, 197, 174, 189, 366, 735],\n",
       " 223: [223, 199, 532, 249, 517, 296, 745, 235, 100, 437],\n",
       " 224: [224, 532, 223, 751, 538, 20, 561, 258, 504, 33],\n",
       " 225: [225, 765, 121, 392, 173, 582, 592, 548, 170, 667],\n",
       " 226: [226, 215, 331, 25, 654, 34, 548, 207, 22, 652],\n",
       " 227: [227, 511, 517, 185, 538, 10, 461, 518, 609, 662],\n",
       " 228: [228, 235, 220, 199, 343, 100, 98, 232, 251, 134],\n",
       " 229: [229, 232, 233, 235, 566, 616, 251, 130, 260, 63],\n",
       " 230: [230, 231, 419, 85, 237, 1, 9, 77, 234, 524],\n",
       " 231: [231, 77, 315, 775, 9, 1, 582, 85, 500, 689],\n",
       " 232: [232, 229, 235, 233, 353, 134, 400, 761, 561, 98],\n",
       " 233: [233, 63, 112, 235, 761, 232, 124, 229, 432, 406],\n",
       " 234: [234, 1, 9, 643, 237, 646, 637, 289, 65, 231],\n",
       " 235: [235, 63, 233, 232, 761, 100, 561, 685, 134, 98],\n",
       " 236: [236, 255, 253, 99, 54, 357, 189, 345, 574, 667],\n",
       " 237: [237, 260, 175, 469, 406, 419, 455, 755, 230, 234],\n",
       " 238: [238, 733, 478, 611, 50, 670, 7, 526, 588, 3],\n",
       " 239: [239, 135, 421, 422, 141, 423, 418, 487, 436, 425],\n",
       " 240: [240, 505, 728, 111, 407, 683, 384, 268, 460, 722],\n",
       " 241: [241, 745, 664, 660, 576, 703, 599, 223, 656, 569],\n",
       " 242: [242, 519, 685, 10, 616, 186, 233, 517, 260, 258],\n",
       " 243: [243, 83, 524, 525, 511, 676, 678, 292, 387, 675],\n",
       " 244: [244, 657, 142, 595, 22, 396, 652, 526, 588, 581],\n",
       " 245: [245, 58, 174, 11, 735, 730, 490, 99, 54, 684],\n",
       " 246: [246, 746, 575, 471, 683, 119, 728, 697, 505, 543],\n",
       " 247: [247, 221, 136, 190, 472, 394, 36, 40, 633, 173],\n",
       " 248: [248, 532, 748, 571, 647, 462, 569, 361, 517, 223],\n",
       " 249: [249, 223, 33, 199, 726, 438, 504, 164, 184, 424],\n",
       " 250: [250, 567, 508, 532, 460, 487, 742, 82, 303, 607],\n",
       " 251: [251, 98, 133, 232, 134, 235, 353, 100, 527, 229],\n",
       " 252: [252, 255, 667, 253, 236, 345, 58, 99, 84, 222],\n",
       " 253: [253, 255, 236, 54, 197, 99, 174, 574, 193, 611],\n",
       " 254: [254, 478, 428, 455, 510, 548, 450, 231, 90, 84],\n",
       " 255: [255, 253, 236, 54, 174, 99, 197, 189, 490, 667],\n",
       " 256: [256, 304, 237, 260, 646, 175, 557, 130, 112, 516],\n",
       " 257: [257, 709, 518, 162, 188, 287, 43, 181, 118, 171],\n",
       " 258: [258, 13, 616, 112, 580, 623, 527, 586, 660, 539],\n",
       " 259: [259, 233, 527, 400, 112, 761, 260, 184, 343, 432],\n",
       " 260: [260, 237, 175, 219, 755, 125, 353, 527, 233, 761],\n",
       " 261: [261, 712, 469, 757, 630, 419, 1, 642, 175, 646],\n",
       " 262: [262, 33, 459, 457, 538, 571, 449, 448, 0, 233],\n",
       " 263: [263, 15, 206, 383, 317, 39, 280, 710, 146, 377],\n",
       " 264: [264, 201, 536, 595, 34, 16, 254, 148, 196, 207],\n",
       " 265: [265, 479, 335, 181, 300, 106, 687, 720, 43, 194],\n",
       " 266: [266, 428, 417, 771, 493, 489, 112, 427, 372, 476],\n",
       " 267: [267, 628, 212, 532, 67, 538, 647, 537, 204, 540],\n",
       " 268: [268, 111, 505, 728, 240, 683, 722, 384, 471, 246],\n",
       " 269: [269, 418, 422, 183, 410, 436, 421, 270, 141, 423],\n",
       " 270: [270, 119, 697, 271, 246, 425, 418, 430, 422, 423],\n",
       " 271: [271, 425, 430, 246, 270, 746, 697, 422, 683, 471],\n",
       " 272: [272, 124, 63, 459, 448, 233, 449, 112, 761, 404],\n",
       " 273: [273, 507, 588, 11, 592, 506, 730, 738, 735, 282],\n",
       " 274: [274, 499, 571, 745, 647, 538, 537, 305, 198, 449],\n",
       " 275: [275, 271, 746, 697, 607, 505, 575, 246, 268, 119],\n",
       " 276: [276, 267, 166, 212, 664, 703, 47, 248, 64, 57],\n",
       " 277: [277, 292, 24, 511, 678, 9, 544, 12, 551, 595],\n",
       " 278: [278, 396, 581, 588, 657, 325, 595, 768, 11, 577],\n",
       " 279: [279, 602, 486, 773, 642, 549, 579, 636, 604, 668],\n",
       " 280: [280, 383, 373, 693, 157, 110, 657, 88, 87, 464],\n",
       " 281: [281, 280, 479, 760, 144, 12, 597, 35, 157, 595],\n",
       " 282: [282, 738, 530, 366, 11, 378, 735, 54, 371, 174],\n",
       " 283: [283, 621, 400, 614, 620, 772, 599, 186, 314, 10],\n",
       " 284: [284, 61, 567, 591, 111, 607, 508, 687, 505, 554],\n",
       " 285: [285, 197, 735, 11, 661, 99, 667, 222, 721, 738],\n",
       " 286: [286, 288, 280, 137, 479, 707, 70, 710, 40, 470],\n",
       " 287: [287, 167, 613, 1, 62, 48, 40, 43, 633, 472],\n",
       " 288: [288, 194, 394, 136, 190, 632, 221, 173, 48, 247],\n",
       " 289: [289, 322, 1, 510, 579, 315, 9, 582, 633, 646],\n",
       " 290: [290, 746, 471, 697, 246, 570, 119, 666, 270, 425],\n",
       " 291: [291, 181, 159, 776, 766, 643, 532, 544, 223, 623],\n",
       " 292: [292, 678, 572, 113, 170, 48, 720, 332, 645, 756],\n",
       " 293: [293, 555, 602, 606, 583, 664, 326, 576, 477, 622],\n",
       " 294: [294, 580, 260, 412, 112, 91, 125, 302, 455, 739],\n",
       " 295: [295, 510, 9, 167, 716, 287, 70, 292, 114, 85],\n",
       " 296: [296, 437, 199, 640, 49, 420, 223, 761, 235, 63],\n",
       " 297: [297, 564, 181, 200, 677, 624, 64, 776, 303, 508],\n",
       " 298: [298, 2, 319, 642, 516, 114, 186, 636, 773, 207],\n",
       " 299: [299, 553, 529, 311, 501, 547, 542, 540, 650, 610],\n",
       " 300: [300, 265, 541, 16, 181, 347, 463, 21, 550, 617],\n",
       " 301: [301, 28, 623, 620, 621, 130, 653, 599, 626, 660],\n",
       " 302: [302, 1, 349, 125, 419, 557, 763, 322, 510, 646],\n",
       " 303: [303, 460, 508, 749, 405, 61, 436, 362, 683, 487],\n",
       " 304: [304, 469, 419, 590, 455, 763, 542, 1, 712, 68],\n",
       " 305: [305, 519, 763, 538, 304, 529, 517, 636, 406, 163],\n",
       " 306: [306, 202, 649, 633, 22, 652, 392, 215, 153, 472],\n",
       " 307: [307, 396, 506, 604, 689, 397, 398, 114, 583, 577],\n",
       " 308: [308, 538, 650, 347, 227, 185, 181, 532, 311, 116],\n",
       " 309: [309, 114, 396, 398, 602, 636, 577, 579, 397, 392],\n",
       " 310: [310, 322, 96, 775, 315, 510, 1, 9, 355, 289],\n",
       " 311: [311, 347, 542, 529, 636, 37, 188, 620, 190, 185],\n",
       " 312: [312, 201, 317, 765, 331, 216, 225, 526, 768, 127],\n",
       " 313: [313, 76, 419, 524, 81, 260, 359, 601, 80, 175],\n",
       " 314: [314, 642, 398, 315, 329, 96, 355, 604, 668, 510],\n",
       " 315: [315, 582, 775, 403, 121, 322, 646, 231, 684, 289],\n",
       " 316: [316, 501, 10, 72, 623, 630, 188, 433, 258, 636],\n",
       " 317: [317, 312, 373, 587, 526, 765, 551, 716, 693, 280],\n",
       " 318: [318, 319, 636, 538, 557, 10, 614, 458, 414, 542],\n",
       " 319: [319, 620, 636, 318, 329, 96, 557, 643, 767, 542],\n",
       " 320: [320, 779, 175, 480, 319, 608, 455, 719, 512, 459],\n",
       " 321: [321, 755, 125, 763, 455, 302, 419, 175, 91, 448],\n",
       " 322: [322, 289, 775, 394, 9, 315, 510, 1, 582, 96],\n",
       " 323: [323, 317, 333, 551, 121, 765, 312, 373, 494, 201],\n",
       " 324: [324, 121, 781, 394, 332, 189, 327, 667, 173, 58],\n",
       " 325: [325, 738, 587, 574, 11, 203, 693, 667, 657, 735],\n",
       " 326: [326, 583, 602, 653, 293, 576, 648, 19, 584, 664],\n",
       " 327: [327, 781, 394, 324, 142, 121, 765, 548, 775, 392],\n",
       " 328: [328, 346, 391, 117, 333, 419, 144, 354, 209, 76],\n",
       " 329: [329, 314, 355, 319, 96, 642, 604, 403, 621, 668],\n",
       " 330: [330, 331, 781, 216, 765, 201, 392, 327, 652, 22],\n",
       " 331: [331, 201, 765, 312, 216, 22, 34, 14, 207, 215],\n",
       " 332: [332, 197, 174, 11, 769, 738, 170, 721, 222, 87],\n",
       " 333: [333, 765, 652, 22, 225, 121, 341, 472, 173, 245],\n",
       " 334: [334, 330, 331, 739, 533, 312, 14, 201, 34, 478],\n",
       " 335: [335, 687, 87, 401, 88, 472, 70, 565, 720, 705],\n",
       " 336: [336, 312, 551, 497, 495, 121, 225, 317, 548, 750],\n",
       " 337: [337, 506, 245, 530, 587, 738, 684, 765, 691, 11],\n",
       " 338: [338, 28, 751, 653, 499, 538, 540, 623, 599, 10],\n",
       " 339: [339, 330, 21, 311, 216, 287, 379, 116, 208, 536],\n",
       " 340: [340, 343, 220, 348, 561, 761, 100, 354, 98, 219],\n",
       " 341: [341, 222, 769, 99, 667, 332, 738, 58, 11, 345],\n",
       " 342: [342, 419, 346, 469, 509, 763, 125, 260, 321, 219],\n",
       " 343: [343, 340, 220, 561, 348, 761, 354, 100, 98, 199],\n",
       " 344: [344, 343, 98, 220, 354, 561, 340, 761, 359, 348],\n",
       " 345: [345, 193, 667, 253, 107, 88, 87, 236, 574, 693],\n",
       " 346: [346, 419, 763, 125, 561, 630, 219, 349, 353, 175],\n",
       " 347: [347, 65, 542, 247, 172, 311, 390, 190, 59, 167],\n",
       " 348: [348, 343, 220, 340, 761, 561, 100, 400, 175, 358],\n",
       " 349: [349, 209, 759, 401, 96, 65, 136, 1, 557, 128],\n",
       " 350: [350, 181, 390, 70, 401, 754, 158, 284, 61, 71],\n",
       " 351: [351, 49, 131, 129, 562, 349, 128, 133, 759, 98],\n",
       " 352: [352, 354, 353, 400, 30, 718, 94, 561, 363, 719],\n",
       " 353: [353, 400, 232, 260, 561, 140, 348, 125, 527, 233],\n",
       " 354: [354, 343, 561, 340, 98, 352, 220, 348, 344, 359],\n",
       " 355: [355, 96, 322, 289, 315, 590, 604, 579, 314, 582],\n",
       " 356: [356, 425, 246, 471, 575, 422, 570, 728, 421, 697],\n",
       " 357: [357, 99, 667, 197, 253, 236, 174, 490, 735, 738],\n",
       " 358: [358, 219, 175, 348, 220, 343, 340, 557, 349, 125],\n",
       " 359: [359, 343, 400, 561, 220, 125, 348, 340, 98, 354],\n",
       " 360: [360, 67, 296, 287, 347, 1, 542, 628, 537, 204],\n",
       " 361: [361, 748, 462, 532, 420, 248, 223, 267, 638, 537],\n",
       " 362: [362, 460, 746, 575, 607, 430, 425, 666, 418, 508],\n",
       " 363: [363, 109, 390, 92, 181, 71, 400, 65, 762, 138],\n",
       " 364: [364, 491, 689, 127, 489, 485, 750, 472, 428, 35],\n",
       " 365: [365, 536, 707, 613, 43, 21, 216, 699, 339, 612],\n",
       " 366: [366, 530, 189, 735, 54, 661, 738, 11, 174, 721],\n",
       " 367: [367, 179, 319, 401, 190, 649, 215, 71, 542, 700],\n",
       " 368: [368, 43, 2, 59, 94, 295, 70, 713, 767, 349],\n",
       " 369: [369, 437, 296, 776, 291, 158, 181, 172, 700, 223],\n",
       " 370: [370, 423, 573, 422, 418, 183, 570, 141, 426, 607],\n",
       " 371: [371, 189, 738, 54, 197, 490, 530, 366, 107, 735],\n",
       " 372: [372, 517, 112, 448, 445, 459, 46, 404, 415, 489],\n",
       " 373: [373, 157, 693, 464, 371, 738, 383, 515, 345, 88],\n",
       " 374: [374, 746, 607, 570, 423, 422, 471, 246, 418, 543],\n",
       " 375: [375, 34, 319, 148, 215, 289, 655, 598, 542, 463],\n",
       " 376: [376, 386, 131, 339, 192, 206, 431, 94, 31, 603],\n",
       " 377: [377, 738, 693, 366, 530, 389, 203, 721, 108, 464],\n",
       " 378: [378, 107, 738, 193, 693, 366, 530, 146, 54, 574],\n",
       " 379: [379, 307, 267, 636, 538, 533, 628, 208, 717, 339],\n",
       " 380: [380, 193, 107, 285, 706, 378, 661, 189, 203, 721],\n",
       " 381: [381, 542, 718, 289, 347, 636, 30, 247, 150, 650],\n",
       " 382: [382, 388, 216, 215, 491, 31, 201, 649, 331, 565],\n",
       " 383: [383, 693, 373, 146, 464, 378, 515, 738, 110, 193],\n",
       " 384: [384, 104, 407, 111, 240, 268, 505, 728, 683, 722],\n",
       " 385: [385, 154, 455, 489, 446, 456, 47, 449, 175, 469],\n",
       " 386: [386, 376, 446, 608, 211, 281, 365, 429, 613, 210],\n",
       " 387: [387, 243, 187, 171, 154, 709, 390, 83, 525, 198],\n",
       " 388: [388, 382, 687, 325, 61, 31, 145, 378, 43, 111],\n",
       " 389: [389, 366, 203, 530, 688, 693, 738, 88, 54, 87],\n",
       " 390: [390, 167, 401, 303, 181, 70, 284, 40, 363, 347],\n",
       " 391: [391, 170, 472, 90, 84, 87, 173, 88, 190, 720],\n",
       " 392: [392, 394, 769, 765, 341, 652, 22, 173, 472, 121],\n",
       " 393: [393, 551, 582, 592, 714, 750, 333, 121, 245, 225],\n",
       " 394: [394, 769, 781, 121, 189, 58, 173, 490, 236, 157],\n",
       " 395: [395, 12, 396, 591, 398, 598, 673, 595, 556, 720],\n",
       " 396: [396, 398, 595, 592, 588, 577, 581, 587, 526, 325],\n",
       " 397: [397, 396, 398, 582, 592, 577, 595, 588, 531, 506],\n",
       " 398: [398, 396, 588, 582, 592, 595, 597, 114, 14, 579],\n",
       " 399: [399, 653, 602, 4, 114, 28, 529, 692, 579, 604],\n",
       " 400: [400, 759, 761, 349, 343, 132, 353, 348, 217, 557],\n",
       " 401: [401, 136, 190, 349, 48, 137, 194, 528, 686, 525],\n",
       " 402: [402, 144, 336, 280, 756, 127, 236, 105, 357, 495],\n",
       " 403: [403, 582, 315, 592, 684, 652, 588, 22, 775, 90],\n",
       " 404: [404, 449, 448, 459, 411, 415, 406, 63, 675, 427],\n",
       " 405: [405, 421, 418, 423, 487, 269, 422, 430, 481, 141],\n",
       " 406: [406, 449, 448, 415, 459, 233, 457, 237, 63, 124],\n",
       " 407: [407, 384, 104, 240, 728, 111, 505, 683, 268, 460],\n",
       " 408: [408, 200, 676, 303, 405, 181, 89, 677, 624, 109],\n",
       " 409: [409, 495, 492, 752, 127, 35, 491, 434, 490, 444],\n",
       " 410: [410, 436, 269, 418, 422, 423, 141, 183, 425, 573],\n",
       " 411: [411, 449, 404, 459, 212, 406, 427, 457, 63, 33],\n",
       " 412: [412, 456, 294, 455, 55, 448, 272, 175, 712, 63],\n",
       " 413: [413, 454, 46, 763, 0, 493, 630, 715, 77, 428],\n",
       " 414: [414, 126, 469, 428, 712, 76, 77, 304, 455, 419],\n",
       " 415: [415, 406, 449, 480, 404, 445, 457, 443, 63, 420],\n",
       " 416: [416, 238, 693, 611, 468, 110, 50, 357, 657, 236],\n",
       " 417: [417, 750, 364, 127, 495, 485, 428, 654, 35, 25],\n",
       " 418: [418, 422, 423, 573, 421, 425, 183, 141, 135, 570],\n",
       " 419: [419, 469, 455, 712, 304, 763, 590, 701, 484, 237],\n",
       " 420: [420, 296, 199, 431, 437, 415, 740, 462, 361, 447],\n",
       " 421: [421, 422, 425, 135, 423, 418, 724, 430, 570, 183],\n",
       " 422: [422, 423, 425, 418, 421, 430, 570, 141, 135, 573],\n",
       " 423: [423, 422, 418, 430, 421, 570, 141, 573, 425, 135],\n",
       " 424: [424, 459, 437, 438, 449, 249, 504, 761, 63, 433],\n",
       " 425: [425, 422, 430, 421, 135, 271, 423, 481, 697, 418],\n",
       " 426: [426, 422, 430, 421, 425, 423, 570, 471, 135, 183],\n",
       " 427: [427, 457, 459, 449, 465, 233, 411, 448, 406, 63],\n",
       " 428: [428, 495, 493, 364, 127, 494, 417, 491, 750, 450],\n",
       " 429: [429, 383, 373, 280, 157, 169, 108, 464, 491, 50],\n",
       " 430: [430, 425, 422, 423, 570, 271, 421, 246, 135, 418],\n",
       " 431: [431, 420, 61, 715, 131, 185, 470, 435, 752, 617],\n",
       " 432: [432, 233, 433, 112, 761, 100, 457, 459, 98, 465],\n",
       " 433: [433, 457, 432, 459, 465, 437, 449, 761, 448, 427],\n",
       " 434: [434, 409, 127, 303, 8, 492, 595, 428, 417, 450],\n",
       " 435: [435, 465, 433, 427, 480, 457, 432, 27, 340, 715],\n",
       " 436: [436, 422, 418, 425, 271, 246, 423, 270, 183, 421],\n",
       " 437: [437, 296, 761, 433, 235, 482, 223, 63, 459, 26],\n",
       " 438: [438, 504, 249, 424, 184, 462, 223, 13, 437, 20],\n",
       " 439: [439, 492, 35, 689, 397, 478, 597, 485, 750, 596],\n",
       " 440: [440, 406, 489, 0, 454, 449, 448, 763, 467, 124],\n",
       " 441: [441, 506, 90, 592, 203, 687, 88, 87, 282, 110],\n",
       " 442: [442, 422, 418, 425, 436, 423, 410, 481, 269, 183],\n",
       " 443: [443, 415, 447, 457, 445, 434, 449, 47, 406, 440],\n",
       " 444: [444, 490, 197, 174, 738, 236, 54, 255, 99, 366],\n",
       " 445: [445, 415, 489, 715, 372, 443, 457, 465, 448, 406],\n",
       " 446: [446, 548, 491, 597, 428, 493, 254, 211, 536, 201],\n",
       " 447: [447, 42, 443, 488, 89, 415, 31, 420, 64, 303],\n",
       " 448: [448, 459, 404, 449, 406, 519, 462, 237, 427, 33],\n",
       " 449: [449, 404, 406, 448, 459, 33, 457, 411, 415, 233],\n",
       " 450: [450, 428, 494, 254, 495, 8, 323, 534, 497, 451],\n",
       " 451: [451, 715, 492, 8, 450, 96, 495, 323, 125, 428],\n",
       " 452: [452, 448, 177, 459, 685, 437, 424, 469, 304, 67],\n",
       " 453: [453, 133, 232, 349, 235, 98, 134, 128, 302, 456],\n",
       " 454: [454, 413, 571, 448, 542, 533, 305, 617, 67, 37],\n",
       " 455: [455, 419, 175, 763, 469, 304, 254, 237, 76, 126],\n",
       " 456: [456, 489, 1, 65, 480, 209, 260, 400, 412, 233],\n",
       " 457: [457, 433, 124, 427, 465, 449, 406, 233, 262, 432],\n",
       " 458: [458, 459, 318, 719, 433, 414, 10, 557, 461, 343],\n",
       " 459: [459, 448, 449, 427, 761, 406, 33, 404, 433, 262],\n",
       " 460: [460, 575, 746, 683, 505, 471, 271, 246, 728, 240],\n",
       " 461: [461, 10, 538, 112, 18, 33, 20, 599, 586, 184],\n",
       " 462: [462, 459, 448, 361, 461, 532, 199, 437, 571, 404],\n",
       " 463: [463, 542, 150, 194, 652, 34, 265, 479, 22, 620],\n",
       " 464: [464, 693, 373, 738, 87, 88, 530, 157, 197, 721],\n",
       " 465: [465, 457, 124, 433, 427, 435, 406, 233, 432, 517],\n",
       " 466: [466, 421, 422, 418, 423, 180, 436, 141, 487, 442],\n",
       " 467: [467, 457, 651, 304, 187, 489, 91, 406, 440, 455],\n",
       " 468: [468, 720, 595, 657, 716, 581, 472, 90, 591, 750],\n",
       " 469: [469, 419, 304, 712, 126, 701, 455, 590, 484, 237],\n",
       " 470: [470, 61, 550, 687, 146, 591, 169, 111, 378, 145],\n",
       " 471: [471, 746, 543, 246, 722, 724, 570, 728, 422, 505],\n",
       " 472: [472, 565, 750, 174, 173, 781, 245, 332, 490, 721],\n",
       " 473: [473, 551, 750, 485, 337, 478, 730, 491, 225, 127],\n",
       " 474: [474, 734, 554, 729, 577, 486, 733, 578, 727, 531],\n",
       " 475: [475, 555, 700, 477, 594, 602, 747, 606, 293, 279],\n",
       " 476: [476, 428, 630, 486, 439, 266, 454, 549, 596, 478],\n",
       " 477: [477, 554, 747, 606, 581, 578, 659, 596, 293, 663],\n",
       " 478: [478, 127, 225, 312, 526, 201, 491, 582, 716, 315],\n",
       " 479: [479, 157, 373, 720, 88, 40, 87, 43, 591, 687],\n",
       " 480: [480, 719, 415, 175, 65, 456, 455, 209, 557, 304],\n",
       " 481: [481, 425, 422, 697, 270, 421, 119, 430, 418, 183],\n",
       " 482: [482, 437, 535, 448, 296, 465, 227, 459, 147, 406],\n",
       " 483: [483, 420, 369, 361, 272, 387, 532, 677, 424, 159],\n",
       " 484: [484, 419, 469, 237, 175, 455, 126, 480, 712, 557],\n",
       " 485: [485, 750, 689, 472, 589, 730, 149, 591, 35, 716],\n",
       " 486: [486, 642, 279, 304, 646, 668, 602, 733, 576, 577],\n",
       " 487: [487, 421, 423, 418, 180, 422, 724, 573, 570, 135],\n",
       " 488: [488, 89, 138, 200, 239, 447, 82, 218, 128, 217],\n",
       " 489: [489, 364, 495, 456, 428, 646, 231, 417, 491, 85],\n",
       " 490: [490, 738, 197, 54, 99, 735, 667, 174, 371, 530],\n",
       " 491: [491, 127, 364, 490, 444, 689, 170, 60, 781, 756],\n",
       " 492: [492, 752, 495, 409, 127, 8, 35, 494, 364, 716],\n",
       " 493: [493, 428, 489, 364, 446, 413, 77, 450, 266, 495],\n",
       " 494: [494, 495, 765, 317, 312, 323, 716, 225, 121, 127],\n",
       " 495: [495, 492, 752, 494, 409, 127, 428, 225, 478, 489],\n",
       " 496: [496, 534, 497, 590, 646, 9, 627, 473, 529, 739],\n",
       " 497: [497, 534, 496, 225, 597, 336, 317, 127, 312, 333],\n",
       " 498: [498, 197, 193, 107, 345, 661, 285, 189, 721, 3],\n",
       " 499: [499, 538, 537, 751, 338, 274, 555, 28, 636, 532],\n",
       " 500: [500, 775, 173, 68, 472, 170, 121, 750, 485, 221],\n",
       " 501: [501, 636, 553, 540, 204, 112, 779, 547, 10, 585],\n",
       " 502: [502, 181, 776, 766, 131, 138, 168, 351, 172, 109],\n",
       " 503: [503, 141, 418, 423, 180, 183, 422, 573, 421, 487],\n",
       " 504: [504, 438, 13, 546, 249, 538, 184, 660, 459, 745],\n",
       " 505: [505, 728, 683, 111, 240, 575, 722, 268, 246, 746],\n",
       " 506: [506, 11, 730, 282, 738, 366, 530, 735, 592, 88],\n",
       " 507: [507, 588, 11, 730, 684, 273, 556, 203, 716, 332],\n",
       " 508: [508, 460, 607, 505, 746, 362, 575, 683, 666, 271],\n",
       " 509: [509, 522, 656, 646, 586, 584, 519, 627, 18, 186],\n",
       " 510: [510, 322, 289, 9, 775, 1, 315, 96, 48, 173],\n",
       " 511: [511, 679, 18, 637, 227, 524, 678, 292, 93, 627],\n",
       " 512: [512, 514, 184, 461, 185, 561, 199, 33, 233, 719],\n",
       " 513: [513, 325, 121, 634, 667, 587, 592, 611, 574, 769],\n",
       " 514: [514, 100, 343, 761, 235, 561, 512, 33, 63, 296],\n",
       " 515: [515, 197, 693, 99, 738, 3, 193, 253, 107, 371],\n",
       " 516: [516, 28, 621, 256, 186, 237, 298, 620, 120, 540],\n",
       " 517: [517, 198, 223, 227, 519, 449, 532, 538, 233, 63],\n",
       " 518: [518, 185, 227, 511, 118, 662, 10, 116, 538, 18],\n",
       " 519: [519, 538, 566, 305, 449, 517, 646, 151, 112, 660],\n",
       " 520: [520, 640, 17, 517, 539, 195, 685, 63, 232, 26],\n",
       " 521: [521, 1, 712, 469, 630, 304, 234, 419, 230, 322],\n",
       " 522: [522, 509, 66, 646, 656, 773, 315, 627, 289, 583],\n",
       " 523: [523, 460, 82, 575, 567, 421, 724, 183, 487, 218],\n",
       " 524: [524, 243, 511, 675, 47, 91, 230, 609, 77, 517],\n",
       " 525: [525, 255, 252, 236, 686, 756, 101, 170, 332, 721],\n",
       " 526: [526, 588, 472, 3, 768, 667, 738, 11, 691, 765],\n",
       " 527: [527, 580, 100, 112, 235, 260, 233, 63, 20, 259],\n",
       " 528: [528, 90, 565, 48, 588, 472, 506, 332, 136, 173],\n",
       " 529: [529, 646, 9, 120, 620, 772, 10, 496, 289, 569],\n",
       " 530: [530, 738, 189, 735, 366, 11, 107, 174, 661, 721],\n",
       " 531: [531, 583, 577, 604, 397, 337, 396, 588, 398, 554],\n",
       " 532: [532, 224, 223, 147, 538, 248, 517, 267, 537, 744],\n",
       " 533: [533, 548, 226, 649, 542, 331, 201, 763, 774, 215],\n",
       " 534: [534, 497, 633, 582, 496, 589, 48, 716, 472, 121],\n",
       " 535: [535, 637, 482, 98, 619, 185, 134, 718, 227, 10],\n",
       " 536: [536, 613, 207, 710, 373, 781, 264, 201, 216, 377],\n",
       " 537: [537, 532, 267, 744, 499, 538, 540, 212, 223, 546],\n",
       " 538: [538, 519, 544, 461, 10, 33, 623, 628, 636, 540],\n",
       " 539: [539, 10, 772, 304, 586, 520, 112, 557, 469, 538],\n",
       " 540: [540, 184, 13, 538, 112, 636, 120, 10, 642, 774],\n",
       " 541: [541, 265, 544, 300, 181, 700, 704, 717, 676, 499],\n",
       " 542: [542, 190, 25, 654, 247, 150, 472, 289, 652, 579],\n",
       " 543: [543, 471, 246, 746, 722, 607, 505, 697, 570, 425],\n",
       " 544: [544, 538, 623, 646, 289, 9, 529, 519, 627, 643],\n",
       " 545: [545, 538, 628, 307, 537, 267, 499, 660, 540, 655],\n",
       " 546: [546, 601, 504, 184, 540, 13, 537, 639, 237, 224],\n",
       " 547: [547, 204, 501, 540, 13, 542, 469, 74, 289, 267],\n",
       " 548: [548, 765, 121, 225, 90, 768, 22, 652, 392, 327],\n",
       " 549: [549, 642, 646, 393, 773, 478, 551, 602, 582, 565],\n",
       " 550: [550, 591, 325, 687, 669, 665, 556, 145, 282, 366],\n",
       " 551: [551, 592, 582, 730, 317, 393, 506, 121, 396, 225],\n",
       " 552: [552, 315, 9, 221, 500, 684, 775, 634, 231, 322],\n",
       " 553: [553, 204, 501, 10, 184, 299, 461, 540, 718, 33],\n",
       " 554: [554, 578, 508, 271, 624, 658, 505, 683, 460, 659],\n",
       " 555: [555, 293, 606, 602, 664, 622, 475, 576, 747, 477],\n",
       " 556: [556, 11, 58, 113, 325, 174, 730, 588, 507, 667],\n",
       " 557: [557, 209, 349, 175, 10, 400, 1, 125, 620, 719],\n",
       " 558: [558, 333, 96, 355, 136, 40, 190, 633, 589, 323],\n",
       " 559: [559, 82, 564, 731, 147, 217, 180, 705, 742, 562],\n",
       " 560: [560, 400, 10, 719, 637, 557, 620, 643, 260, 359],\n",
       " 561: [561, 343, 761, 354, 348, 340, 98, 235, 220, 100],\n",
       " 562: [562, 185, 65, 559, 98, 213, 139, 109, 558, 400],\n",
       " 563: [563, 588, 684, 592, 245, 11, 582, 730, 58, 221],\n",
       " 564: [564, 147, 559, 569, 606, 742, 82, 676, 532, 303],\n",
       " 565: [565, 472, 174, 121, 170, 245, 366, 574, 173, 221],\n",
       " 566: [566, 519, 538, 517, 569, 229, 233, 745, 151, 540],\n",
       " 567: [567, 505, 607, 575, 460, 746, 683, 570, 271, 246],\n",
       " 568: [568, 199, 609, 303, 363, 569, 89, 564, 462, 484],\n",
       " 569: [569, 159, 529, 745, 532, 564, 576, 544, 647, 602],\n",
       " 570: [570, 422, 746, 423, 471, 430, 425, 421, 418, 246],\n",
       " 571: [571, 647, 454, 262, 532, 67, 462, 248, 529, 566],\n",
       " 572: [572, 574, 366, 105, 282, 165, 99, 145, 174, 721],\n",
       " 573: [573, 418, 423, 422, 141, 421, 570, 119, 135, 746],\n",
       " 574: [574, 145, 193, 99, 735, 253, 667, 174, 738, 54],\n",
       " 575: [575, 246, 505, 728, 683, 460, 722, 746, 425, 607],\n",
       " 576: [576, 653, 602, 586, 648, 28, 19, 626, 584, 646],\n",
       " 577: [577, 597, 595, 396, 526, 398, 588, 581, 225, 582],\n",
       " 578: [578, 271, 554, 697, 290, 746, 666, 270, 119, 246],\n",
       " 579: [579, 114, 507, 582, 588, 684, 563, 604, 556, 589],\n",
       " 580: [580, 13, 63, 527, 112, 599, 20, 258, 233, 235],\n",
       " 581: [581, 657, 587, 588, 738, 11, 378, 693, 595, 39],\n",
       " 582: [582, 592, 121, 588, 245, 684, 58, 730, 589, 667],\n",
       " 583: [583, 531, 577, 604, 602, 396, 307, 653, 627, 576],\n",
       " 584: [584, 653, 648, 646, 576, 19, 627, 586, 529, 602],\n",
       " 585: [585, 13, 501, 680, 540, 462, 771, 461, 571, 580],\n",
       " 586: [586, 653, 599, 576, 648, 130, 10, 13, 18, 112],\n",
       " 587: [587, 738, 667, 11, 99, 735, 693, 530, 490, 107],\n",
       " 588: [588, 11, 592, 730, 738, 657, 587, 58, 667, 684],\n",
       " 589: [589, 582, 588, 730, 592, 565, 506, 90, 48, 472],\n",
       " 590: [590, 689, 485, 684, 500, 582, 775, 534, 68, 646],\n",
       " 591: [591, 325, 657, 730, 11, 588, 587, 738, 472, 581],\n",
       " 592: [592, 730, 587, 11, 588, 582, 58, 738, 667, 657],\n",
       " 593: [593, 554, 477, 606, 748, 604, 605, 307, 508, 284],\n",
       " 594: [594, 475, 602, 653, 700, 28, 541, 437, 555, 601],\n",
       " 595: [595, 581, 597, 396, 657, 588, 587, 592, 577, 716],\n",
       " 596: [596, 747, 35, 595, 597, 591, 152, 581, 485, 750],\n",
       " 597: [597, 595, 577, 398, 548, 396, 201, 588, 225, 581],\n",
       " 598: [598, 396, 668, 602, 610, 289, 595, 314, 576, 397],\n",
       " 599: [599, 586, 112, 20, 10, 772, 151, 580, 576, 660],\n",
       " 600: [600, 510, 637, 194, 529, 579, 70, 48, 678, 556],\n",
       " 601: [601, 546, 13, 81, 256, 237, 540, 580, 28, 175],\n",
       " 602: [602, 653, 576, 604, 668, 28, 626, 293, 646, 19],\n",
       " 603: [603, 16, 581, 554, 115, 704, 694, 595, 196, 665],\n",
       " 604: [604, 589, 579, 588, 684, 582, 602, 398, 396, 337],\n",
       " 605: [605, 694, 591, 716, 581, 396, 150, 312, 182, 551],\n",
       " 606: [606, 747, 555, 602, 554, 293, 477, 624, 19, 508],\n",
       " 607: [607, 746, 246, 575, 570, 543, 697, 471, 423, 505],\n",
       " 608: [608, 547, 148, 320, 37, 319, 21, 192, 311, 614],\n",
       " 609: [609, 511, 524, 517, 227, 568, 42, 243, 199, 675],\n",
       " 610: [610, 757, 597, 12, 646, 643, 590, 598, 548, 322],\n",
       " 611: [611, 253, 99, 107, 738, 693, 197, 3, 661, 587],\n",
       " 612: [612, 21, 365, 284, 699, 79, 291, 614, 43, 606],\n",
       " 613: [613, 153, 169, 40, 716, 377, 710, 173, 373, 157],\n",
       " 614: [614, 283, 620, 751, 621, 538, 400, 10, 175, 260],\n",
       " 615: [615, 668, 120, 19, 569, 627, 772, 646, 586, 576],\n",
       " 616: [616, 745, 685, 258, 235, 20, 761, 223, 586, 580],\n",
       " 617: [617, 636, 454, 605, 485, 529, 533, 727, 715, 150],\n",
       " 618: [618, 614, 538, 469, 546, 459, 621, 566, 544, 519],\n",
       " 619: [619, 134, 98, 535, 302, 133, 511, 562, 251, 235],\n",
       " 620: [620, 621, 529, 538, 623, 557, 400, 151, 319, 140],\n",
       " 621: [621, 620, 646, 623, 283, 314, 642, 602, 151, 653],\n",
       " 622: [622, 555, 664, 293, 606, 499, 602, 625, 740, 477],\n",
       " 623: [623, 28, 621, 538, 544, 586, 620, 602, 10, 301],\n",
       " 624: [624, 505, 683, 728, 240, 111, 246, 567, 271, 554],\n",
       " 625: [625, 623, 544, 606, 718, 4, 28, 538, 555, 621],\n",
       " 626: [626, 576, 602, 28, 653, 660, 586, 648, 13, 114],\n",
       " 627: [627, 646, 9, 551, 648, 510, 582, 589, 584, 496],\n",
       " 628: [628, 538, 267, 636, 529, 542, 204, 67, 10, 532],\n",
       " 629: [629, 338, 130, 602, 620, 623, 28, 751, 614, 329],\n",
       " 630: [630, 1, 9, 0, 120, 68, 763, 521, 646, 304],\n",
       " 631: [631, 550, 591, 303, 470, 665, 12, 523, 568, 390],\n",
       " 632: [632, 5, 288, 579, 194, 775, 247, 209, 136, 394],\n",
       " 633: [633, 221, 652, 472, 22, 341, 394, 173, 565, 332],\n",
       " 634: [634, 513, 684, 775, 121, 510, 604, 588, 582, 730],\n",
       " 635: [635, 19, 584, 267, 656, 576, 644, 646, 734, 496],\n",
       " 636: [636, 289, 646, 10, 538, 643, 540, 542, 529, 628],\n",
       " 637: [637, 9, 10, 1, 511, 510, 643, 18, 646, 289],\n",
       " 638: [638, 569, 748, 733, 694, 647, 248, 24, 773, 577],\n",
       " 639: [639, 461, 10, 91, 237, 763, 538, 184, 13, 540],\n",
       " 640: [640, 296, 520, 761, 561, 343, 213, 63, 185, 354],\n",
       " 641: [641, 63, 437, 520, 233, 411, 761, 17, 223, 685],\n",
       " 642: [642, 646, 314, 604, 403, 549, 602, 582, 315, 694],\n",
       " 643: [643, 10, 289, 646, 9, 637, 636, 1, 610, 234],\n",
       " 644: [644, 495, 642, 733, 398, 646, 668, 753, 486, 584],\n",
       " 645: [645, 222, 11, 205, 332, 174, 574, 255, 563, 197],\n",
       " 646: [646, 315, 9, 1, 642, 289, 627, 582, 590, 579],\n",
       " 647: [647, 571, 529, 267, 496, 120, 569, 67, 532, 540],\n",
       " 648: [648, 653, 576, 586, 584, 627, 646, 130, 18, 602],\n",
       " 649: [649, 565, 472, 215, 654, 25, 633, 716, 332, 507],\n",
       " 650: [650, 1, 289, 542, 632, 689, 9, 529, 25, 654],\n",
       " 651: [651, 753, 27, 467, 262, 348, 219, 163, 125, 175],\n",
       " 652: [652, 22, 633, 472, 565, 392, 90, 765, 750, 87],\n",
       " 653: [653, 576, 648, 586, 28, 602, 584, 19, 130, 4],\n",
       " 654: [654, 25, 472, 548, 565, 173, 127, 652, 331, 90],\n",
       " 655: [655, 538, 628, 309, 499, 307, 636, 650, 615, 733],\n",
       " 656: [656, 522, 509, 646, 599, 19, 773, 519, 576, 18],\n",
       " 657: [657, 693, 738, 587, 11, 193, 345, 667, 285, 735],\n",
       " 658: [658, 505, 683, 728, 240, 575, 246, 722, 268, 111],\n",
       " 659: [659, 554, 271, 578, 658, 290, 697, 666, 728, 240],\n",
       " 660: [660, 13, 576, 599, 626, 586, 664, 745, 519, 646],\n",
       " 661: [661, 735, 197, 11, 738, 189, 107, 366, 530, 667],\n",
       " 662: [662, 18, 511, 702, 227, 461, 233, 10, 184, 518],\n",
       " 663: [663, 275, 554, 659, 672, 271, 240, 505, 746, 508],\n",
       " 664: [664, 555, 660, 293, 241, 576, 622, 745, 602, 583],\n",
       " 665: [665, 693, 389, 444, 203, 735, 738, 464, 530, 383],\n",
       " 666: [666, 119, 746, 418, 271, 423, 697, 246, 570, 422],\n",
       " 667: [667, 99, 738, 587, 197, 735, 189, 11, 193, 661],\n",
       " 668: [668, 602, 398, 646, 582, 579, 604, 314, 642, 14],\n",
       " 669: [669, 661, 145, 687, 380, 574, 203, 325, 11, 378],\n",
       " 670: [670, 667, 197, 693, 99, 108, 661, 285, 735, 738],\n",
       " 671: [671, 546, 614, 618, 459, 601, 80, 304, 475, 198],\n",
       " 672: [672, 663, 338, 751, 301, 623, 745, 28, 532, 555],\n",
       " 673: [673, 325, 253, 556, 687, 624, 255, 728, 587, 581],\n",
       " 674: [674, 478, 396, 577, 551, 513, 582, 121, 592, 595],\n",
       " 675: [675, 524, 404, 33, 243, 199, 609, 95, 449, 343],\n",
       " 676: [676, 200, 408, 243, 677, 292, 564, 89, 66, 522],\n",
       " 677: [677, 407, 505, 111, 240, 575, 384, 460, 61, 268],\n",
       " 678: [678, 292, 9, 551, 170, 332, 556, 114, 48, 510],\n",
       " 679: [679, 511, 292, 609, 57, 227, 678, 675, 118, 18],\n",
       " 680: [680, 19, 653, 602, 4, 529, 576, 28, 646, 307],\n",
       " 681: [681, 733, 519, 694, 642, 544, 2, 646, 23, 627],\n",
       " 682: [682, 473, 597, 760, 312, 201, 551, 34, 398, 215],\n",
       " 683: [683, 728, 505, 246, 575, 722, 111, 460, 471, 240],\n",
       " 684: [684, 730, 245, 11, 588, 58, 174, 735, 121, 472],\n",
       " 685: [685, 63, 235, 616, 233, 586, 761, 561, 580, 112],\n",
       " 686: [686, 145, 101, 721, 236, 174, 574, 197, 255, 203],\n",
       " 687: [687, 88, 87, 693, 203, 389, 721, 145, 378, 574],\n",
       " 688: [688, 530, 285, 99, 721, 738, 145, 189, 107, 222],\n",
       " 689: [689, 472, 485, 127, 750, 36, 684, 589, 491, 149],\n",
       " 690: [690, 531, 704, 477, 554, 707, 606, 602, 293, 581],\n",
       " 691: [691, 738, 735, 11, 530, 99, 189, 197, 667, 366],\n",
       " 692: [692, 605, 529, 314, 772, 96, 694, 621, 311, 151],\n",
       " 693: [693, 738, 193, 667, 107, 587, 3, 661, 99, 490],\n",
       " 694: [694, 605, 642, 14, 396, 201, 581, 331, 312, 278],\n",
       " 695: [695, 528, 716, 768, 136, 215, 589, 588, 604, 190],\n",
       " 696: [696, 609, 619, 511, 234, 517, 480, 443, 42, 102],\n",
       " 697: [697, 246, 270, 425, 119, 271, 422, 471, 135, 575],\n",
       " 698: [698, 532, 517, 420, 147, 347, 372, 223, 227, 46],\n",
       " 699: [699, 21, 700, 707, 365, 369, 181, 339, 628, 603],\n",
       " 700: [700, 475, 776, 717, 751, 181, 541, 555, 698, 707],\n",
       " 701: [701, 712, 469, 419, 455, 304, 86, 76, 237, 261],\n",
       " 702: [702, 662, 262, 233, 18, 46, 33, 227, 698, 296],\n",
       " 703: [703, 241, 276, 45, 569, 664, 747, 475, 154, 576],\n",
       " 704: [704, 115, 717, 603, 554, 21, 720, 303, 613, 541],\n",
       " 705: [705, 742, 436, 180, 418, 82, 487, 423, 422, 421],\n",
       " 706: [706, 721, 380, 285, 366, 189, 661, 197, 691, 58],\n",
       " 707: [707, 776, 181, 365, 192, 43, 70, 109, 700, 699],\n",
       " 708: [708, 643, 637, 401, 719, 147, 10, 646, 1, 480],\n",
       " 709: [709, 171, 741, 187, 53, 243, 77, 413, 195, 181],\n",
       " 710: [710, 377, 373, 371, 108, 515, 197, 781, 464, 490],\n",
       " 711: [711, 381, 700, 636, 148, 184, 387, 501, 779, 319],\n",
       " 712: [712, 469, 419, 701, 304, 521, 414, 590, 455, 261],\n",
       " 713: [713, 2, 533, 636, 298, 660, 602, 664, 45, 368],\n",
       " 714: [714, 592, 652, 22, 730, 394, 750, 36, 221, 582],\n",
       " 715: [715, 451, 364, 35, 428, 489, 492, 445, 478, 454],\n",
       " 716: [716, 490, 58, 588, 464, 173, 472, 657, 738, 373],\n",
       " 717: [717, 0, 335, 2, 544, 307, 25, 654, 704, 267],\n",
       " 718: [718, 10, 33, 557, 98, 185, 461, 529, 184, 540],\n",
       " 719: [719, 185, 480, 349, 400, 557, 30, 637, 401, 10],\n",
       " 720: [720, 58, 657, 588, 721, 345, 170, 332, 87, 101],\n",
       " 721: [721, 530, 222, 189, 366, 285, 738, 688, 661, 197],\n",
       " 722: [722, 471, 505, 724, 683, 246, 111, 575, 728, 543],\n",
       " 723: [723, 731, 73, 405, 89, 481, 82, 410, 180, 218],\n",
       " 724: [724, 471, 722, 421, 183, 423, 422, 425, 246, 570],\n",
       " 725: [725, 520, 726, 640, 437, 296, 535, 482, 641, 17],\n",
       " 726: [726, 33, 249, 184, 17, 296, 360, 702, 161, 512],\n",
       " 727: [727, 730, 282, 589, 716, 165, 472, 90, 149, 591],\n",
       " 728: [728, 683, 505, 246, 240, 575, 111, 471, 722, 268],\n",
       " 729: [729, 738, 693, 99, 39, 3, 530, 11, 691, 587],\n",
       " 730: [730, 11, 174, 738, 735, 170, 58, 530, 587, 592],\n",
       " 731: [731, 183, 418, 141, 573, 421, 422, 180, 82, 724],\n",
       " 732: [732, 572, 378, 145, 581, 657, 574, 366, 146, 282],\n",
       " 733: [733, 684, 577, 337, 588, 582, 642, 730, 604, 551],\n",
       " 734: [734, 474, 551, 554, 733, 12, 577, 549, 24, 694],\n",
       " 735: [735, 738, 11, 197, 530, 661, 667, 366, 189, 174],\n",
       " 736: [736, 739, 96, 419, 455, 355, 125, 314, 547, 334],\n",
       " 737: [737, 271, 270, 425, 246, 422, 746, 418, 471, 423],\n",
       " 738: [738, 530, 11, 735, 99, 667, 693, 587, 189, 107],\n",
       " 739: [739, 646, 322, 510, 231, 355, 496, 120, 9, 96],\n",
       " 740: [740, 532, 42, 223, 420, 517, 449, 248, 199, 250],\n",
       " 741: [741, 77, 649, 709, 85, 552, 0, 485, 727, 9],\n",
       " 742: [742, 607, 418, 573, 423, 180, 82, 508, 575, 436],\n",
       " 743: [743, 734, 474, 303, 603, 605, 727, 554, 470, 729],\n",
       " 744: [744, 532, 537, 540, 267, 751, 459, 745, 462, 647],\n",
       " 745: [745, 616, 599, 241, 586, 13, 660, 569, 20, 576],\n",
       " 746: [746, 246, 471, 570, 607, 271, 666, 460, 505, 423],\n",
       " 747: [747, 606, 596, 477, 554, 555, 732, 508, 475, 663],\n",
       " 748: [748, 361, 727, 248, 638, 593, 664, 532, 307, 647],\n",
       " 749: [749, 460, 362, 270, 271, 481, 430, 570, 425, 746],\n",
       " 750: [750, 472, 490, 565, 730, 174, 592, 245, 121, 170],\n",
       " 751: [751, 338, 499, 13, 614, 224, 744, 580, 301, 140],\n",
       " 752: [752, 492, 495, 781, 490, 498, 127, 472, 87, 88],\n",
       " 753: [753, 651, 27, 763, 644, 459, 321, 448, 455, 237],\n",
       " 754: [754, 394, 203, 769, 738, 687, 592, 472, 490, 48],\n",
       " 755: [755, 260, 125, 237, 321, 400, 304, 175, 353, 620],\n",
       " 756: [756, 236, 255, 58, 253, 170, 113, 174, 357, 345],\n",
       " 757: [757, 610, 548, 314, 254, 674, 510, 96, 597, 478],\n",
       " 758: [758, 349, 759, 155, 302, 134, 125, 128, 321, 132],\n",
       " 759: [759, 349, 400, 209, 1, 175, 96, 128, 65, 401],\n",
       " 760: [760, 317, 473, 551, 312, 529, 668, 716, 577, 281],\n",
       " 761: [761, 343, 561, 348, 63, 220, 233, 400, 235, 340],\n",
       " 762: [762, 401, 70, 109, 335, 410, 218, 180, 742, 48],\n",
       " 763: [763, 419, 0, 455, 304, 1, 204, 305, 469, 533],\n",
       " 764: [764, 199, 235, 512, 296, 49, 465, 134, 233, 482],\n",
       " 765: [765, 121, 781, 225, 173, 189, 174, 472, 530, 548],\n",
       " 766: [766, 719, 776, 291, 347, 181, 172, 185, 56, 480],\n",
       " 767: [767, 136, 1, 775, 322, 349, 96, 394, 247, 528],\n",
       " 768: [768, 691, 99, 738, 667, 357, 121, 332, 173, 58],\n",
       " 769: [769, 99, 490, 781, 222, 738, 285, 197, 530, 667],\n",
       " 770: [770, 417, 723, 428, 495, 32, 434, 552, 771, 741],\n",
       " 771: [771, 774, 0, 25, 519, 127, 646, 266, 68, 417],\n",
       " 772: [772, 599, 538, 529, 539, 10, 151, 283, 621, 348],\n",
       " 773: [773, 114, 549, 522, 642, 279, 531, 674, 398, 627],\n",
       " 774: [774, 331, 201, 207, 226, 68, 215, 540, 533, 25],\n",
       " 775: [775, 121, 394, 245, 173, 769, 58, 221, 684, 36],\n",
       " 776: [776, 181, 138, 109, 390, 766, 700, 200, 172, 291],\n",
       " 777: [777, 68, 548, 652, 22, 765, 25, 419, 654, 231],\n",
       " 778: [778, 667, 142, 58, 99, 781, 706, 121, 189, 768],\n",
       " 779: [779, 320, 501, 26, 55, 10, 112, 184, 547, 514],\n",
       " 780: [780, 335, 542, 37, 472, 287, 565, 654, 650, 25],\n",
       " 781: [781, 189, 197, 721, 769, 490, 530, 661, 667, 738]}"
      ]
     },
     "execution_count": 32,
     "metadata": {},
     "output_type": "execute_result"
    }
   ],
   "source": [
    "similar_dict"
   ]
  },
  {
   "cell_type": "code",
   "execution_count": 11,
   "metadata": {},
   "outputs": [],
   "source": [
    "from new_model import PropagationModel,FittingModel\n",
    "import torch_utils as my_utils"
   ]
  },
  {
   "cell_type": "code",
   "execution_count": 12,
   "metadata": {},
   "outputs": [
    {
     "data": {
      "text/plain": [
       "<torch._C.Generator at 0x7fc2e0a03230>"
      ]
     },
     "execution_count": 12,
     "metadata": {},
     "output_type": "execute_result"
    }
   ],
   "source": [
    "dataset=\"Snopes\"\n",
    "fixed_length_left=30\n",
    "fixed_length_right=100\n",
    "log=\"logs/testget\"\n",
    "loss_type=\"cross_entropy\"\n",
    "batch_size=32\n",
    "num_folds=5\n",
    "use_claim_source=0\n",
    "use_article_source=1\n",
    "path=\"formatted_data/declare/\"\n",
    "hidden_size=300\n",
    "epochs=100\n",
    "num_att_heads_for_words=5\n",
    "num_att_heads_for_evds=2\n",
    "gnn_window_size=3\n",
    "lr=0.0001\n",
    "gnn_dropout=0.2\n",
    "seed=123456\n",
    "gsl_rate=0.6\n",
    "fixed_length_left_src_chars = 20\n",
    "fixed_length_right_src_chars = 20\n",
    "seed = 123456\n",
    "random.seed(seed)\n",
    "np.random.seed(seed)\n",
    "torch.manual_seed(seed)"
   ]
  },
  {
   "cell_type": "code",
   "execution_count": 13,
   "metadata": {},
   "outputs": [],
   "source": [
    "dataset=\"Snopes\"\n",
    "fixed_length_left=30\n",
    "fixed_length_right=100\n",
    "log=\"logs/get\"\n",
    "batch_size=32\n",
    "gnn_window_size=3\n",
    "fold_idx=0\n",
    "if not os.path.exists(log):\n",
    "      os.mkdir(log)\n",
    "secondary_log_folder = os.path.join(log, \"log_results_%s\" % (dataset))\n",
    "if not os.path.exists(secondary_log_folder):\n",
    "  os.mkdir(secondary_log_folder)\n",
    "secondary_log_folder = secondary_log_folder\n",
    "root = os.path.join(os.path.join(path,dataset), \"mapped_data\")\n",
    "tx = time.time()\n",
    "kfold_dev_results, kfold_test_results = [], []\n",
    "list_metrics = KeyWordSettings.CLS_METRICS\n",
    "outfolder_per_fold = os.path.join(secondary_log_folder, \"Fold_%s\" % fold_idx)\n",
    "if not os.path.exists(outfolder_per_fold):\n",
    "    os.mkdir(outfolder_per_fold)\n",
    "logfolder_result_per_fold = os.path.join(outfolder_per_fold, \"result_%s.txt\" % int(seed))"
   ]
  },
  {
   "cell_type": "code",
   "execution_count": 14,
   "metadata": {},
   "outputs": [],
   "source": [
    "preprocessor = mz.preprocessors.CharManPreprocessor(fixed_length_left = fixed_length_left,\n",
    "                                                    fixed_length_right = fixed_length_right,\n",
    "                                                    fixed_length_left_src = fixed_length_left_src_chars,\n",
    "                                                    fixed_length_right_src = fixed_length_right_src_chars)"
   ]
  },
  {
   "cell_type": "code",
   "execution_count": 15,
   "metadata": {},
   "outputs": [
    {
     "name": "stderr",
     "output_type": "stream",
     "text": [
      "Processing text_right with transform: 100%|██████████| 5412/5412 [00:00<00:00, 62122.53it/s]\n",
      "Processing text_right with transform: 100%|██████████| 5412/5412 [00:00<00:00, 681198.37it/s]\n",
      "Processing text_right with transform: 100%|██████████| 21074/21074 [00:00<00:00, 46091.28it/s]\n",
      "Processing text_right with transform: 100%|██████████| 21074/21074 [00:00<00:00, 703423.28it/s]\n",
      "Processing text_right with transform: 100%|██████████| 2756/2756 [00:00<00:00, 72046.51it/s]\n",
      "Processing text_right with transform: 100%|██████████| 2756/2756 [00:00<00:00, 647700.00it/s]\n"
     ]
    },
    {
     "name": "stdout",
     "output_type": "stream",
     "text": [
      "Min query length, 22 Min doc length 100\n",
      "Max query length, 28 Max doc length 100\n",
      "parsing data\n"
     ]
    },
    {
     "name": "stderr",
     "output_type": "stream",
     "text": [
      "Processing text_left with chain_transform of Tokenize => Lowercase => PuncRemoval: 100%|██████████| 3126/3126 [00:00<00:00, 11171.95it/s]\n",
      "Processing text_right with chain_transform of Tokenize => Lowercase => PuncRemoval: 100%|██████████| 21074/21074 [00:07<00:00, 2971.42it/s]\n",
      "Processing text_left with extend: 100%|██████████| 3126/3126 [00:00<00:00, 864753.61it/s]\n",
      "Processing text_right with extend: 100%|██████████| 21074/21074 [00:00<00:00, 576831.42it/s]\n",
      "Building Vocabulary from a datapack.: 100%|██████████| 2129566/2129566 [00:00<00:00, 3087876.52it/s]\n",
      "Processing text_right with extend: 100%|██████████| 3126/3126 [00:00<00:00, 908242.89it/s]\n",
      "Building Entities Vocabulary from a datapack.: 100%|██████████| 3126/3126 [00:00<00:00, 4196989.21it/s]\n",
      "Processing text_right with extend: 100%|██████████| 21074/21074 [00:00<00:00, 1018948.93it/s]\n",
      "Building Entities Vocabulary from a datapack.: 100%|██████████| 21074/21074 [00:00<00:00, 3798485.71it/s]\n",
      "Processing text_right with extend: 100%|██████████| 3126/3126 [00:00<00:00, 887283.91it/s]\n",
      "Processing text_right with extend: 100%|██████████| 21074/21074 [00:00<00:00, 538879.35it/s]\n",
      "Building Characters Vocabulary from a datapack.: 100%|██████████| 387165/387165 [00:00<00:00, 4677473.15it/s]\n",
      "Processing text_right with extend: 100%|██████████| 3126/3126 [00:00<00:00, 572950.28it/s]\n",
      "Processing text_right with extend: 100%|██████████| 3126/3126 [00:00<00:00, 632545.07it/s]\n",
      "Processing text_right with extend: 100%|██████████| 3126/3126 [00:00<00:00, 235960.74it/s]\n",
      "Processing text_right with extend: 100%|██████████| 21074/21074 [00:00<00:00, 715662.52it/s]\n",
      "Processing text_right with extend: 100%|██████████| 21074/21074 [00:00<00:00, 287608.64it/s]\n",
      "Processing text_right with extend: 100%|██████████| 21074/21074 [00:00<00:00, 176654.69it/s]\n",
      "Processing text_left with chain_transform of Tokenize => Lowercase => PuncRemoval: 100%|██████████| 3126/3126 [00:00<00:00, 11097.00it/s]\n",
      "Processing text_right with chain_transform of Tokenize => Lowercase => PuncRemoval: 100%|██████████| 21074/21074 [00:07<00:00, 2832.39it/s]\n",
      "Processing text_left with transform: 100%|██████████| 3126/3126 [00:00<00:00, 288695.49it/s]\n",
      "Processing text_right with transform: 100%|██████████| 21074/21074 [00:00<00:00, 50775.56it/s]\n",
      "Processing length_left with len: 100%|██████████| 3126/3126 [00:00<00:00, 1070842.40it/s]\n",
      "Processing length_right with len: 100%|██████████| 21074/21074 [00:00<00:00, 1128945.18it/s]\n",
      "Processing text_left with transform: 100%|██████████| 3126/3126 [00:00<00:00, 139285.84it/s]\n",
      "Processing text_right with transform: 100%|██████████| 21074/21074 [00:00<00:00, 63857.90it/s]\n",
      "Processing text_right with transform: 100%|██████████| 433/433 [00:00<00:00, 535890.71it/s]\n",
      "Processing text_right with transform: 100%|██████████| 433/433 [00:00<00:00, 368160.07it/s]\n",
      "Processing text_right with transform: 100%|██████████| 433/433 [00:00<00:00, 214040.50it/s]\n",
      "Processing text_right with transform: 100%|██████████| 2756/2756 [00:00<00:00, 542444.95it/s]\n",
      "Processing text_right with transform: 100%|██████████| 2756/2756 [00:00<00:00, 179802.49it/s]\n",
      "Processing text_right with transform: 100%|██████████| 2756/2756 [00:00<00:00, 170524.31it/s]\n",
      "Processing text_left with chain_transform of Tokenize => Lowercase => PuncRemoval: 100%|██████████| 433/433 [00:00<00:00, 11742.67it/s]\n",
      "Processing text_right with chain_transform of Tokenize => Lowercase => PuncRemoval: 100%|██████████| 2756/2756 [00:00<00:00, 3006.10it/s]\n",
      "Processing text_left with transform: 100%|██████████| 433/433 [00:00<00:00, 53359.20it/s]\n",
      "Processing text_right with transform: 100%|██████████| 2756/2756 [00:00<00:00, 43596.41it/s]\n",
      "Processing length_left with len: 100%|██████████| 433/433 [00:00<00:00, 708596.81it/s]\n",
      "Processing length_right with len: 100%|██████████| 2756/2756 [00:00<00:00, 1054699.07it/s]\n",
      "Processing text_left with transform: 100%|██████████| 433/433 [00:00<00:00, 171559.95it/s]\n",
      "Processing text_right with transform: 100%|██████████| 2756/2756 [00:00<00:00, 52610.63it/s]\n",
      "Processing text_right with transform: 100%|██████████| 782/782 [00:00<00:00, 440024.92it/s]\n",
      "Processing text_right with transform: 100%|██████████| 782/782 [00:00<00:00, 582790.64it/s]\n",
      "Processing text_right with transform: 100%|██████████| 782/782 [00:00<00:00, 207920.49it/s]\n",
      "Processing text_right with transform: 100%|██████████| 5412/5412 [00:00<00:00, 498016.09it/s]\n",
      "Processing text_right with transform: 100%|██████████| 5412/5412 [00:00<00:00, 194250.86it/s]\n",
      "Processing text_right with transform: 100%|██████████| 5412/5412 [00:00<00:00, 180749.23it/s]\n",
      "Processing text_left with chain_transform of Tokenize => Lowercase => PuncRemoval: 100%|██████████| 782/782 [00:00<00:00, 11714.84it/s]\n",
      "Processing text_right with chain_transform of Tokenize => Lowercase => PuncRemoval: 100%|██████████| 5412/5412 [00:01<00:00, 3041.71it/s]\n",
      "Processing text_left with transform: 100%|██████████| 782/782 [00:00<00:00, 192327.06it/s]\n",
      "Processing text_right with transform: 100%|██████████| 5412/5412 [00:00<00:00, 43745.06it/s]\n",
      "Processing length_left with len: 100%|██████████| 782/782 [00:00<00:00, 677534.75it/s]\n",
      "Processing length_right with len: 100%|██████████| 5412/5412 [00:00<00:00, 1118370.86it/s]\n",
      "Processing text_left with transform: 100%|██████████| 782/782 [00:00<00:00, 100126.56it/s]\n",
      "Processing text_right with transform: 100%|██████████| 5412/5412 [00:00<00:00, 29565.09it/s]\n"
     ]
    },
    {
     "name": "stdout",
     "output_type": "stream",
     "text": [
      "Converting DataFrame to Normal Dictionary of Data\n",
      "[NOTICE] MatchZoo use queryID and docID as index in dataframe left and right, therefore, iterrows will return index which is left_id or right_id\n"
     ]
    },
    {
     "name": "stderr",
     "output_type": "stream",
     "text": [
      "/Users/namle/Library/CloudStorage/GoogleDrive-hcmutepfl@gmail.com/My Drive/GET/interactions.py:15: RuntimeWarning: divide by zero encountered in power\n",
      "  d_inv_sqrt = np.power(rowsum, -0.5).flatten()\n"
     ]
    },
    {
     "name": "stdout",
     "output_type": "stream",
     "text": [
      "[NOTICE] MatchZoo use queryID and docID as index in dataframe left and right, therefore, iterrows will return index which is left_id or right_id\n",
      "Converting DataFrame to Normal Dictionary of Data\n",
      "[NOTICE] MatchZoo use queryID and docID as index in dataframe left and right, therefore, iterrows will return index which is left_id or right_id\n",
      "[NOTICE] MatchZoo use queryID and docID as index in dataframe left and right, therefore, iterrows will return index which is left_id or right_id\n",
      "Converting DataFrame to Normal Dictionary of Data\n",
      "[NOTICE] MatchZoo use queryID and docID as index in dataframe left and right, therefore, iterrows will return index which is left_id or right_id\n",
      "[NOTICE] MatchZoo use queryID and docID as index in dataframe left and right, therefore, iterrows will return index which is left_id or right_id\n",
      "done extracting\n",
      "Fitting Model\n",
      "Using: <new_model.Loss_func object at 0x7fc191bca370>\n"
     ]
    }
   ],
   "source": [
    "dataset=\"Snopes\"\n",
    "fixed_length_left=30\n",
    "fixed_length_right=100\n",
    "log=\"logs/get\"\n",
    "batch_size=32\n",
    "gnn_window_size=3\n",
    "fold_idx=0\n",
    "if not os.path.exists(log):\n",
    "      os.mkdir(log)\n",
    "secondary_log_folder = os.path.join(log, \"log_results_%s\" % (dataset))\n",
    "if not os.path.exists(secondary_log_folder):\n",
    "  os.mkdir(secondary_log_folder)\n",
    "secondary_log_folder = secondary_log_folder\n",
    "root = os.path.join(os.path.join(path,dataset), \"mapped_data\")\n",
    "tx = time.time()\n",
    "kfold_dev_results, kfold_test_results = [], []\n",
    "list_metrics = KeyWordSettings.CLS_METRICS\n",
    "outfolder_per_fold = os.path.join(secondary_log_folder, \"Fold_%s\" % fold_idx)\n",
    "if not os.path.exists(outfolder_per_fold):\n",
    "    os.mkdir(outfolder_per_fold)\n",
    "logfolder_result_per_fold = os.path.join(outfolder_per_fold, \"result_%s.txt\" % int(seed))\n",
    "file_handler = FileHandlerFC()\n",
    "file_handler.init_log_files(logfolder_result_per_fold)\n",
    "# root =\"/content/drive/MyDrive/GET/formatted_data/declare/Snopes/mapped_data\"\n",
    "# ------------------------------------------------------------------------------------\n",
    "predict_pack = cls_load_data.load_data(root + \"/%sfold\" % num_folds,  'test_%s' % 0, kfolds = num_folds)\n",
    "train_pack = cls_load_data.load_data(root + \"/%sfold\" % num_folds, 'train_%sres' % 0, kfolds = num_folds)\n",
    "# predict_pack = cls_load_data.load_data(root + \"/%sfold\" % num_folds,  'testnew' , kfolds = num_folds)\n",
    "# train_pack = cls_load_data.load_data(root + \"/%sfold\" % num_folds, 'trainnew' , kfolds = num_folds)\n",
    "valid_pack = cls_load_data.load_data(root, 'dev', kfolds = num_folds)\n",
    "\n",
    "a = train_pack.left[\"text_left\"].str.lower().str.split().apply(len).max()\n",
    "b = valid_pack.left[\"text_left\"].str.lower().str.split().apply(len).max()\n",
    "c = predict_pack.left[\"text_left\"].str.lower().str.split().apply(len).max()\n",
    "max_query_length = max([a, b, c])\n",
    "min_query_length = min([a, b, c])\n",
    "\n",
    "a = train_pack.right[\"text_right\"].str.lower().str.split().apply(len).max()\n",
    "b = valid_pack.right[\"text_right\"].str.lower().str.split().apply(len).max()\n",
    "c = predict_pack.right[\"text_right\"].str.lower().str.split().apply(len).max()\n",
    "max_doc_length = max([a, b, c])\n",
    "min_doc_length = min([a, b, c])\n",
    "\n",
    "file_handler.myprint(\"Min query length, \" + str(min_query_length) + \" Min doc length \" + str(min_doc_length))\n",
    "file_handler.myprint(\"Max query length, \" + str(max_query_length) + \" Max doc length \" + str(max_doc_length))\n",
    "global additional_data\n",
    "additional_data = {KeyWordSettings.OutputHandlerFactChecking: file_handler,\n",
    "                    KeyWordSettings.GNN_Window: gnn_window_size}\n",
    "\n",
    "print('parsing data')\n",
    "\n",
    "train_processed = preprocessor.fit_transform(train_pack)  # This is a DataPack\n",
    "valid_processed = preprocessor.transform(valid_pack)\n",
    "predict_processed = preprocessor.transform(predict_pack)\n",
    "\n",
    "\n",
    "train_interactions = ClassificationInteractions(train_processed, **additional_data)\n",
    "valid_interactions = ClassificationInteractions(valid_processed, **additional_data)\n",
    "predict_interactions = ClassificationInteractions(predict_processed, **additional_data)\n",
    "file_handler.myprint('done extracting')\n",
    "  \n",
    "\n",
    "match_model = PropagationModel()\n",
    "\n",
    "file_handler.myprint(\"Fitting Model\")\n",
    "\n",
    "data = \"snope\" if dataset== \"Snopes\" else \"poli\"\n",
    "match_model = PropagationModel()\n",
    "fit_model = FittingModel(net = match_model,batch_size=batch_size, n_iter = epochs,idx_fold=0,\n",
    "                            threshold=0.8,data=data,output_handler_fact_checking = file_handler, \n",
    "                            use_cuda = 0,logfolder=outfolder_per_fold,seed=seed,early_stopping= 11)"
   ]
  },
  {
   "cell_type": "code",
   "execution_count": 12,
   "metadata": {},
   "outputs": [
    {
     "data": {
      "text/plain": [
       "torch.Size([3126, 3556])"
      ]
     },
     "execution_count": 12,
     "metadata": {},
     "output_type": "execute_result"
    }
   ],
   "source": [
    "fit_model.train_outputs.size()"
   ]
  },
  {
   "cell_type": "code",
   "execution_count": 13,
   "metadata": {},
   "outputs": [],
   "source": [
    "query_ids,pair_labels = fit_model._sampler.get_instance_new(train_interactions,100)"
   ]
  },
  {
   "cell_type": "code",
   "execution_count": 15,
   "metadata": {},
   "outputs": [
    {
     "data": {
      "text/plain": [
       "(3126,)"
      ]
     },
     "execution_count": 15,
     "metadata": {},
     "output_type": "execute_result"
    }
   ],
   "source": [
    "query_ids.shape"
   ]
  },
  {
   "cell_type": "code",
   "execution_count": 71,
   "metadata": {},
   "outputs": [],
   "source": [
    "query_2_vector = {} \n",
    "for i,id in enumerate(query_ids):\n",
    "    query_2_vector[id] = i\n",
    "id_b = np.array([query_2_vector[i] for i in query_ids ])\n",
    "# id_b,query_ids, pair_labels = my_utils.shuffle(id_b,query_ids, pair_labels)\n",
    "# all_labels = pair_labels.flatten().astype(int).tolist()\n",
    "\n",
    "# pair_labels = pair_labels.tolist()\n",
    "epoch_loss, total_pairs = 0.0, 0\n",
    "t1 = time.time()\n",
    "for (minibatch_num,\n",
    "        (batch_id,batch_label)) \\\n",
    "        in enumerate(my_utils.minibatch(id_b,pair_labels, batch_size=29)):\n",
    "    batch_label = my_utils.gpu(torch.from_numpy(batch_label), fit_model._use_cuda)\n",
    "    batch_id = my_utils.gpu(torch.from_numpy(batch_id), fit_model._use_cuda)\n",
    "    break"
   ]
  },
  {
   "cell_type": "code",
   "execution_count": 72,
   "metadata": {},
   "outputs": [],
   "source": [
    "old_id,x,edge_index = fit_model.get_graph(\"train\",batch_id,fit_model._threshold)"
   ]
  },
  {
   "cell_type": "code",
   "execution_count": 4,
   "metadata": {},
   "outputs": [],
   "source": [
    "from torch_geometric.nn.conv import GATConv, GATv2Conv"
   ]
  },
  {
   "cell_type": "code",
   "execution_count": 5,
   "metadata": {},
   "outputs": [],
   "source": [
    "class newModel(nn.Module):\n",
    "    def __init__(self):\n",
    "        super().__init__()\n",
    "        self.gat_conv = GATv2Conv(2, 2, heads=3, edge_dim=1)\n",
    "        self.dropout = nn.Dropout(p=0.4) \n",
    "        self.linear = nn.Linear(6,2)\n",
    "\n",
    "        self.linear.apply(my_utils.init_weights)\n",
    "    def forward(self,x,edge_index,old_id):\n",
    "        num_node = x.size(0)//11\n",
    "        x = self.gat_conv(x,edge_index)\n",
    "        x = self.dropout(x)\n",
    "        x = F.relu(x)\n",
    "        x = self.linear(x)\n",
    "        x = x.view(num_node,11,2)\n",
    "        x = torch.mean(x,dim=1)\n",
    "        return x\n",
    "    def predict(self,x,edge_index,old_id):\n",
    "        self.train(False)\n",
    "        x=  self(x,edge_index,old_id)\n",
    "        probs = F.softmax(x,dim=-1)\n",
    "        return probs"
   ]
  },
  {
   "cell_type": "code",
   "execution_count": 6,
   "metadata": {},
   "outputs": [
    {
     "ename": "NameError",
     "evalue": "name 'my_utils' is not defined",
     "output_type": "error",
     "traceback": [
      "\u001b[0;31m---------------------------------------------------------------------------\u001b[0m",
      "\u001b[0;31mNameError\u001b[0m                                 Traceback (most recent call last)",
      "Cell \u001b[0;32mIn[6], line 1\u001b[0m\n\u001b[0;32m----> 1\u001b[0m model \u001b[38;5;241m=\u001b[39m \u001b[43mnewModel\u001b[49m\u001b[43m(\u001b[49m\u001b[43m)\u001b[49m\n",
      "Cell \u001b[0;32mIn[5], line 8\u001b[0m, in \u001b[0;36mnewModel.__init__\u001b[0;34m(self)\u001b[0m\n\u001b[1;32m      5\u001b[0m \u001b[38;5;28mself\u001b[39m\u001b[38;5;241m.\u001b[39mdropout \u001b[38;5;241m=\u001b[39m nn\u001b[38;5;241m.\u001b[39mDropout(p\u001b[38;5;241m=\u001b[39m\u001b[38;5;241m0.4\u001b[39m) \n\u001b[1;32m      6\u001b[0m \u001b[38;5;28mself\u001b[39m\u001b[38;5;241m.\u001b[39mlinear \u001b[38;5;241m=\u001b[39m nn\u001b[38;5;241m.\u001b[39mLinear(\u001b[38;5;241m6\u001b[39m,\u001b[38;5;241m2\u001b[39m)\n\u001b[0;32m----> 8\u001b[0m \u001b[38;5;28mself\u001b[39m\u001b[38;5;241m.\u001b[39mlinear\u001b[38;5;241m.\u001b[39mapply(\u001b[43mmy_utils\u001b[49m\u001b[38;5;241m.\u001b[39minit_weights)\n",
      "\u001b[0;31mNameError\u001b[0m: name 'my_utils' is not defined"
     ]
    }
   ],
   "source": [
    "model = newModel()"
   ]
  },
  {
   "cell_type": "code",
   "execution_count": 76,
   "metadata": {},
   "outputs": [],
   "source": [
    "fit_model._net = model"
   ]
  },
  {
   "cell_type": "code",
   "execution_count": 77,
   "metadata": {},
   "outputs": [],
   "source": [
    "logits = fit_model._net(x,edge_index,old_id)"
   ]
  },
  {
   "cell_type": "code",
   "execution_count": 78,
   "metadata": {},
   "outputs": [
    {
     "data": {
      "text/plain": [
       "torch.Size([29, 2])"
      ]
     },
     "execution_count": 78,
     "metadata": {},
     "output_type": "execute_result"
    }
   ],
   "source": [
    "logits.size()"
   ]
  },
  {
   "cell_type": "code",
   "execution_count": 36,
   "metadata": {},
   "outputs": [],
   "source": [
    "x = torch.arange(352)"
   ]
  },
  {
   "cell_type": "code",
   "execution_count": 38,
   "metadata": {},
   "outputs": [],
   "source": [
    "x = x.view(32,11)"
   ]
  },
  {
   "cell_type": "code",
   "execution_count": 41,
   "metadata": {},
   "outputs": [
    {
     "data": {
      "text/plain": [
       "tensor([11, 12, 13, 14, 15, 16, 17, 18, 19, 20, 21])"
      ]
     },
     "execution_count": 41,
     "metadata": {},
     "output_type": "execute_result"
    }
   ],
   "source": [
    "x[1]\n"
   ]
  },
  {
   "cell_type": "code",
   "execution_count": 47,
   "metadata": {},
   "outputs": [],
   "source": [
    "import torch\n",
    "\n",
    "# Original tensor (assuming batch size 32, 1 node with 10 neighbors, feature dim 2)\n",
    "x = torch.randn(352, 2)\n",
    "\n",
    "# Number of nodes per graph (excluding the central node)\n",
    "num_neighbors = 10\n",
    "\n",
    "# Calculate the number of graphs in the batch\n",
    "num_graphs = x.size(0) // (1 + num_neighbors)  # Integer division for batch size\n",
    "\n",
    "# Reshape to separate features for each node within a graph\n",
    "x = x.view(num_graphs, 1 + num_neighbors, 2)"
   ]
  },
  {
   "cell_type": "code",
   "execution_count": 50,
   "metadata": {},
   "outputs": [
    {
     "data": {
      "text/plain": [
       "torch.Size([32, 11, 2])"
      ]
     },
     "execution_count": 50,
     "metadata": {},
     "output_type": "execute_result"
    }
   ],
   "source": [
    "\n",
    "x_old = x\n",
    "x_old.size()"
   ]
  },
  {
   "cell_type": "code",
   "execution_count": 58,
   "metadata": {},
   "outputs": [],
   "source": [
    "t = torch.mean(x_old[0],dim=0)"
   ]
  },
  {
   "cell_type": "code",
   "execution_count": 59,
   "metadata": {},
   "outputs": [
    {
     "data": {
      "text/plain": [
       "tensor([-0.1113,  0.3010])"
      ]
     },
     "execution_count": 59,
     "metadata": {},
     "output_type": "execute_result"
    }
   ],
   "source": [
    "t"
   ]
  },
  {
   "cell_type": "code",
   "execution_count": 51,
   "metadata": {},
   "outputs": [],
   "source": [
    "x = torch.mean(x,dim=1)"
   ]
  },
  {
   "cell_type": "code",
   "execution_count": 52,
   "metadata": {},
   "outputs": [
    {
     "data": {
      "text/plain": [
       "torch.Size([32, 2])"
      ]
     },
     "execution_count": 52,
     "metadata": {},
     "output_type": "execute_result"
    }
   ],
   "source": [
    "x.size()"
   ]
  },
  {
   "cell_type": "code",
   "execution_count": 54,
   "metadata": {},
   "outputs": [
    {
     "data": {
      "text/plain": [
       "tensor([-0.1113,  0.3010])"
      ]
     },
     "execution_count": 54,
     "metadata": {},
     "output_type": "execute_result"
    }
   ],
   "source": [
    "x[0]"
   ]
  },
  {
   "cell_type": "code",
   "execution_count": 34,
   "metadata": {},
   "outputs": [],
   "source": [
    "# Calculate average pool across nodes (excluding the central node)\n",
    "pooled_x = torch.mean(x[:, 1:], dim=1)  # Skip the first node (central node)\n"
   ]
  },
  {
   "cell_type": "code",
   "execution_count": 35,
   "metadata": {},
   "outputs": [
    {
     "data": {
      "text/plain": [
       "torch.Size([32, 2])"
      ]
     },
     "execution_count": 35,
     "metadata": {},
     "output_type": "execute_result"
    }
   ],
   "source": [
    "pooled_x.size()"
   ]
  },
  {
   "cell_type": "code",
   "execution_count": 33,
   "metadata": {},
   "outputs": [
    {
     "data": {
      "text/plain": [
       "torch.Size([32, 11, 2])"
      ]
     },
     "execution_count": 33,
     "metadata": {},
     "output_type": "execute_result"
    }
   ],
   "source": [
    "x.size()"
   ]
  },
  {
   "cell_type": "code",
   "execution_count": null,
   "metadata": {},
   "outputs": [],
   "source": []
  }
 ],
 "metadata": {
  "kernelspec": {
   "display_name": "Python 3",
   "language": "python",
   "name": "python3"
  },
  "language_info": {
   "codemirror_mode": {
    "name": "ipython",
    "version": 3
   },
   "file_extension": ".py",
   "mimetype": "text/x-python",
   "name": "python",
   "nbconvert_exporter": "python",
   "pygments_lexer": "ipython3",
   "version": "3.8.0"
  }
 },
 "nbformat": 4,
 "nbformat_minor": 2
}
