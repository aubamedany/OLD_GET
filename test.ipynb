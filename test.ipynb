{
 "cells": [
  {
   "cell_type": "code",
   "execution_count": 1,
   "metadata": {},
   "outputs": [
    {
     "name": "stderr",
     "output_type": "stream",
     "text": [
      "/Library/Frameworks/Python.framework/Versions/3.8/lib/python3.8/site-packages/tqdm/auto.py:21: TqdmWarning: IProgress not found. Please update jupyter and ipywidgets. See https://ipywidgets.readthedocs.io/en/stable/user_install.html\n",
      "  from .autonotebook import tqdm as notebook_tqdm\n"
     ]
    }
   ],
   "source": [
    "import sys\n",
    "# sys.path.insert(0, '../GET')\n",
    "\n",
    "\n",
    "from Models.FCWithEvidences import graph_based_semantic_structure\n",
    "from Fitting.FittingFC import char_man_fitter_query_repr1\n",
    "import time\n",
    "import json\n",
    "from interactions import ClassificationInteractions\n",
    "import matchzoo as mz\n",
    "from handlers import cls_load_data\n",
    "import argparse\n",
    "import random\n",
    "import numpy as np\n",
    "import torch\n",
    "import torch_utils\n",
    "import numpy as np\n",
    "import os\n",
    "import datetime\n",
    "from handlers.output_handler_FC import FileHandlerFC\n",
    "from Evaluation import mzEvaluator as evaluator\n",
    "from setting_keywords import KeyWordSettings\n",
    "from matchzoo.embedding import entity_embedding\n",
    "from Models.BiDAF.wrapper import GGNN, GGNN_with_GSL, Linear\n",
    "from thirdparty.two_branches_attention import *\n"
   ]
  },
  {
   "cell_type": "code",
   "execution_count": 2,
   "metadata": {},
   "outputs": [
    {
     "data": {
      "text/plain": [
       "<torch._C.Generator at 0x7fd960bc3ef0>"
      ]
     },
     "execution_count": 2,
     "metadata": {},
     "output_type": "execute_result"
    }
   ],
   "source": [
    "dataset=\"PolitiFact\"\n",
    "fixed_length_left=30\n",
    "fixed_length_right=100\n",
    "log=\"logs/testget\"\n",
    "loss_type=\"cross_entropy\"\n",
    "batch_size=32\n",
    "num_folds=5\n",
    "use_claim_source=1\n",
    "use_article_source=1\n",
    "path=\"formatted_data/declare/\"\n",
    "hidden_size=300\n",
    "epochs=100\n",
    "num_att_heads_for_words=3\n",
    "num_att_heads_for_evds=1\n",
    "gnn_window_size=3\n",
    "lr=0.0001\n",
    "gnn_dropout=0.2\n",
    "seed=123456\n",
    "gsl_rate=0.6\n",
    "fixed_length_left_src_chars = 20\n",
    "fixed_length_right_src_chars = 20\n",
    "seed = 123456\n",
    "random.seed(seed)\n",
    "np.random.seed(seed)\n",
    "torch.manual_seed(seed)"
   ]
  },
  {
   "cell_type": "code",
   "execution_count": 3,
   "metadata": {},
   "outputs": [],
   "source": [
    "preprocessor = mz.preprocessors.CharManPreprocessor(fixed_length_left = fixed_length_left,\n",
    "                                                    fixed_length_right = fixed_length_right,\n",
    "                                                    fixed_length_left_src = fixed_length_left_src_chars,\n",
    "                                                    fixed_length_right_src = fixed_length_right_src_chars)"
   ]
  },
  {
   "cell_type": "code",
   "execution_count": 4,
   "metadata": {},
   "outputs": [
    {
     "name": "stderr",
     "output_type": "stream",
     "text": [
      "100%|██████████| 5468/5468 [00:00<00:00, 47873.37it/s]\n",
      "100%|██████████| 5468/5468 [00:00<00:00, 486260.03it/s]\n",
      "100%|██████████| 20980/20980 [00:00<00:00, 49503.29it/s]\n",
      "100%|██████████| 20980/20980 [00:00<00:00, 516966.57it/s]\n",
      "100%|██████████| 3108/3108 [00:00<00:00, 49004.37it/s]\n",
      "100%|██████████| 3108/3108 [00:00<00:00, 500475.94it/s]\n"
     ]
    },
    {
     "name": "stdout",
     "output_type": "stream",
     "text": [
      "Min query length, 23 Min doc length 100\n",
      "Max query length, 25 Max doc length 100\n",
      "parsing data\n"
     ]
    },
    {
     "name": "stderr",
     "output_type": "stream",
     "text": [
      "Processing text_left with chain_transform of Tokenize => Lowercase => PuncRemoval: 100%|██████████| 2568/2568 [00:00<00:00, 7121.25it/s]\n",
      "Processing text_right with chain_transform of Tokenize => Lowercase => PuncRemoval: 100%|██████████| 20980/20980 [00:10<00:00, 1912.82it/s]\n",
      "Processing text_left with extend: 100%|██████████| 2568/2568 [00:00<00:00, 577222.54it/s]\n",
      "Processing text_right with extend: 100%|██████████| 20980/20980 [00:00<00:00, 475821.35it/s]\n",
      "Building Vocabulary from a datapack.: 100%|██████████| 2108798/2108798 [00:00<00:00, 2768811.26it/s]\n",
      "Processing text_right with extend: 100%|██████████| 2568/2568 [00:00<00:00, 640557.40it/s]\n",
      "Building Entities Vocabulary from a datapack.: 100%|██████████| 2568/2568 [00:00<00:00, 2694090.21it/s]\n",
      "Processing text_right with extend: 100%|██████████| 20980/20980 [00:00<00:00, 711427.75it/s]\n",
      "Building Entities Vocabulary from a datapack.: 100%|██████████| 20980/20980 [00:00<00:00, 2781354.63it/s]\n",
      "Processing text_right with extend: 100%|██████████| 2568/2568 [00:00<00:00, 366958.73it/s]\n",
      "Processing text_right with extend: 100%|██████████| 20980/20980 [00:00<00:00, 392752.09it/s]\n",
      "Building Characters Vocabulary from a datapack.: 100%|██████████| 316008/316008 [00:00<00:00, 3009285.13it/s]\n",
      "Processing text_right with extend: 100%|██████████| 2568/2568 [00:00<00:00, 433928.48it/s]\n",
      "Processing text_right with extend: 100%|██████████| 2568/2568 [00:00<00:00, 215574.67it/s]\n",
      "Processing text_right with extend: 100%|██████████| 2568/2568 [00:00<00:00, 118058.76it/s]\n",
      "Processing text_right with extend: 100%|██████████| 20980/20980 [00:00<00:00, 460249.58it/s]\n",
      "Processing text_right with extend: 100%|██████████| 20980/20980 [00:00<00:00, 220097.99it/s]\n",
      "Processing text_right with extend: 100%|██████████| 20980/20980 [00:00<00:00, 61300.58it/s]\n",
      "Processing text_left with chain_transform of Tokenize => Lowercase => PuncRemoval: 100%|██████████| 2568/2568 [00:00<00:00, 7237.86it/s]\n",
      "Processing text_right with chain_transform of Tokenize => Lowercase => PuncRemoval: 100%|██████████| 20980/20980 [00:11<00:00, 1893.86it/s]\n",
      "Processing text_left with transform: 100%|██████████| 2568/2568 [00:00<00:00, 108034.91it/s]\n",
      "Processing text_right with transform: 100%|██████████| 20980/20980 [00:00<00:00, 35000.97it/s]\n",
      "Processing length_left with len: 100%|██████████| 2568/2568 [00:00<00:00, 675592.59it/s]\n",
      "Processing length_right with len: 100%|██████████| 20980/20980 [00:00<00:00, 725026.76it/s]\n",
      "Processing text_left with transform: 100%|██████████| 2568/2568 [00:00<00:00, 118916.41it/s]\n",
      "Processing text_right with transform: 100%|██████████| 20980/20980 [00:00<00:00, 43506.93it/s]\n",
      "Processing text_right with transform: 100%|██████████| 356/356 [00:00<00:00, 336755.12it/s]\n",
      "Processing text_right with transform: 100%|██████████| 356/356 [00:00<00:00, 158494.03it/s]\n",
      "Processing text_right with transform: 100%|██████████| 356/356 [00:00<00:00, 112624.24it/s]\n",
      "Processing text_right with transform: 100%|██████████| 3108/3108 [00:00<00:00, 434935.83it/s]\n",
      "Processing text_right with transform: 100%|██████████| 3108/3108 [00:00<00:00, 222634.14it/s]\n",
      "Processing text_right with transform: 100%|██████████| 3108/3108 [00:00<00:00, 109857.38it/s]\n",
      "Processing text_left with chain_transform of Tokenize => Lowercase => PuncRemoval: 100%|██████████| 356/356 [00:00<00:00, 6994.21it/s]\n",
      "Processing text_right with chain_transform of Tokenize => Lowercase => PuncRemoval: 100%|██████████| 3108/3108 [00:01<00:00, 1944.37it/s]\n",
      "Processing text_left with transform: 100%|██████████| 356/356 [00:00<00:00, 143961.84it/s]\n",
      "Processing text_right with transform: 100%|██████████| 3108/3108 [00:00<00:00, 29886.92it/s]\n",
      "Processing length_left with len: 100%|██████████| 356/356 [00:00<00:00, 377922.61it/s]\n",
      "Processing length_right with len: 100%|██████████| 3108/3108 [00:00<00:00, 673167.92it/s]\n",
      "Processing text_left with transform: 100%|██████████| 356/356 [00:00<00:00, 98319.10it/s]\n",
      "Processing text_right with transform: 100%|██████████| 3108/3108 [00:00<00:00, 44923.79it/s]\n",
      "Processing text_right with transform: 100%|██████████| 644/644 [00:00<00:00, 376884.58it/s]\n",
      "Processing text_right with transform: 100%|██████████| 644/644 [00:00<00:00, 184579.18it/s]\n",
      "Processing text_right with transform: 100%|██████████| 644/644 [00:00<00:00, 105196.55it/s]\n",
      "Processing text_right with transform: 100%|██████████| 5468/5468 [00:00<00:00, 33802.40it/s]\n",
      "Processing text_right with transform: 100%|██████████| 5468/5468 [00:00<00:00, 225057.20it/s]\n",
      "Processing text_right with transform: 100%|██████████| 5468/5468 [00:00<00:00, 114929.71it/s]\n",
      "Processing text_left with chain_transform of Tokenize => Lowercase => PuncRemoval: 100%|██████████| 644/644 [00:00<00:00, 7311.86it/s]\n",
      "Processing text_right with chain_transform of Tokenize => Lowercase => PuncRemoval: 100%|██████████| 5468/5468 [00:02<00:00, 1859.99it/s]\n",
      "Processing text_left with transform: 100%|██████████| 644/644 [00:00<00:00, 116433.11it/s]\n",
      "Processing text_right with transform: 100%|██████████| 5468/5468 [00:00<00:00, 35448.20it/s]\n",
      "Processing length_left with len: 100%|██████████| 644/644 [00:00<00:00, 531823.54it/s]\n",
      "Processing length_right with len: 100%|██████████| 5468/5468 [00:00<00:00, 721481.51it/s]\n",
      "Processing text_left with transform: 100%|██████████| 644/644 [00:00<00:00, 116182.71it/s]\n",
      "Processing text_right with transform: 100%|██████████| 5468/5468 [00:00<00:00, 40447.99it/s]"
     ]
    },
    {
     "name": "stdout",
     "output_type": "stream",
     "text": [
      "Converting DataFrame to Normal Dictionary of Data\n",
      "[NOTICE] MatchZoo use queryID and docID as index in dataframe left and right, therefore, iterrows will return index which is left_id or right_id\n"
     ]
    },
    {
     "name": "stderr",
     "output_type": "stream",
     "text": [
      "\n",
      "/Users/namle/Desktop/GET/interactions.py:15: RuntimeWarning: divide by zero encountered in power\n",
      "  d_inv_sqrt = np.power(rowsum, -0.5).flatten()\n"
     ]
    },
    {
     "name": "stdout",
     "output_type": "stream",
     "text": [
      "[NOTICE] MatchZoo use queryID and docID as index in dataframe left and right, therefore, iterrows will return index which is left_id or right_id\n",
      "Converting DataFrame to Normal Dictionary of Data\n",
      "[NOTICE] MatchZoo use queryID and docID as index in dataframe left and right, therefore, iterrows will return index which is left_id or right_id\n",
      "[NOTICE] MatchZoo use queryID and docID as index in dataframe left and right, therefore, iterrows will return index which is left_id or right_id\n",
      "Converting DataFrame to Normal Dictionary of Data\n",
      "[NOTICE] MatchZoo use queryID and docID as index in dataframe left and right, therefore, iterrows will return index which is left_id or right_id\n",
      "[NOTICE] MatchZoo use queryID and docID as index in dataframe left and right, therefore, iterrows will return index which is left_id or right_id\n",
      "done extracting\n"
     ]
    }
   ],
   "source": [
    "dataset=\"PolitiFact\"\n",
    "fixed_length_left=30\n",
    "fixed_length_right=100\n",
    "log=\"logs/get\"\n",
    "batch_size=32\n",
    "gnn_window_size=3\n",
    "fold_idx=0\n",
    "if not os.path.exists(log):\n",
    "      os.mkdir(log)\n",
    "secondary_log_folder = os.path.join(log, \"log_results_%s\" % (dataset))\n",
    "if not os.path.exists(secondary_log_folder):\n",
    "  os.mkdir(secondary_log_folder)\n",
    "secondary_log_folder = secondary_log_folder\n",
    "root = os.path.join(os.path.join(path,dataset), \"mapped_data\")\n",
    "tx = time.time()\n",
    "kfold_dev_results, kfold_test_results = [], []\n",
    "list_metrics = KeyWordSettings.CLS_METRICS\n",
    "outfolder_per_fold = os.path.join(secondary_log_folder, \"Fold_%s\" % fold_idx)\n",
    "if not os.path.exists(outfolder_per_fold):\n",
    "    os.mkdir(outfolder_per_fold)\n",
    "logfolder_result_per_fold = os.path.join(outfolder_per_fold, \"result_%s.txt\" % int(seed))\n",
    "file_handler = FileHandlerFC()\n",
    "file_handler.init_log_files(logfolder_result_per_fold)\n",
    "# root =\"/content/drive/MyDrive/GET/formatted_data/declare/Snopes/mapped_data\"\n",
    "# ------------------------------------------------------------------------------------\n",
    "predict_pack = cls_load_data.load_data(root + \"/%sfold\" % num_folds,  'test_%sres' % 0, kfolds = num_folds)\n",
    "train_pack = cls_load_data.load_data(root + \"/%sfold\" % num_folds, 'train_%sres' % 0, kfolds = num_folds)\n",
    "# predict_pack = cls_load_data.load_data(root + \"/%sfold\" % num_folds,  'testnew' , kfolds = num_folds)\n",
    "# train_pack = cls_load_data.load_data(root + \"/%sfold\" % num_folds, 'trainnew' , kfolds = num_folds)\n",
    "valid_pack = cls_load_data.load_data(root, 'dev', kfolds = num_folds)\n",
    "\n",
    "a = train_pack.left[\"text_left\"].str.lower().str.split().apply(len).max()\n",
    "b = valid_pack.left[\"text_left\"].str.lower().str.split().apply(len).max()\n",
    "c = predict_pack.left[\"text_left\"].str.lower().str.split().apply(len).max()\n",
    "max_query_length = max([a, b, c])\n",
    "min_query_length = min([a, b, c])\n",
    "\n",
    "a = train_pack.right[\"text_right\"].str.lower().str.split().apply(len).max()\n",
    "b = valid_pack.right[\"text_right\"].str.lower().str.split().apply(len).max()\n",
    "c = predict_pack.right[\"text_right\"].str.lower().str.split().apply(len).max()\n",
    "max_doc_length = max([a, b, c])\n",
    "min_doc_length = min([a, b, c])\n",
    "\n",
    "file_handler.myprint(\"Min query length, \" + str(min_query_length) + \" Min doc length \" + str(min_doc_length))\n",
    "file_handler.myprint(\"Max query length, \" + str(max_query_length) + \" Max doc length \" + str(max_doc_length))\n",
    "global additional_data\n",
    "additional_data = {KeyWordSettings.OutputHandlerFactChecking: file_handler,\n",
    "                    KeyWordSettings.GNN_Window: gnn_window_size}\n",
    "\n",
    "print('parsing data')\n",
    "\n",
    "train_processed = preprocessor.fit_transform(train_pack)  # This is a DataPack\n",
    "valid_processed = preprocessor.transform(valid_pack)\n",
    "predict_processed = preprocessor.transform(predict_pack)\n",
    "\n",
    "\n",
    "train_interactions = ClassificationInteractions(train_processed, **additional_data)\n",
    "valid_interactions = ClassificationInteractions(valid_processed, **additional_data)\n",
    "predict_interactions = ClassificationInteractions(predict_processed, **additional_data)\n",
    "file_handler.myprint('done extracting')\n",
    "  "
   ]
  },
  {
   "cell_type": "code",
   "execution_count": 5,
   "metadata": {},
   "outputs": [
    {
     "name": "stdout",
     "output_type": "stream",
     "text": [
      "Loading word embeddings......\n",
      "Word hit: (25195, 32228) 78.17736130073229\n",
      "Time to load word embeddings...... 3.1675171852111816\n"
     ]
    }
   ],
   "source": [
    "print(\"Loading word embeddings......\")\n",
    "t1_emb = time.time()\n",
    "term_index = preprocessor.context['vocab_unit'].state['term_index']\n",
    "glove_embedding = mz.datasets.embeddings.load_glove_embedding_FC(dimension = 300,\n",
    "                                                                  term_index = term_index, **additional_data)\n",
    "\n",
    "embedding_matrix = glove_embedding.build_matrix(term_index)\n",
    "entity_embs1 = entity_embedding.EntityEmbedding(128)\n",
    "claim_src_embs_matrix = entity_embs1.build_matrix(preprocessor.context['claim_source_unit'].state['term_index'])\n",
    "\n",
    "entity_embs2 = entity_embedding.EntityEmbedding(128)\n",
    "article_src_embs_matrix = entity_embs2.build_matrix(preprocessor.context['article_source_unit'].state['term_index'])\n",
    "\n",
    "t2_emb = time.time()\n",
    "print(\"Time to load word embeddings......\", (t2_emb - t1_emb))"
   ]
  },
  {
   "cell_type": "code",
   "execution_count": 6,
   "metadata": {},
   "outputs": [],
   "source": [
    "match_params = {}\n",
    "match_params['embedding'] = embedding_matrix\n",
    "match_params[\"num_classes\"] = 2\n",
    "match_params[\"fixed_length_right\"] = 100\n",
    "match_params[\"fixed_length_left\"] = 30\n",
    "\n",
    "# for claim source\n",
    "match_params[\"use_claim_source\"] = use_claim_source\n",
    "match_params[\"claim_source_embeddings\"] = claim_src_embs_matrix\n",
    "# for article source\n",
    "match_params[\"use_article_source\"] = use_article_source\n",
    "match_params[\"article_source_embeddings\"] = article_src_embs_matrix\n",
    "# multi-head attention\n",
    "match_params[\"cuda\"] = 0\n",
    "match_params[\"num_att_heads_for_words\"] = num_att_heads_for_words  # first level\n",
    "match_params[\"num_att_heads_for_evds\"] = num_att_heads_for_evds  # second level\n",
    "\n",
    "\n",
    "match_params['dropout_gnn'] = 0.2\n",
    "match_params[\"dropout_left\"] = 0.2\n",
    "match_params[\"dropout_right\"] = 0.2\n",
    "match_params[\"hidden_size\"] = hidden_size\n",
    "\n",
    "match_params[\"gsl_rate\"] = 0.6\n",
    "\n",
    "match_params[\"embedding_freeze\"] = True\n",
    "match_params[\"output_size\"] = 2 # if args.dataset == \"Snopes\" else 3\n",
    "match_model = graph_based_semantic_structure.Graph_basedSemantiStructure(match_params)\n",
    "match_model.load_state_dict(torch.load(\"/Users/namle/Desktop/GET/saved_model_123456\",map_location=torch.device('cpu')))\n",
    "import datetime\n",
    "from handlers.output_handler_FC import FileHandlerFC\n",
    "loss_type = 'cross_entropy'\n",
    "epochs = 100\n",
    "batch_size = 32\n",
    "lr = 0.001\n",
    "early_stopping = 10\n",
    "outfolder_per_fold = \"logs/get/log_results_PolitiFact/Fold_10\"\n",
    "curr_date = datetime.datetime.now().timestamp()\n",
    "fixed_num_evidences = 30\n",
    "file_handler = FileHandlerFC()\n",
    "seed = 123756\n",
    "fit_model = char_man_fitter_query_repr1.CharManFitterQueryRepr1(net = match_model, loss = loss_type, n_iter = epochs,\n",
    "                                                  batch_size = batch_size, learning_rate = lr,\n",
    "                                                  early_stopping = early_stopping, use_cuda = 0,\n",
    "                                                  logfolder = outfolder_per_fold, curr_date = curr_date,\n",
    "                                                  fixed_num_evidences = fixed_num_evidences,\n",
    "                                                  output_handler_fact_checking = file_handler, seed=seed,\n",
    "                                                  output_size=match_params[\"output_size\"],args=\"args\")"
   ]
  },
  {
   "cell_type": "code",
   "execution_count": 7,
   "metadata": {},
   "outputs": [],
   "source": [
    "def normalize_matrix(matrix):\n",
    "    max_val = torch.max(matrix)\n",
    "    min_val = torch.min(matrix)\n",
    "    normalized_matrix = (matrix - min_val) / (max_val - min_val)\n",
    "    return normalized_matrix\n",
    "\n",
    "def adjacency_matrix_from_matrix(matrix, threshold):\n",
    "    normalized_matrix = normalize_matrix(matrix)\n",
    "    size = normalized_matrix.shape[0]\n",
    "    adjacency_matrix = np.zeros((size, size), dtype=int)\n",
    "\n",
    "    for i in range(size):\n",
    "        for j in range(size):\n",
    "            if normalized_matrix[i][j] >= threshold:\n",
    "                adjacency_matrix[i][j] = 1\n",
    "                adjacency_matrix[j][i] = 1  # Uncomment if the graph is undirected\n",
    "\n",
    "    return adjacency_matrix"
   ]
  },
  {
   "cell_type": "code",
   "execution_count": 8,
   "metadata": {},
   "outputs": [],
   "source": [
    "def calculate_energy(logit, T=1):\n",
    "    energy = - T * torch.logsumexp(logit / T, dim=-1)\n",
    "    return energy\n",
    "\n",
    "def calculate_adjacency_matrix(output):\n",
    "    A = output @ output.T\n",
    "    return A\n",
    "\n",
    "def create_adjacency_matrix(A, threshold=0.5):\n",
    "    adjacency_graph = adjacency_matrix_from_matrix(A, threshold)\n",
    "    return adjacency_graph\n",
    "\n",
    "def propagate_labels(adjacency_graph, batch_labels):\n",
    "    mask = np.random.randint(2, size=batch_labels.shape)\n",
    "    Y_propagation = np.array(batch_labels * (1 - mask))\n",
    "    score = adjacency_graph @ Y_propagation\n",
    "    return score"
   ]
  },
  {
   "cell_type": "code",
   "execution_count": 29,
   "metadata": {},
   "outputs": [],
   "source": [
    "size = 30\n",
    "cuda = False\n",
    "import interactions\n",
    "import torch_utils as my_utils\n",
    "energy_train_full = torch.tensor([])\n",
    "energy_train_ind = torch.tensor([])\n",
    "energy_train_ood  = torch.tensor([])\n",
    "energy_test_full  = torch.tensor([])\n",
    "energy_test_ind = torch.tensor([])\n",
    "energy_test_ood = torch.tensor([])\n",
    "energy_full = torch.tensor([])\n",
    "prob_logit = torch.tensor([])\n",
    "# interactions: interactions.ClassificationInteractions\n",
    "query_ind_idx =[]\n",
    "query_ood_idx = []\n",
    "import gc\n",
    "\n",
    "\n",
    "def get_energy():\n",
    "  query_ids, left_contents, left_lengths, query_sources, query_char_sources, query_adj, \\\n",
    "            evd_docs_ids, evd_docs_contents, evd_docs_lens, evd_sources, evd_cnt_each_query, evd_char_sources, \\\n",
    "            pair_labels, evd_docs_adj = fit_model._sampler.get_train_instances_char_man(train_interactions,fit_model.fixed_num_evidences)\n",
    "\n",
    "  for i in range(pair_labels.shape[0]):\n",
    "    if pair_labels[i] == 1:\n",
    "        query_ind_idx.append(i)\n",
    "    else:\n",
    "        query_ood_idx.append(i)\n",
    "  logits = torch.tensor([])\n",
    "  outputs = torch.tensor([])\n",
    "  E = torch.tensor([])\n",
    "  with torch.no_grad():\n",
    "\n",
    "    for (minibatch_num,\n",
    "                  (batch_query, batch_query_content, batch_query_len, batch_query_sources, batch_query_chr_src,\n",
    "                    batch_query_adj, batch_evd_docs, batch_evd_contents, batch_evd_lens, batch_evd_sources,\n",
    "                    # i.e. claim source\n",
    "                    batch_evd_cnt_each_query, batch_evd_chr_src, batch_labels, batch_evd_docs_adj)) \\\n",
    "                      in enumerate(my_utils.minibatch(query_ids, left_contents, left_lengths, query_sources,\n",
    "                                                      query_char_sources, query_adj,\n",
    "                                                      evd_docs_ids, evd_docs_contents, evd_docs_lens, evd_sources,\n",
    "                                                      evd_cnt_each_query, evd_char_sources, pair_labels, evd_docs_adj,\n",
    "                                                      batch_size=32)):\n",
    "        batch_query = my_utils.gpu(torch.from_numpy(batch_query), cuda)\n",
    "        batch_query_content = my_utils.gpu(torch.from_numpy(batch_query_content), cuda)\n",
    "        # batch_query_len = my_utils.gpu(torch.from_numpy(batch_query_len), self._use_cuda)\n",
    "        batch_query_sources = my_utils.gpu(torch.from_numpy(batch_query_sources), cuda)\n",
    "        batch_query_chr_src = my_utils.gpu(torch.from_numpy(batch_query_chr_src), cuda)\n",
    "        batch_query_adj = my_utils.gpu(torch.from_numpy(batch_query_adj), cuda)\n",
    "\n",
    "        batch_evd_docs = my_utils.gpu(torch.from_numpy(batch_evd_docs), cuda)\n",
    "        batch_evd_contents = my_utils.gpu(torch.from_numpy(batch_evd_contents), cuda)\n",
    "        # batch_evd_lens = my_utils.gpu(torch.from_numpy(batch_evd_lens), self._use_cuda)\n",
    "        batch_evd_sources = my_utils.gpu(torch.from_numpy(batch_evd_sources), cuda)\n",
    "        batch_evd_cnt_each_query = my_utils.gpu(torch.from_numpy(batch_evd_cnt_each_query), cuda)\n",
    "        batch_evd_chr_src = my_utils.gpu(torch.from_numpy(batch_evd_chr_src), cuda)\n",
    "\n",
    "        batch_labels = my_utils.gpu(torch.from_numpy(batch_labels), cuda)\n",
    "        batch_evd_docs_adj = my_utils.gpu(torch.from_numpy(batch_evd_docs_adj), cuda)\n",
    "        # total_pairs += self._batch_size * self.\n",
    "        additional_data = {KeyWordSettings.EvidenceCountPerQuery: batch_evd_cnt_each_query,\n",
    "                            KeyWordSettings.FCClass.QueryCharSource: batch_query_chr_src,\n",
    "                            KeyWordSettings.FCClass.DocCharSource: batch_evd_chr_src,\n",
    "                            KeyWordSettings.Query_Adj: batch_query_adj,\n",
    "                            KeyWordSettings.Evd_Docs_Adj: batch_evd_docs_adj}\n",
    "        n=30\n",
    "        evd_count_per_query = batch_evd_cnt_each_query  # (B, )\n",
    "        query_char_source = batch_query_chr_src\n",
    "        doc_char_source = batch_evd_chr_src\n",
    "        query_adj = batch_query_adj\n",
    "        evd_docs_adj = batch_evd_docs_adj\n",
    "        _, L = batch_query_content.size()\n",
    "        batch_size = batch_query.size(0)\n",
    "        # prunning at this step to remove padding\\\n",
    "        e_lens, e_conts, q_conts, q_lens, e_adj = [], [], [], [], []\n",
    "        e_chr_src_conts = []\n",
    "        expaned_labels = []\n",
    "        for evd_cnt, q_cont, q_len, evd_lens, evd_doc_cont, evd_chr_src, label, evd_adj in \\\n",
    "                zip(evd_count_per_query, batch_query_content, batch_query_len,\n",
    "                    batch_evd_lens, batch_evd_contents, doc_char_source, batch_labels, evd_docs_adj):\n",
    "            evd_cnt = int(torch_utils.cpu(evd_cnt).detach().numpy())\n",
    "            e_lens.extend(list(evd_lens[:evd_cnt]))\n",
    "            e_conts.append(evd_doc_cont[:evd_cnt, :])  # stacking later\n",
    "            e_adj.append(evd_adj[:evd_cnt])\n",
    "            e_chr_src_conts.append(evd_chr_src[:evd_cnt, :])\n",
    "            q_lens.extend([q_len] * evd_cnt)\n",
    "            q_conts.append(q_cont.unsqueeze(0).expand(evd_cnt, L))\n",
    "            expaned_labels.extend([int(torch_utils.cpu(label).detach().numpy())] * evd_cnt)\n",
    "        # concat\n",
    "        e_conts = torch.cat(e_conts, dim=0)  # (n1 + n2 + ..., R)\n",
    "        e_chr_src_conts = torch.cat(e_chr_src_conts, dim=0)  # (n1 + n2 + ... , R)\n",
    "        e_adj = torch.cat(e_adj, dim=0)     # (n1 + n2 + ..., R, R)\n",
    "        e_lens = np.array(e_lens)  # (n1 + n2 + ..., )\n",
    "        q_conts = torch.cat(q_conts, dim=0)  # (n1 + n2 + ..., R)\n",
    "        q_lens = np.array(q_lens)\n",
    "        assert q_conts.size(0) == q_lens.shape[0] == e_conts.size(0) == e_lens.shape[0]\n",
    "\n",
    "        d_new_indices, d_old_indices = torch_utils.get_sorted_index_and_reverse_index(e_lens)\n",
    "        e_lens = my_utils.gpu(torch.from_numpy(e_lens), cuda)\n",
    "        x = batch_query_len\n",
    "        q_new_indices, q_restoring_indices = torch_utils.get_sorted_index_and_reverse_index(x)\n",
    "        x = my_utils.gpu(torch.from_numpy(x), cuda)\n",
    "        # query_lens = my_utils.gpu(torch.from_numpy(query_lens), self._use_cuda)\n",
    "\n",
    "        additional_paramters = {\n",
    "            KeyWordSettings.Query_lens: x,  # 每一个query长度\n",
    "            KeyWordSettings.Doc_lens: batch_evd_lens,\n",
    "            KeyWordSettings.DocLensIndices: (d_new_indices, d_old_indices, e_lens),\n",
    "            KeyWordSettings.QueryLensIndices: (q_new_indices, q_restoring_indices, x),\n",
    "            KeyWordSettings.QuerySources: batch_query_sources,\n",
    "            KeyWordSettings.DocSources: batch_evd_sources,\n",
    "            KeyWordSettings.TempLabel: batch_labels,\n",
    "            KeyWordSettings.DocContentNoPaddingEvidence: e_conts,\n",
    "            KeyWordSettings.QueryContentNoPaddingEvidence: q_conts,\n",
    "            KeyWordSettings.EvidenceCountPerQuery: evd_count_per_query,\n",
    "            KeyWordSettings.FCClass.QueryCharSource: query_char_source,  # (B, 1, L)\n",
    "            KeyWordSettings.FCClass.DocCharSource: e_chr_src_conts,\n",
    "            KeyWordSettings.FIXED_NUM_EVIDENCES: n,\n",
    "            KeyWordSettings.Query_Adj: query_adj,\n",
    "            KeyWordSettings.Evd_Docs_Adj: e_adj                       # flatten->(n1 + n2 ..., R, R)\n",
    "        }\n",
    "        query_repr = fit_model._net._generate_query_repr_gnn(batch_query_content, **additional_paramters)\n",
    "        logit = match_model.predict(batch_query_content, batch_evd_contents, **additional_paramters)\n",
    "        energy = calculate_energy(logit, 1)\n",
    "        E = torch.cat((E, energy), dim=0)\n",
    "        \n",
    "        # Combine the score with the logit\n",
    "        \n",
    "        logits = torch.cat((logits,logit),dim = 0)\n",
    "        \n",
    "  return logits,E\n",
    "logits,energy_train = get_energy()\n",
    "\n",
    "# prob_logit = torch.cat((prob_logit,logits),dim = 0)\n",
    "# energy_full = torch.cat((energy_full, energy_train), dim=0)"
   ]
  },
  {
   "cell_type": "code",
   "execution_count": 28,
   "metadata": {},
   "outputs": [],
   "source": [
    "energy_predict = energy_train\n",
    "logits_predict = logits"
   ]
  },
  {
   "cell_type": "code",
   "execution_count": 30,
   "metadata": {},
   "outputs": [],
   "source": [
    "logits_train = logits"
   ]
  },
  {
   "cell_type": "code",
   "execution_count": 26,
   "metadata": {},
   "outputs": [
    {
     "data": {
      "text/plain": [
       "torch.Size([644])"
      ]
     },
     "execution_count": 26,
     "metadata": {},
     "output_type": "execute_result"
    }
   ],
   "source": []
  },
  {
   "cell_type": "code",
   "execution_count": 27,
   "metadata": {},
   "outputs": [
    {
     "data": {
      "text/plain": [
       "torch.Size([644, 2])"
      ]
     },
     "execution_count": 27,
     "metadata": {},
     "output_type": "execute_result"
    }
   ],
   "source": [
    "logits.size()"
   ]
  },
  {
   "cell_type": "code",
   "execution_count": 18,
   "metadata": {},
   "outputs": [],
   "source": [
    "import numpy as np\n",
    "import matplotlib.pyplot as plt\n",
    "from scipy.stats import kde"
   ]
  },
  {
   "cell_type": "code",
   "execution_count": 19,
   "metadata": {},
   "outputs": [],
   "source": [
    "def plot_kde(data, x_label, title):\n",
    "  kde_obj = kde.gaussian_kde(data)\n",
    "\n",
    "  x_grid = np.linspace(data.min(), data.max(), 400)\n",
    "  density = kde_obj(x_grid)\n",
    "\n",
    "  plt.plot(x_grid, density, label='KDE')\n",
    "\n",
    "  plt.xlabel(x_label)\n",
    "  plt.ylabel('Density')\n",
    "  plt.title(title)\n",
    "  plt.grid(True)\n",
    "  plt.show()"
   ]
  },
  {
   "cell_type": "code",
   "execution_count": 20,
   "metadata": {},
   "outputs": [
    {
     "name": "stderr",
     "output_type": "stream",
     "text": [
      "/var/folders/s1/ttyz18893hn76tz48dhzp9cr0000gn/T/ipykernel_37399/198493470.py:1: DeprecationWarning: Please use `gaussian_kde` from the `scipy.stats` namespace, the `scipy.stats.kde` namespace is deprecated.\n",
      "  kde_obj_ind = kde.gaussian_kde(energy_train.detach().numpy()[query_ind_idx])\n",
      "/var/folders/s1/ttyz18893hn76tz48dhzp9cr0000gn/T/ipykernel_37399/198493470.py:6: DeprecationWarning: Please use `gaussian_kde` from the `scipy.stats` namespace, the `scipy.stats.kde` namespace is deprecated.\n",
      "  kde_obj_ood = kde.gaussian_kde(energy_train.detach().numpy()[query_ood_idx])\n"
     ]
    },
    {
     "data": {
      "image/png": "[encoded data removed]",
      "text/plain": [
       "<Figure size 640x480 with 1 Axes>"
      ]
     },
     "metadata": {},
     "output_type": "display_data"
    }
   ],
   "source": [
    "\n",
    "kde_obj_ind = kde.gaussian_kde(energy_train.detach().numpy()[query_ind_idx])\n",
    "\n",
    "x_ind = np.linspace(energy_train.detach().numpy()[query_ind_idx].min(), energy_train.detach().numpy()[query_ind_idx].max(), 400)\n",
    "density_ind = kde_obj_ind(x_ind)\n",
    "plt.plot(x_ind, density_ind, label='ind')\n",
    "kde_obj_ood = kde.gaussian_kde(energy_train.detach().numpy()[query_ood_idx])\n",
    "\n",
    "x_ood = np.linspace(energy_train.detach().numpy()[query_ood_idx].min(), energy_train.detach().numpy()[query_ood_idx].max(), 400)\n",
    "\n",
    "density_ood = kde_obj_ood(x_ood)\n",
    "\n",
    "plt.plot(x_ood, density_ood, label='ood')\n",
    "\n",
    "# Set labels and title.\n",
    "# plt.xlabel(x_label)\n",
    "# plt.ylabel('Density')\n",
    "# plt.title(title)\n",
    "plt.legend()\n",
    "plt.grid(True)\n",
    "plt.show()"
   ]
  },
  {
   "cell_type": "code",
   "execution_count": 43,
   "metadata": {},
   "outputs": [],
   "source": [
    "query_ids, left_contents, left_lengths, query_sources, query_char_sources, query_adj, \\\n",
    "            evd_docs_ids, evd_docs_contents, evd_docs_lens, evd_sources, evd_cnt_each_query, evd_char_sources, \\\n",
    "            pair_labels, evd_docs_adj = fit_model._sampler.get_train_instances_char_man(train_interactions,fit_model.fixed_num_evidences)"
   ]
  },
  {
   "cell_type": "code",
   "execution_count": 44,
   "metadata": {},
   "outputs": [],
   "source": [
    "Y_train = pair_labels"
   ]
  },
  {
   "cell_type": "code",
   "execution_count": 46,
   "metadata": {},
   "outputs": [],
   "source": [
    "from sklearn.ensemble import RandomForestClassifier"
   ]
  },
  {
   "cell_type": "code",
   "execution_count": 34,
   "metadata": {},
   "outputs": [
    {
     "data": {
      "text/plain": [
       "torch.Size([644])"
      ]
     },
     "execution_count": 34,
     "metadata": {},
     "output_type": "execute_result"
    }
   ],
   "source": [
    "energy_predict.size()\n"
   ]
  },
  {
   "cell_type": "code",
   "execution_count": 47,
   "metadata": {},
   "outputs": [],
   "source": [
    "logits_predict = np.array(logits_predict)"
   ]
  },
  {
   "cell_type": "code",
   "execution_count": 48,
   "metadata": {},
   "outputs": [],
   "source": [
    "logits_train = np.array(logits_train)"
   ]
  },
  {
   "cell_type": "code",
   "execution_count": 58,
   "metadata": {},
   "outputs": [],
   "source": [
    "energy_train= np.array(energy_train).reshape(-1,1)"
   ]
  },
  {
   "cell_type": "code",
   "execution_count": 59,
   "metadata": {},
   "outputs": [],
   "source": [
    "energy_predict = np.array(energy_predict).reshape(-1,1)"
   ]
  },
  {
   "cell_type": "code",
   "execution_count": 41,
   "metadata": {},
   "outputs": [],
   "source": [
    "Y_predict = pair_labels"
   ]
  },
  {
   "cell_type": "code",
   "execution_count": 45,
   "metadata": {},
   "outputs": [
    {
     "data": {
      "text/plain": [
       "(2568,)"
      ]
     },
     "execution_count": 45,
     "metadata": {},
     "output_type": "execute_result"
    }
   ],
   "source": [
    "Y_train.shape"
   ]
  },
  {
   "cell_type": "code",
   "execution_count": 56,
   "metadata": {},
   "outputs": [
    {
     "data": {
      "text/plain": [
       "(2568, 2)"
      ]
     },
     "execution_count": 56,
     "metadata": {},
     "output_type": "execute_result"
    }
   ],
   "source": [
    "logits_train.shape"
   ]
  },
  {
   "cell_type": "code",
   "execution_count": 60,
   "metadata": {},
   "outputs": [
    {
     "data": {
      "text/plain": [
       "(2568, 1)"
      ]
     },
     "execution_count": 60,
     "metadata": {},
     "output_type": "execute_result"
    }
   ],
   "source": [
    "energy_train.shape"
   ]
  },
  {
   "cell_type": "code",
   "execution_count": 61,
   "metadata": {},
   "outputs": [],
   "source": [
    "X_train = np.concatenate((logits_train,energy_train),axis=-1)"
   ]
  },
  {
   "cell_type": "code",
   "execution_count": 62,
   "metadata": {},
   "outputs": [],
   "source": [
    "X_predict = np.concatenate((logits_predict,energy_predict),axis=-1)"
   ]
  },
  {
   "cell_type": "code",
   "execution_count": 63,
   "metadata": {},
   "outputs": [],
   "source": [
    "clf = RandomForestClassifier(n_estimators=100, random_state=42)"
   ]
  },
  {
   "cell_type": "code",
   "execution_count": 64,
   "metadata": {},
   "outputs": [
    {
     "data": {
      "text/html": [
       "<style>#sk-container-id-1 {color: black;}#sk-container-id-1 pre{padding: 0;}#sk-container-id-1 div.sk-toggleable {background-color: white;}#sk-container-id-1 label.sk-toggleable__label {cursor: pointer;display: block;width: 100%;margin-bottom: 0;padding: 0.3em;box-sizing: border-box;text-align: center;}#sk-container-id-1 label.sk-toggleable__label-arrow:before {content: \"▸\";float: left;margin-right: 0.25em;color: #696969;}#sk-container-id-1 label.sk-toggleable__label-arrow:hover:before {color: black;}#sk-container-id-1 div.sk-estimator:hover label.sk-toggleable__label-arrow:before {color: black;}#sk-container-id-1 div.sk-toggleable__content {max-height: 0;max-width: 0;overflow: hidden;text-align: left;background-color: #f0f8ff;}#sk-container-id-1 div.sk-toggleable__content pre {margin: 0.2em;color: black;border-radius: 0.25em;background-color: #f0f8ff;}#sk-container-id-1 input.sk-toggleable__control:checked~div.sk-toggleable__content {max-height: 200px;max-width: 100%;overflow: auto;}#sk-container-id-1 input.sk-toggleable__control:checked~label.sk-toggleable__label-arrow:before {content: \"▾\";}#sk-container-id-1 div.sk-estimator input.sk-toggleable__control:checked~label.sk-toggleable__label {background-color: #d4ebff;}#sk-container-id-1 div.sk-label input.sk-toggleable__control:checked~label.sk-toggleable__label {background-color: #d4ebff;}#sk-container-id-1 input.sk-hidden--visually {border: 0;clip: rect(1px 1px 1px 1px);clip: rect(1px, 1px, 1px, 1px);height: 1px;margin: -1px;overflow: hidden;padding: 0;position: absolute;width: 1px;}#sk-container-id-1 div.sk-estimator {font-family: monospace;background-color: #f0f8ff;border: 1px dotted black;border-radius: 0.25em;box-sizing: border-box;margin-bottom: 0.5em;}#sk-container-id-1 div.sk-estimator:hover {background-color: #d4ebff;}#sk-container-id-1 div.sk-parallel-item::after {content: \"\";width: 100%;border-bottom: 1px solid gray;flex-grow: 1;}#sk-container-id-1 div.sk-label:hover label.sk-toggleable__label {background-color: #d4ebff;}#sk-container-id-1 div.sk-serial::before {content: \"\";position: absolute;border-left: 1px solid gray;box-sizing: border-box;top: 0;bottom: 0;left: 50%;z-index: 0;}#sk-container-id-1 div.sk-serial {display: flex;flex-direction: column;align-items: center;background-color: white;padding-right: 0.2em;padding-left: 0.2em;position: relative;}#sk-container-id-1 div.sk-item {position: relative;z-index: 1;}#sk-container-id-1 div.sk-parallel {display: flex;align-items: stretch;justify-content: center;background-color: white;position: relative;}#sk-container-id-1 div.sk-item::before, #sk-container-id-1 div.sk-parallel-item::before {content: \"\";position: absolute;border-left: 1px solid gray;box-sizing: border-box;top: 0;bottom: 0;left: 50%;z-index: -1;}#sk-container-id-1 div.sk-parallel-item {display: flex;flex-direction: column;z-index: 1;position: relative;background-color: white;}#sk-container-id-1 div.sk-parallel-item:first-child::after {align-self: flex-end;width: 50%;}#sk-container-id-1 div.sk-parallel-item:last-child::after {align-self: flex-start;width: 50%;}#sk-container-id-1 div.sk-parallel-item:only-child::after {width: 0;}#sk-container-id-1 div.sk-dashed-wrapped {border: 1px dashed gray;margin: 0 0.4em 0.5em 0.4em;box-sizing: border-box;padding-bottom: 0.4em;background-color: white;}#sk-container-id-1 div.sk-label label {font-family: monospace;font-weight: bold;display: inline-block;line-height: 1.2em;}#sk-container-id-1 div.sk-label-container {text-align: center;}#sk-container-id-1 div.sk-container {/* jupyter's `normalize.less` sets `[hidden] { display: none; }` but bootstrap.min.css set `[hidden] { display: none !important; }` so we also need the `!important` here to be able to override the default hidden behavior on the sphinx rendered scikit-learn.org. See: https://github.com/scikit-learn/scikit-learn/issues/21755 */display: inline-block !important;position: relative;}#sk-container-id-1 div.sk-text-repr-fallback {display: none;}</style><div id=\"sk-container-id-1\" class=\"sk-top-container\"><div class=\"sk-text-repr-fallback\"><pre>RandomForestClassifier(random_state=42)</pre><b>In a Jupyter environment, please rerun this cell to show the HTML representation or trust the notebook. <br />On GitHub, the HTML representation is unable to render, please try loading this page with nbviewer.org.</b></div><div class=\"sk-container\" hidden><div class=\"sk-item\"><div class=\"sk-estimator sk-toggleable\"><input class=\"sk-toggleable__control sk-hidden--visually\" id=\"sk-estimator-id-1\" type=\"checkbox\" checked><label for=\"sk-estimator-id-1\" class=\"sk-toggleable__label sk-toggleable__label-arrow\">RandomForestClassifier</label><div class=\"sk-toggleable__content\"><pre>RandomForestClassifier(random_state=42)</pre></div></div></div></div></div>"
      ],
      "text/plain": [
       "RandomForestClassifier(random_state=42)"
      ]
     },
     "execution_count": 64,
     "metadata": {},
     "output_type": "execute_result"
    }
   ],
   "source": [
    "clf.fit(X_train,Y_train)"
   ]
  },
  {
   "cell_type": "code",
   "execution_count": 65,
   "metadata": {},
   "outputs": [],
   "source": [
    "y_valid = clf.predict(X_predict)"
   ]
  },
  {
   "cell_type": "code",
   "execution_count": 66,
   "metadata": {},
   "outputs": [],
   "source": [
    "from sklearn.metrics import accuracy_score"
   ]
  },
  {
   "cell_type": "code",
   "execution_count": 67,
   "metadata": {},
   "outputs": [
    {
     "name": "stdout",
     "output_type": "stream",
     "text": [
      "Accuracy: 0.5419254658385093\n"
     ]
    }
   ],
   "source": [
    "accuracy = accuracy_score(Y_predict, y_valid)\n",
    "print(\"Accuracy:\", accuracy)"
   ]
  },
  {
   "cell_type": "code",
   "execution_count": null,
   "metadata": {},
   "outputs": [],
   "source": []
  }
 ],
 "metadata": {
  "kernelspec": {
   "display_name": "Python 3",
   "language": "python",
   "name": "python3"
  },
  "language_info": {
   "codemirror_mode": {
    "name": "ipython",
    "version": 3
   },
   "file_extension": ".py",
   "mimetype": "text/x-python",
   "name": "python",
   "nbconvert_exporter": "python",
   "pygments_lexer": "ipython3",
   "version": "3.8.0"
  }
 },
 "nbformat": 4,
 "nbformat_minor": 2
}
